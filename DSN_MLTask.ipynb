{
 "cells": [
  {
   "cell_type": "markdown",
   "id": "9840288e",
   "metadata": {},
   "source": [
    "# DSN Machine Learning task for Bootcamp Challenge 2023\n",
    "## By Akinyemi Titobioluwa"
   ]
  },
  {
   "cell_type": "markdown",
   "id": "1d8ffedb",
   "metadata": {},
   "source": [
    "### Objectives of the Project\n",
    "  #### Wazobia Real Estate Limited is a prominent real estate company operating in Nigeria. With a vast portfolio of properties, they strive to provide accurate and competitive pricing for houses. However, they have been facing challenges in accurately predicting the prices of houses in the current market.\n",
    "  #### The objective of this hackathon is to create a powerful and accurate predictive model that can estimate the prices of houses in Nigeria. By leveraging the provided dataset, I analyzed various factors that impact house prices, identified meaningful patterns, and built a model that can generate reliable price predictions. The ultimate goal is to provide Wazobia Real Estate Limited with an effective tool to make informed pricing decisions and enhance their competitiveness in the market."
   ]
  },
  {
   "cell_type": "markdown",
   "id": "04865c7c",
   "metadata": {},
   "source": [
    "## Loading the Data for Analysis"
   ]
  },
  {
   "cell_type": "code",
   "execution_count": 1,
   "id": "5902c3d1",
   "metadata": {},
   "outputs": [],
   "source": [
    "# import libraries\n",
    "import pandas as pd\n",
    "import numpy as np\n",
    "import seaborn as sns\n",
    "import matplotlib.pyplot as plt\n"
   ]
  },
  {
   "cell_type": "code",
   "execution_count": 2,
   "id": "a442f3d3",
   "metadata": {
    "scrolled": true
   },
   "outputs": [
    {
     "data": {
      "text/html": [
       "<div>\n",
       "<style scoped>\n",
       "    .dataframe tbody tr th:only-of-type {\n",
       "        vertical-align: middle;\n",
       "    }\n",
       "\n",
       "    .dataframe tbody tr th {\n",
       "        vertical-align: top;\n",
       "    }\n",
       "\n",
       "    .dataframe thead th {\n",
       "        text-align: right;\n",
       "    }\n",
       "</style>\n",
       "<table border=\"1\" class=\"dataframe\">\n",
       "  <thead>\n",
       "    <tr style=\"text-align: right;\">\n",
       "      <th></th>\n",
       "      <th>ID</th>\n",
       "      <th>loc</th>\n",
       "      <th>title</th>\n",
       "      <th>bedroom</th>\n",
       "      <th>bathroom</th>\n",
       "      <th>parking_space</th>\n",
       "    </tr>\n",
       "  </thead>\n",
       "  <tbody>\n",
       "    <tr>\n",
       "      <th>0</th>\n",
       "      <td>845</td>\n",
       "      <td>Kano</td>\n",
       "      <td>Penthouse</td>\n",
       "      <td>4</td>\n",
       "      <td>1</td>\n",
       "      <td>2</td>\n",
       "    </tr>\n",
       "    <tr>\n",
       "      <th>1</th>\n",
       "      <td>1924</td>\n",
       "      <td>Adamawa</td>\n",
       "      <td>Apartment</td>\n",
       "      <td>2</td>\n",
       "      <td>2</td>\n",
       "      <td>4</td>\n",
       "    </tr>\n",
       "  </tbody>\n",
       "</table>\n",
       "</div>"
      ],
      "text/plain": [
       "     ID      loc      title  bedroom  bathroom  parking_space\n",
       "0   845     Kano  Penthouse        4         1              2\n",
       "1  1924  Adamawa  Apartment        2         2              4"
      ]
     },
     "metadata": {},
     "output_type": "display_data"
    },
    {
     "data": {
      "text/html": [
       "<div>\n",
       "<style scoped>\n",
       "    .dataframe tbody tr th:only-of-type {\n",
       "        vertical-align: middle;\n",
       "    }\n",
       "\n",
       "    .dataframe tbody tr th {\n",
       "        vertical-align: top;\n",
       "    }\n",
       "\n",
       "    .dataframe thead th {\n",
       "        text-align: right;\n",
       "    }\n",
       "</style>\n",
       "<table border=\"1\" class=\"dataframe\">\n",
       "  <thead>\n",
       "    <tr style=\"text-align: right;\">\n",
       "      <th></th>\n",
       "      <th>ID</th>\n",
       "      <th>loc</th>\n",
       "      <th>title</th>\n",
       "      <th>bedroom</th>\n",
       "      <th>bathroom</th>\n",
       "      <th>parking_space</th>\n",
       "      <th>price</th>\n",
       "    </tr>\n",
       "  </thead>\n",
       "  <tbody>\n",
       "    <tr>\n",
       "      <th>0</th>\n",
       "      <td>3583</td>\n",
       "      <td>Katsina</td>\n",
       "      <td>Semi-detached duplex</td>\n",
       "      <td>2.0</td>\n",
       "      <td>2.0</td>\n",
       "      <td>1.0</td>\n",
       "      <td>1149999.565</td>\n",
       "    </tr>\n",
       "    <tr>\n",
       "      <th>1</th>\n",
       "      <td>2748</td>\n",
       "      <td>Ondo</td>\n",
       "      <td>Apartment</td>\n",
       "      <td>NaN</td>\n",
       "      <td>2.0</td>\n",
       "      <td>4.0</td>\n",
       "      <td>1672416.689</td>\n",
       "    </tr>\n",
       "  </tbody>\n",
       "</table>\n",
       "</div>"
      ],
      "text/plain": [
       "     ID      loc                 title  bedroom  bathroom  parking_space  \\\n",
       "0  3583  Katsina  Semi-detached duplex      2.0       2.0            1.0   \n",
       "1  2748     Ondo             Apartment      NaN       2.0            4.0   \n",
       "\n",
       "         price  \n",
       "0  1149999.565  \n",
       "1  1672416.689  "
      ]
     },
     "metadata": {},
     "output_type": "display_data"
    },
    {
     "data": {
      "text/html": [
       "<div>\n",
       "<style scoped>\n",
       "    .dataframe tbody tr th:only-of-type {\n",
       "        vertical-align: middle;\n",
       "    }\n",
       "\n",
       "    .dataframe tbody tr th {\n",
       "        vertical-align: top;\n",
       "    }\n",
       "\n",
       "    .dataframe thead th {\n",
       "        text-align: right;\n",
       "    }\n",
       "</style>\n",
       "<table border=\"1\" class=\"dataframe\">\n",
       "  <thead>\n",
       "    <tr style=\"text-align: right;\">\n",
       "      <th></th>\n",
       "      <th>ID</th>\n",
       "    </tr>\n",
       "  </thead>\n",
       "  <tbody>\n",
       "    <tr>\n",
       "      <th>0</th>\n",
       "      <td>845</td>\n",
       "    </tr>\n",
       "    <tr>\n",
       "      <th>1</th>\n",
       "      <td>1924</td>\n",
       "    </tr>\n",
       "  </tbody>\n",
       "</table>\n",
       "</div>"
      ],
      "text/plain": [
       "     ID\n",
       "0   845\n",
       "1  1924"
      ]
     },
     "metadata": {},
     "output_type": "display_data"
    }
   ],
   "source": [
    "#loading all the datasets\n",
    "test= pd.read_csv('Housing_dataset_test.csv')\n",
    "train= pd.read_csv('Housing_dataset_train.csv')\n",
    "sample_df= pd.read_csv('Sample_submission.csv')\n",
    "\n",
    "#displaying the dataframes\n",
    "display(test_df.head(2))\n",
    "display(train_df.head(2))\n",
    "display(sample_df.head(2))"
   ]
  },
  {
   "cell_type": "code",
   "execution_count": 36,
   "id": "bbc1239e",
   "metadata": {},
   "outputs": [
    {
     "data": {
      "text/html": [
       "<div>\n",
       "<style scoped>\n",
       "    .dataframe tbody tr th:only-of-type {\n",
       "        vertical-align: middle;\n",
       "    }\n",
       "\n",
       "    .dataframe tbody tr th {\n",
       "        vertical-align: top;\n",
       "    }\n",
       "\n",
       "    .dataframe thead th {\n",
       "        text-align: right;\n",
       "    }\n",
       "</style>\n",
       "<table border=\"1\" class=\"dataframe\">\n",
       "  <thead>\n",
       "    <tr style=\"text-align: right;\">\n",
       "      <th></th>\n",
       "      <th>ID</th>\n",
       "      <th>bedroom</th>\n",
       "      <th>bathroom</th>\n",
       "      <th>parking_space</th>\n",
       "      <th>price</th>\n",
       "    </tr>\n",
       "  </thead>\n",
       "  <tbody>\n",
       "    <tr>\n",
       "      <th>count</th>\n",
       "      <td>10531.000000</td>\n",
       "      <td>10531.000000</td>\n",
       "      <td>10531.000000</td>\n",
       "      <td>10531.000000</td>\n",
       "      <td>1.053100e+04</td>\n",
       "    </tr>\n",
       "    <tr>\n",
       "      <th>mean</th>\n",
       "      <td>4868.685405</td>\n",
       "      <td>4.243567</td>\n",
       "      <td>2.980629</td>\n",
       "      <td>3.137879</td>\n",
       "      <td>2.127767e+06</td>\n",
       "    </tr>\n",
       "    <tr>\n",
       "      <th>std</th>\n",
       "      <td>3815.291331</td>\n",
       "      <td>2.239808</td>\n",
       "      <td>1.903165</td>\n",
       "      <td>1.468627</td>\n",
       "      <td>1.069676e+06</td>\n",
       "    </tr>\n",
       "    <tr>\n",
       "      <th>min</th>\n",
       "      <td>0.000000</td>\n",
       "      <td>1.000000</td>\n",
       "      <td>1.000000</td>\n",
       "      <td>1.000000</td>\n",
       "      <td>4.319673e+05</td>\n",
       "    </tr>\n",
       "    <tr>\n",
       "      <th>25%</th>\n",
       "      <td>1683.500000</td>\n",
       "      <td>3.000000</td>\n",
       "      <td>2.000000</td>\n",
       "      <td>2.000000</td>\n",
       "      <td>1.391271e+06</td>\n",
       "    </tr>\n",
       "    <tr>\n",
       "      <th>50%</th>\n",
       "      <td>3536.000000</td>\n",
       "      <td>4.000000</td>\n",
       "      <td>2.000000</td>\n",
       "      <td>3.000000</td>\n",
       "      <td>1.888006e+06</td>\n",
       "    </tr>\n",
       "    <tr>\n",
       "      <th>75%</th>\n",
       "      <td>8006.500000</td>\n",
       "      <td>5.000000</td>\n",
       "      <td>4.000000</td>\n",
       "      <td>4.000000</td>\n",
       "      <td>2.571146e+06</td>\n",
       "    </tr>\n",
       "    <tr>\n",
       "      <th>max</th>\n",
       "      <td>12999.000000</td>\n",
       "      <td>9.000000</td>\n",
       "      <td>7.000000</td>\n",
       "      <td>6.000000</td>\n",
       "      <td>1.656849e+07</td>\n",
       "    </tr>\n",
       "  </tbody>\n",
       "</table>\n",
       "</div>"
      ],
      "text/plain": [
       "                 ID       bedroom      bathroom  parking_space         price\n",
       "count  10531.000000  10531.000000  10531.000000   10531.000000  1.053100e+04\n",
       "mean    4868.685405      4.243567      2.980629       3.137879  2.127767e+06\n",
       "std     3815.291331      2.239808      1.903165       1.468627  1.069676e+06\n",
       "min        0.000000      1.000000      1.000000       1.000000  4.319673e+05\n",
       "25%     1683.500000      3.000000      2.000000       2.000000  1.391271e+06\n",
       "50%     3536.000000      4.000000      2.000000       3.000000  1.888006e+06\n",
       "75%     8006.500000      5.000000      4.000000       4.000000  2.571146e+06\n",
       "max    12999.000000      9.000000      7.000000       6.000000  1.656849e+07"
      ]
     },
     "execution_count": 36,
     "metadata": {},
     "output_type": "execute_result"
    }
   ],
   "source": [
    "train_df.describe()"
   ]
  },
  {
   "cell_type": "markdown",
   "id": "7ad738b5",
   "metadata": {},
   "source": [
    "## Basic Analysis of train and test dataframe\n"
   ]
  },
  {
   "cell_type": "code",
   "execution_count": null,
   "id": "b1015326",
   "metadata": {},
   "outputs": [],
   "source": [
    "#creating copies of fataframes for this analysis section\n",
    "\n",
    "test_df= test.copy()\n",
    "train_df= train.copy()"
   ]
  },
  {
   "cell_type": "code",
   "execution_count": 3,
   "id": "c7c4897c",
   "metadata": {},
   "outputs": [
    {
     "data": {
      "text/plain": [
       "((6000, 6), (14000, 7))"
      ]
     },
     "execution_count": 3,
     "metadata": {},
     "output_type": "execute_result"
    }
   ],
   "source": [
    "#viewing both dataframes\n",
    "test_df.shape, train_df.shape"
   ]
  },
  {
   "cell_type": "code",
   "execution_count": 4,
   "id": "82fff443",
   "metadata": {},
   "outputs": [
    {
     "data": {
      "text/plain": [
       "ID               0\n",
       "loc              0\n",
       "title            0\n",
       "bedroom          0\n",
       "bathroom         0\n",
       "parking_space    0\n",
       "dtype: int64"
      ]
     },
     "execution_count": 4,
     "metadata": {},
     "output_type": "execute_result"
    }
   ],
   "source": [
    "#checking for null values\n",
    "test_df.isna().sum()  "
   ]
  },
  {
   "cell_type": "code",
   "execution_count": 5,
   "id": "bb8c9855",
   "metadata": {
    "scrolled": false
   },
   "outputs": [
    {
     "data": {
      "text/plain": [
       "ID                  0\n",
       "loc              1813\n",
       "title            1722\n",
       "bedroom          1799\n",
       "bathroom         1805\n",
       "parking_space    1811\n",
       "price               0\n",
       "dtype: int64"
      ]
     },
     "execution_count": 5,
     "metadata": {},
     "output_type": "execute_result"
    }
   ],
   "source": [
    "train_df.isna().sum()"
   ]
  },
  {
   "cell_type": "markdown",
   "id": "69c87cc6",
   "metadata": {},
   "source": [
    "- I notice there are null values in all other columns but the id and price column in the train dataset"
   ]
  },
  {
   "cell_type": "code",
   "execution_count": 15,
   "id": "d19efa1b",
   "metadata": {},
   "outputs": [
    {
     "data": {
      "text/html": [
       "<div>\n",
       "<style scoped>\n",
       "    .dataframe tbody tr th:only-of-type {\n",
       "        vertical-align: middle;\n",
       "    }\n",
       "\n",
       "    .dataframe tbody tr th {\n",
       "        vertical-align: top;\n",
       "    }\n",
       "\n",
       "    .dataframe thead th {\n",
       "        text-align: right;\n",
       "    }\n",
       "</style>\n",
       "<table border=\"1\" class=\"dataframe\">\n",
       "  <thead>\n",
       "    <tr style=\"text-align: right;\">\n",
       "      <th></th>\n",
       "      <th>ID</th>\n",
       "      <th>loc</th>\n",
       "      <th>title</th>\n",
       "      <th>bedroom</th>\n",
       "      <th>bathroom</th>\n",
       "      <th>parking_space</th>\n",
       "      <th>price</th>\n",
       "    </tr>\n",
       "  </thead>\n",
       "  <tbody>\n",
       "    <tr>\n",
       "      <th>11864</th>\n",
       "      <td>2080</td>\n",
       "      <td>Borno</td>\n",
       "      <td>Flat</td>\n",
       "      <td>8.0</td>\n",
       "      <td>7.0</td>\n",
       "      <td>5.0</td>\n",
       "      <td>2.228516e+06</td>\n",
       "    </tr>\n",
       "    <tr>\n",
       "      <th>3504</th>\n",
       "      <td>2756</td>\n",
       "      <td>Oyo</td>\n",
       "      <td>Apartment</td>\n",
       "      <td>5.0</td>\n",
       "      <td>NaN</td>\n",
       "      <td>2.0</td>\n",
       "      <td>1.721896e+06</td>\n",
       "    </tr>\n",
       "    <tr>\n",
       "      <th>408</th>\n",
       "      <td>8572</td>\n",
       "      <td>Cross River</td>\n",
       "      <td>Semi-detached duplex</td>\n",
       "      <td>3.0</td>\n",
       "      <td>NaN</td>\n",
       "      <td>5.0</td>\n",
       "      <td>1.908271e+06</td>\n",
       "    </tr>\n",
       "    <tr>\n",
       "      <th>8628</th>\n",
       "      <td>6027</td>\n",
       "      <td>Ogun</td>\n",
       "      <td>Apartment</td>\n",
       "      <td>1.0</td>\n",
       "      <td>2.0</td>\n",
       "      <td>6.0</td>\n",
       "      <td>1.172643e+06</td>\n",
       "    </tr>\n",
       "    <tr>\n",
       "      <th>4991</th>\n",
       "      <td>2070</td>\n",
       "      <td>Katsina</td>\n",
       "      <td>Detached duplex</td>\n",
       "      <td>7.0</td>\n",
       "      <td>6.0</td>\n",
       "      <td>3.0</td>\n",
       "      <td>2.735670e+06</td>\n",
       "    </tr>\n",
       "    <tr>\n",
       "      <th>11177</th>\n",
       "      <td>65</td>\n",
       "      <td>Nasarawa</td>\n",
       "      <td>Terrace duplex</td>\n",
       "      <td>2.0</td>\n",
       "      <td>1.0</td>\n",
       "      <td>4.0</td>\n",
       "      <td>1.364308e+06</td>\n",
       "    </tr>\n",
       "    <tr>\n",
       "      <th>4250</th>\n",
       "      <td>7409</td>\n",
       "      <td>Abia</td>\n",
       "      <td>Penthouse</td>\n",
       "      <td>6.0</td>\n",
       "      <td>2.0</td>\n",
       "      <td>NaN</td>\n",
       "      <td>2.484450e+06</td>\n",
       "    </tr>\n",
       "    <tr>\n",
       "      <th>8397</th>\n",
       "      <td>3498</td>\n",
       "      <td>Abia</td>\n",
       "      <td>Semi-detached duplex</td>\n",
       "      <td>1.0</td>\n",
       "      <td>NaN</td>\n",
       "      <td>1.0</td>\n",
       "      <td>9.209134e+05</td>\n",
       "    </tr>\n",
       "    <tr>\n",
       "      <th>8164</th>\n",
       "      <td>4066</td>\n",
       "      <td>Enugu</td>\n",
       "      <td>Penthouse</td>\n",
       "      <td>8.0</td>\n",
       "      <td>4.0</td>\n",
       "      <td>NaN</td>\n",
       "      <td>3.807458e+06</td>\n",
       "    </tr>\n",
       "    <tr>\n",
       "      <th>13621</th>\n",
       "      <td>1892</td>\n",
       "      <td>Lagos</td>\n",
       "      <td>NaN</td>\n",
       "      <td>2.0</td>\n",
       "      <td>1.0</td>\n",
       "      <td>4.0</td>\n",
       "      <td>4.137464e+06</td>\n",
       "    </tr>\n",
       "  </tbody>\n",
       "</table>\n",
       "</div>"
      ],
      "text/plain": [
       "         ID          loc                 title  bedroom  bathroom  \\\n",
       "11864  2080        Borno                  Flat      8.0       7.0   \n",
       "3504   2756          Oyo             Apartment      5.0       NaN   \n",
       "408    8572  Cross River  Semi-detached duplex      3.0       NaN   \n",
       "8628   6027         Ogun             Apartment      1.0       2.0   \n",
       "4991   2070      Katsina       Detached duplex      7.0       6.0   \n",
       "11177    65     Nasarawa        Terrace duplex      2.0       1.0   \n",
       "4250   7409         Abia             Penthouse      6.0       2.0   \n",
       "8397   3498         Abia  Semi-detached duplex      1.0       NaN   \n",
       "8164   4066        Enugu             Penthouse      8.0       4.0   \n",
       "13621  1892        Lagos                   NaN      2.0       1.0   \n",
       "\n",
       "       parking_space         price  \n",
       "11864            5.0  2.228516e+06  \n",
       "3504             2.0  1.721896e+06  \n",
       "408              5.0  1.908271e+06  \n",
       "8628             6.0  1.172643e+06  \n",
       "4991             3.0  2.735670e+06  \n",
       "11177            4.0  1.364308e+06  \n",
       "4250             NaN  2.484450e+06  \n",
       "8397             1.0  9.209134e+05  \n",
       "8164             NaN  3.807458e+06  \n",
       "13621            4.0  4.137464e+06  "
      ]
     },
     "execution_count": 15,
     "metadata": {},
     "output_type": "execute_result"
    }
   ],
   "source": [
    "# viewing more columns to see how the null values occur\n",
    "train_df.sample(10)"
   ]
  },
  {
   "cell_type": "markdown",
   "id": "c2471740",
   "metadata": {},
   "source": [
    "### Dealing with the missing values\n",
    "Upon dropping all null values initially, more than half of my dataset was removed. This is as a result of most na values \n",
    "The following will be carried out to handle null values.\n",
    "- Drop rows with null values in the string datatype fields.\n",
    "- Fill in the other fields' null values with an estimate of their column\n"
   ]
  },
  {
   "cell_type": "code",
   "execution_count": 6,
   "id": "52de885a",
   "metadata": {},
   "outputs": [
    {
     "data": {
      "text/plain": [
       "(10531, 7)"
      ]
     },
     "execution_count": 6,
     "metadata": {},
     "output_type": "execute_result"
    }
   ],
   "source": [
    "# dropping rows with null values in title and loc columns\n",
    "train_df= train_df.dropna(subset=['loc', 'title'])\n",
    "train_df.shape"
   ]
  },
  {
   "cell_type": "code",
   "execution_count": 8,
   "id": "a3047f0c",
   "metadata": {
    "scrolled": true
   },
   "outputs": [
    {
     "data": {
      "text/plain": [
       "ID                  0\n",
       "loc                 0\n",
       "title               0\n",
       "bedroom          1675\n",
       "bathroom         1672\n",
       "parking_space    1671\n",
       "price               0\n",
       "dtype: int64"
      ]
     },
     "execution_count": 8,
     "metadata": {},
     "output_type": "execute_result"
    }
   ],
   "source": [
    "train_df.isna().sum()"
   ]
  },
  {
   "cell_type": "code",
   "execution_count": 18,
   "id": "0463ee67",
   "metadata": {},
   "outputs": [
    {
     "data": {
      "text/plain": [
       "title\n",
       "Apartment               2.917175\n",
       "Bungalow                3.356624\n",
       "Cottage                 1.412821\n",
       "Detached duplex         3.015247\n",
       "Flat                    3.033841\n",
       "Mansion                 3.006222\n",
       "Penthouse               2.829556\n",
       "Semi-detached duplex    2.993822\n",
       "Terrace duplex          3.257534\n",
       "Townhouse               2.970149\n",
       "Name: bathroom, dtype: float64"
      ]
     },
     "execution_count": 18,
     "metadata": {},
     "output_type": "execute_result"
    }
   ],
   "source": [
    "#viewing the mean of bathroom column grouped by title\n",
    "train_df.groupby(['title'])['bathroom'].mean()\n"
   ]
  },
  {
   "cell_type": "code",
   "execution_count": 17,
   "id": "04a34f4b",
   "metadata": {
    "scrolled": true
   },
   "outputs": [
    {
     "data": {
      "text/plain": [
       "title\n",
       "Apartment               2.0\n",
       "Bungalow                3.0\n",
       "Cottage                 1.0\n",
       "Detached duplex         2.0\n",
       "Flat                    2.0\n",
       "Mansion                 2.0\n",
       "Penthouse               2.0\n",
       "Semi-detached duplex    2.0\n",
       "Terrace duplex          3.0\n",
       "Townhouse               2.0\n",
       "Name: bathroom, dtype: float64"
      ]
     },
     "execution_count": 17,
     "metadata": {},
     "output_type": "execute_result"
    }
   ],
   "source": [
    "#viewing the median against the mean of the bathroom column\n",
    "train_df.groupby(['title'])['bathroom'].median()\n",
    "\n"
   ]
  },
  {
   "cell_type": "code",
   "execution_count": 19,
   "id": "c4dd3499",
   "metadata": {
    "scrolled": true
   },
   "outputs": [
    {
     "data": {
      "text/plain": [
       "title      loc      \n",
       "Apartment  Abia         2.0\n",
       "           Adamawa      2.0\n",
       "           Akwa Ibom    2.0\n",
       "           Anambra      2.0\n",
       "           Bauchi       2.0\n",
       "                       ... \n",
       "Townhouse  Rivers       2.0\n",
       "           Sokoto       2.0\n",
       "           Taraba       2.0\n",
       "           Yobe         2.0\n",
       "           Zamfara      2.0\n",
       "Name: bathroom, Length: 360, dtype: float64"
      ]
     },
     "execution_count": 19,
     "metadata": {},
     "output_type": "execute_result"
    }
   ],
   "source": [
    "#viewing the median against the mean of the bathroom column\n",
    "# if it were to be grouped by both title and loc\n",
    "train_df.groupby(['title','loc' ])['bathroom'].median()\n",
    "\n"
   ]
  },
  {
   "cell_type": "markdown",
   "id": "4f2e1042",
   "metadata": {},
   "source": [
    "- The mode is a better means of aggregation. especially since the target column is skewed\n",
    "- also i choose to groupby only the title column since it doesn't affect the median values much."
   ]
  },
  {
   "cell_type": "code",
   "execution_count": 10,
   "id": "2012d3e2",
   "metadata": {},
   "outputs": [
    {
     "data": {
      "text/plain": [
       "ID               0\n",
       "loc              0\n",
       "title            0\n",
       "bedroom          0\n",
       "bathroom         0\n",
       "parking_space    0\n",
       "price            0\n",
       "dtype: int64"
      ]
     },
     "execution_count": 10,
     "metadata": {},
     "output_type": "execute_result"
    }
   ],
   "source": [
    "#defining the columns with null values \n",
    "columns_with_na= ['bedroom', 'bathroom', 'parking_space']\n",
    "\n",
    "#creating a loop to fill the null values\n",
    "#col_avg is the avg value of the column grouped by title\n",
    "# I'm filling null values with the median of the column\n",
    "for col in columns_with_na:\n",
    "    col_avg = train_df.groupby(['title'])[col].transform('median')\n",
    "    train_df[col]= train_df[col].fillna(col_avg)\n",
    "    \n",
    "#checking null values statistics once again\n",
    "train_df.isna().sum()"
   ]
  },
  {
   "cell_type": "code",
   "execution_count": 11,
   "id": "e3dae77e",
   "metadata": {
    "scrolled": true
   },
   "outputs": [
    {
     "data": {
      "text/html": [
       "<div>\n",
       "<style scoped>\n",
       "    .dataframe tbody tr th:only-of-type {\n",
       "        vertical-align: middle;\n",
       "    }\n",
       "\n",
       "    .dataframe tbody tr th {\n",
       "        vertical-align: top;\n",
       "    }\n",
       "\n",
       "    .dataframe thead th {\n",
       "        text-align: right;\n",
       "    }\n",
       "</style>\n",
       "<table border=\"1\" class=\"dataframe\">\n",
       "  <thead>\n",
       "    <tr style=\"text-align: right;\">\n",
       "      <th></th>\n",
       "      <th>ID</th>\n",
       "      <th>loc</th>\n",
       "      <th>title</th>\n",
       "      <th>bedroom</th>\n",
       "      <th>bathroom</th>\n",
       "      <th>parking_space</th>\n",
       "      <th>price</th>\n",
       "    </tr>\n",
       "  </thead>\n",
       "  <tbody>\n",
       "    <tr>\n",
       "      <th>0</th>\n",
       "      <td>3583</td>\n",
       "      <td>Katsina</td>\n",
       "      <td>Semi-detached duplex</td>\n",
       "      <td>2.0</td>\n",
       "      <td>2.0</td>\n",
       "      <td>1.0</td>\n",
       "      <td>1149999.565</td>\n",
       "    </tr>\n",
       "    <tr>\n",
       "      <th>1</th>\n",
       "      <td>2748</td>\n",
       "      <td>Ondo</td>\n",
       "      <td>Apartment</td>\n",
       "      <td>4.0</td>\n",
       "      <td>2.0</td>\n",
       "      <td>4.0</td>\n",
       "      <td>1672416.689</td>\n",
       "    </tr>\n",
       "    <tr>\n",
       "      <th>3</th>\n",
       "      <td>2224</td>\n",
       "      <td>Anambra</td>\n",
       "      <td>Detached duplex</td>\n",
       "      <td>5.0</td>\n",
       "      <td>2.0</td>\n",
       "      <td>4.0</td>\n",
       "      <td>2410306.756</td>\n",
       "    </tr>\n",
       "    <tr>\n",
       "      <th>4</th>\n",
       "      <td>10300</td>\n",
       "      <td>Kogi</td>\n",
       "      <td>Terrace duplex</td>\n",
       "      <td>4.0</td>\n",
       "      <td>5.0</td>\n",
       "      <td>6.0</td>\n",
       "      <td>2600700.898</td>\n",
       "    </tr>\n",
       "    <tr>\n",
       "      <th>5</th>\n",
       "      <td>1733</td>\n",
       "      <td>Borno</td>\n",
       "      <td>Mansion</td>\n",
       "      <td>4.0</td>\n",
       "      <td>1.0</td>\n",
       "      <td>3.0</td>\n",
       "      <td>1341750.867</td>\n",
       "    </tr>\n",
       "  </tbody>\n",
       "</table>\n",
       "</div>"
      ],
      "text/plain": [
       "      ID      loc                 title  bedroom  bathroom  parking_space  \\\n",
       "0   3583  Katsina  Semi-detached duplex      2.0       2.0            1.0   \n",
       "1   2748     Ondo             Apartment      4.0       2.0            4.0   \n",
       "3   2224  Anambra       Detached duplex      5.0       2.0            4.0   \n",
       "4  10300     Kogi        Terrace duplex      4.0       5.0            6.0   \n",
       "5   1733    Borno               Mansion      4.0       1.0            3.0   \n",
       "\n",
       "         price  \n",
       "0  1149999.565  \n",
       "1  1672416.689  \n",
       "3  2410306.756  \n",
       "4  2600700.898  \n",
       "5  1341750.867  "
      ]
     },
     "execution_count": 11,
     "metadata": {},
     "output_type": "execute_result"
    }
   ],
   "source": [
    "train_df.head()"
   ]
  },
  {
   "cell_type": "code",
   "execution_count": 20,
   "id": "70575fdd",
   "metadata": {},
   "outputs": [
    {
     "data": {
      "text/plain": [
       "ID               0\n",
       "loc              0\n",
       "title            0\n",
       "bedroom          0\n",
       "bathroom         0\n",
       "parking_space    0\n",
       "price            0\n",
       "dtype: int64"
      ]
     },
     "execution_count": 20,
     "metadata": {},
     "output_type": "execute_result"
    }
   ],
   "source": [
    "train_df.isna().sum()"
   ]
  },
  {
   "cell_type": "code",
   "execution_count": 21,
   "id": "8d73bb75",
   "metadata": {
    "scrolled": true
   },
   "outputs": [
    {
     "name": "stdout",
     "output_type": "stream",
     "text": [
      "<class 'pandas.core.frame.DataFrame'>\n",
      "Int64Index: 10531 entries, 0 to 13998\n",
      "Data columns (total 7 columns):\n",
      " #   Column         Non-Null Count  Dtype  \n",
      "---  ------         --------------  -----  \n",
      " 0   ID             10531 non-null  int64  \n",
      " 1   loc            10531 non-null  object \n",
      " 2   title          10531 non-null  object \n",
      " 3   bedroom        10531 non-null  float64\n",
      " 4   bathroom       10531 non-null  float64\n",
      " 5   parking_space  10531 non-null  float64\n",
      " 6   price          10531 non-null  float64\n",
      "dtypes: float64(4), int64(1), object(2)\n",
      "memory usage: 658.2+ KB\n"
     ]
    }
   ],
   "source": [
    "train_df.info()"
   ]
  },
  {
   "cell_type": "markdown",
   "id": "ac83191b",
   "metadata": {},
   "source": [
    "### Checking for duplicates"
   ]
  },
  {
   "cell_type": "code",
   "execution_count": 24,
   "id": "d4fe366b",
   "metadata": {},
   "outputs": [
    {
     "data": {
      "text/plain": [
       "0"
      ]
     },
     "execution_count": 24,
     "metadata": {},
     "output_type": "execute_result"
    }
   ],
   "source": [
    "#checking for duplicates\n",
    "train_df.duplicated().sum()"
   ]
  },
  {
   "cell_type": "code",
   "execution_count": 25,
   "id": "7591182b",
   "metadata": {},
   "outputs": [
    {
     "data": {
      "text/plain": [
       "2285"
      ]
     },
     "execution_count": 25,
     "metadata": {},
     "output_type": "execute_result"
    }
   ],
   "source": [
    "#checking id column duplicates\n",
    "train_df['ID'].duplicated().sum()"
   ]
  },
  {
   "cell_type": "markdown",
   "id": "5b5be9dc",
   "metadata": {},
   "source": [
    "- The id column has duplicates meaning it is not a unique key identifier\n"
   ]
  },
  {
   "cell_type": "code",
   "execution_count": 31,
   "id": "47777fa8",
   "metadata": {
    "scrolled": true
   },
   "outputs": [
    {
     "data": {
      "text/html": [
       "<div>\n",
       "<style scoped>\n",
       "    .dataframe tbody tr th:only-of-type {\n",
       "        vertical-align: middle;\n",
       "    }\n",
       "\n",
       "    .dataframe tbody tr th {\n",
       "        vertical-align: top;\n",
       "    }\n",
       "\n",
       "    .dataframe thead th {\n",
       "        text-align: right;\n",
       "    }\n",
       "</style>\n",
       "<table border=\"1\" class=\"dataframe\">\n",
       "  <thead>\n",
       "    <tr style=\"text-align: right;\">\n",
       "      <th></th>\n",
       "      <th>ID</th>\n",
       "      <th>loc</th>\n",
       "      <th>title</th>\n",
       "      <th>bedroom</th>\n",
       "      <th>bathroom</th>\n",
       "      <th>parking_space</th>\n",
       "      <th>price</th>\n",
       "    </tr>\n",
       "  </thead>\n",
       "  <tbody>\n",
       "    <tr>\n",
       "      <th>129</th>\n",
       "      <td>2745</td>\n",
       "      <td>Kaduna</td>\n",
       "      <td>Mansion</td>\n",
       "      <td>4.0</td>\n",
       "      <td>2.0</td>\n",
       "      <td>1.0</td>\n",
       "      <td>1438677.574</td>\n",
       "    </tr>\n",
       "    <tr>\n",
       "      <th>191</th>\n",
       "      <td>2340</td>\n",
       "      <td>Yobe</td>\n",
       "      <td>Bungalow</td>\n",
       "      <td>5.0</td>\n",
       "      <td>4.0</td>\n",
       "      <td>3.0</td>\n",
       "      <td>1612536.900</td>\n",
       "    </tr>\n",
       "    <tr>\n",
       "      <th>304</th>\n",
       "      <td>3436</td>\n",
       "      <td>Yobe</td>\n",
       "      <td>Cottage</td>\n",
       "      <td>5.0</td>\n",
       "      <td>1.0</td>\n",
       "      <td>2.0</td>\n",
       "      <td>1511831.546</td>\n",
       "    </tr>\n",
       "    <tr>\n",
       "      <th>359</th>\n",
       "      <td>1629</td>\n",
       "      <td>Nasarawa</td>\n",
       "      <td>Flat</td>\n",
       "      <td>5.0</td>\n",
       "      <td>1.0</td>\n",
       "      <td>1.0</td>\n",
       "      <td>1647903.197</td>\n",
       "    </tr>\n",
       "    <tr>\n",
       "      <th>393</th>\n",
       "      <td>404</td>\n",
       "      <td>Katsina</td>\n",
       "      <td>Cottage</td>\n",
       "      <td>4.0</td>\n",
       "      <td>1.0</td>\n",
       "      <td>4.0</td>\n",
       "      <td>1460385.056</td>\n",
       "    </tr>\n",
       "  </tbody>\n",
       "</table>\n",
       "</div>"
      ],
      "text/plain": [
       "       ID       loc     title  bedroom  bathroom  parking_space        price\n",
       "129  2745    Kaduna   Mansion      4.0       2.0            1.0  1438677.574\n",
       "191  2340      Yobe  Bungalow      5.0       4.0            3.0  1612536.900\n",
       "304  3436      Yobe   Cottage      5.0       1.0            2.0  1511831.546\n",
       "359  1629  Nasarawa      Flat      5.0       1.0            1.0  1647903.197\n",
       "393   404   Katsina   Cottage      4.0       1.0            4.0  1460385.056"
      ]
     },
     "execution_count": 31,
     "metadata": {},
     "output_type": "execute_result"
    }
   ],
   "source": [
    "#Viewing rows with id duplicates\n",
    "train_df[train_df['ID'].duplicated()].head()"
   ]
  },
  {
   "cell_type": "code",
   "execution_count": 32,
   "id": "453ac65e",
   "metadata": {
    "scrolled": true
   },
   "outputs": [
    {
     "data": {
      "text/html": [
       "<div>\n",
       "<style scoped>\n",
       "    .dataframe tbody tr th:only-of-type {\n",
       "        vertical-align: middle;\n",
       "    }\n",
       "\n",
       "    .dataframe tbody tr th {\n",
       "        vertical-align: top;\n",
       "    }\n",
       "\n",
       "    .dataframe thead th {\n",
       "        text-align: right;\n",
       "    }\n",
       "</style>\n",
       "<table border=\"1\" class=\"dataframe\">\n",
       "  <thead>\n",
       "    <tr style=\"text-align: right;\">\n",
       "      <th></th>\n",
       "      <th>ID</th>\n",
       "      <th>loc</th>\n",
       "      <th>title</th>\n",
       "      <th>bedroom</th>\n",
       "      <th>bathroom</th>\n",
       "      <th>parking_space</th>\n",
       "      <th>price</th>\n",
       "    </tr>\n",
       "  </thead>\n",
       "  <tbody>\n",
       "    <tr>\n",
       "      <th>125</th>\n",
       "      <td>2745</td>\n",
       "      <td>Oyo</td>\n",
       "      <td>Cottage</td>\n",
       "      <td>1.0</td>\n",
       "      <td>1.0</td>\n",
       "      <td>2.0</td>\n",
       "      <td>1176048.263</td>\n",
       "    </tr>\n",
       "    <tr>\n",
       "      <th>129</th>\n",
       "      <td>2745</td>\n",
       "      <td>Kaduna</td>\n",
       "      <td>Mansion</td>\n",
       "      <td>4.0</td>\n",
       "      <td>2.0</td>\n",
       "      <td>1.0</td>\n",
       "      <td>1438677.574</td>\n",
       "    </tr>\n",
       "  </tbody>\n",
       "</table>\n",
       "</div>"
      ],
      "text/plain": [
       "       ID     loc    title  bedroom  bathroom  parking_space        price\n",
       "125  2745     Oyo  Cottage      1.0       1.0            2.0  1176048.263\n",
       "129  2745  Kaduna  Mansion      4.0       2.0            1.0  1438677.574"
      ]
     },
     "execution_count": 32,
     "metadata": {},
     "output_type": "execute_result"
    }
   ],
   "source": [
    "train_df[train_df['ID']==2745]"
   ]
  },
  {
   "cell_type": "markdown",
   "id": "e053282e",
   "metadata": {},
   "source": [
    "- As seen above columns with same id are entirely different"
   ]
  },
  {
   "cell_type": "markdown",
   "id": "f65d0cdf",
   "metadata": {},
   "source": [
    "## Exploratory Data Analysis\n",
    "\n",
    "In this section i will be asking a bunch of questions and finding answers within the dataset.This will give a better understanding of the dataset and its values."
   ]
  },
  {
   "cell_type": "code",
   "execution_count": 33,
   "id": "decd7152",
   "metadata": {
    "scrolled": true
   },
   "outputs": [
    {
     "name": "stdout",
     "output_type": "stream",
     "text": [
      "<class 'pandas.core.frame.DataFrame'>\n",
      "Int64Index: 10531 entries, 0 to 13998\n",
      "Data columns (total 7 columns):\n",
      " #   Column         Non-Null Count  Dtype  \n",
      "---  ------         --------------  -----  \n",
      " 0   ID             10531 non-null  int64  \n",
      " 1   loc            10531 non-null  object \n",
      " 2   title          10531 non-null  object \n",
      " 3   bedroom        10531 non-null  float64\n",
      " 4   bathroom       10531 non-null  float64\n",
      " 5   parking_space  10531 non-null  float64\n",
      " 6   price          10531 non-null  float64\n",
      "dtypes: float64(4), int64(1), object(2)\n",
      "memory usage: 658.2+ KB\n"
     ]
    }
   ],
   "source": [
    "train_df.info()"
   ]
  },
  {
   "cell_type": "code",
   "execution_count": 35,
   "id": "6277a1f1",
   "metadata": {
    "scrolled": false
   },
   "outputs": [
    {
     "data": {
      "text/plain": [
       "array([[<AxesSubplot:title={'center':'ID'}>,\n",
       "        <AxesSubplot:title={'center':'bedroom'}>],\n",
       "       [<AxesSubplot:title={'center':'bathroom'}>,\n",
       "        <AxesSubplot:title={'center':'parking_space'}>],\n",
       "       [<AxesSubplot:title={'center':'price'}>, <AxesSubplot:>]],\n",
       "      dtype=object)"
      ]
     },
     "execution_count": 35,
     "metadata": {},
     "output_type": "execute_result"
    },
    {
     "data": {
      "image/png": "[encoded data removed]",
      "text/plain": [
       "<Figure size 432x288 with 6 Axes>"
      ]
     },
     "metadata": {
      "needs_background": "light"
     },
     "output_type": "display_data"
    }
   ],
   "source": [
    "train_df.hist()"
   ]
  },
  {
   "cell_type": "markdown",
   "id": "a4a23885",
   "metadata": {},
   "source": [
    "- I notice that the price column is rightly skewed"
   ]
  },
  {
   "cell_type": "markdown",
   "id": "bddfee08",
   "metadata": {},
   "source": [
    "## Univariate visualizations"
   ]
  },
  {
   "cell_type": "markdown",
   "id": "8337a9b2",
   "metadata": {},
   "source": [
    "### 1. What is the distribution of the price column?"
   ]
  },
  {
   "cell_type": "code",
   "execution_count": 45,
   "id": "a54b8c9e",
   "metadata": {},
   "outputs": [
    {
     "data": {
      "image/png": "[encoded data removed]",
      "text/plain": [
       "<Figure size 432x288 with 1 Axes>"
      ]
     },
     "metadata": {
      "needs_background": "light"
     },
     "output_type": "display_data"
    }
   ],
   "source": [
    "train_df['price'].hist(bins=40)\n",
    "plt.title(\"Distribution of Prices\");"
   ]
  },
  {
   "cell_type": "markdown",
   "id": "116b8672",
   "metadata": {},
   "source": [
    "- The price column is highly rightly skewed with one peak between"
   ]
  },
  {
   "cell_type": "markdown",
   "id": "746807cd",
   "metadata": {},
   "source": [
    "### 2. How many unique values are in the loc column?"
   ]
  },
  {
   "cell_type": "code",
   "execution_count": 59,
   "id": "13d9c79d",
   "metadata": {
    "scrolled": true
   },
   "outputs": [
    {
     "data": {
      "text/plain": [
       "array(['Katsina', 'Ondo', 'Anambra', 'Kogi', 'Borno', 'Kwara', 'Osun',\n",
       "       'Kaduna', 'Ogun', 'Bayelsa', 'Abia', 'Rivers', 'Taraba', 'Ebonyi',\n",
       "       'Kebbi', 'Enugu', 'Edo', 'Nasarawa', 'Kano', 'Delta', 'Yobe',\n",
       "       'Benue', 'Bauchi', 'Cross River', 'Niger', 'Adamawa', 'Plateau',\n",
       "       'Imo', 'Oyo', 'Zamfara', 'Sokoto', 'Jigawa', 'Gombe', 'Lagos',\n",
       "       'Akwa Ibom', 'Ekiti'], dtype=object)"
      ]
     },
     "execution_count": 59,
     "metadata": {},
     "output_type": "execute_result"
    }
   ],
   "source": [
    "train_df['loc'].unique()"
   ]
  },
  {
   "cell_type": "code",
   "execution_count": null,
   "id": "b600526f",
   "metadata": {},
   "outputs": [],
   "source": [
    "# setting size of plot\n",
    "sns.set(rc = {'figure.figsize':(8, 8)})"
   ]
  },
  {
   "cell_type": "code",
   "execution_count": 90,
   "id": "547f14ea",
   "metadata": {},
   "outputs": [
    {
     "data": {
      "text/plain": [
       "<AxesSubplot:xlabel='count', ylabel='loc'>"
      ]
     },
     "execution_count": 90,
     "metadata": {},
     "output_type": "execute_result"
    },
    {
     "data": {
      "image/png": "[encoded data removed]",
      "text/plain": [
       "<Figure size 576x576 with 1 Axes>"
      ]
     },
     "metadata": {},
     "output_type": "display_data"
    }
   ],
   "source": [
    "# creating an order for the plot\n",
    "\n",
    "loc_count_order = train_df.groupby('loc')\n",
    "loc_order= loc_count_order.aggregate(np.median).reset_index().sort_values('loc')\n",
    "\n",
    "sns.countplot(data= train_df, y='loc', order= loc_order['loc'], color= 'b')"
   ]
  },
  {
   "cell_type": "markdown",
   "id": "5360ad3a",
   "metadata": {},
   "source": [
    "- The loc column contains the 36 states in Nigeria\n",
    "- The most common location is Cross River\n",
    "- We would like to group that by region"
   ]
  },
  {
   "cell_type": "markdown",
   "id": "a57d663f",
   "metadata": {},
   "source": [
    "### Creating a region column for each state location\n"
   ]
  },
  {
   "cell_type": "code",
   "execution_count": 94,
   "id": "22203a4a",
   "metadata": {},
   "outputs": [],
   "source": [
    "# creating a map of each state to its region\n",
    "state_to_region = {\n",
    "    'Abia': 'South East',\n",
    "    'Adamawa': 'North East',\n",
    "    'Akwa Ibom': 'South South',\n",
    "    'Anambra': 'South East',\n",
    "    'Bauchi': 'North East',\n",
    "    'Bayelsa': 'South South',\n",
    "    'Benue': 'North Central',\n",
    "    'Borno': 'North East',\n",
    "    'Cross River': 'South South',\n",
    "    'Delta': 'South South',\n",
    "    'Ebonyi': 'South East',\n",
    "    'Edo': 'South South',\n",
    "    'Ekiti': 'South West',\n",
    "    'Enugu': 'South East',\n",
    "    'Gombe': 'North East',\n",
    "    'Imo': 'South East',\n",
    "    'Jigawa': 'North West',\n",
    "    'Kaduna': 'North West',\n",
    "    'Kano': 'North West',\n",
    "    'Katsina': 'North West',\n",
    "    'Kebbi': 'North West',\n",
    "    'Kogi': 'North Central',\n",
    "    'Kwara': 'North Central',\n",
    "    'Lagos': 'South West',\n",
    "    'Nasarawa': 'North Central',\n",
    "    'Niger': 'North Central',\n",
    "    'Ogun': 'South West',\n",
    "    'Ondo': 'South West',\n",
    "    'Osun': 'South West',\n",
    "    'Oyo': 'South West',\n",
    "    'Plateau': 'North Central',\n",
    "    'Rivers': 'South South',\n",
    "    'Sokoto': 'North West',\n",
    "    'Taraba': 'North East',\n",
    "    'Yobe': 'North East',\n",
    "    'Zamfara': 'North West'\n",
    "}\n",
    "\n",
    "#mapping the states to a region\n",
    "# Assuming your DataFrame is called \"df\" and the state column is named \"State\"\n",
    "train_df['region'] = train_df['loc'].map(state_to_region)\n"
   ]
  },
  {
   "cell_type": "code",
   "execution_count": 96,
   "id": "930fff7c",
   "metadata": {},
   "outputs": [
    {
     "data": {
      "text/plain": [
       "<AxesSubplot:xlabel='region', ylabel='count'>"
      ]
     },
     "execution_count": 96,
     "metadata": {},
     "output_type": "execute_result"
    },
    {
     "data": {
      "image/png": "[encoded data removed]",
      "text/plain": [
       "<Figure size 576x576 with 1 Axes>"
      ]
     },
     "metadata": {},
     "output_type": "display_data"
    }
   ],
   "source": [
    "sns.countplot(x='region', data= train_df)"
   ]
  },
  {
   "cell_type": "markdown",
   "id": "6c935fe3",
   "metadata": {},
   "source": [
    "- The region with the most entries so far is the north west\n",
    "- The region with the least is South East"
   ]
  },
  {
   "cell_type": "markdown",
   "id": "0dc43ee4",
   "metadata": {},
   "source": [
    "### 3. What house title is the most frequent? and which has the highest price value?"
   ]
  },
  {
   "cell_type": "code",
   "execution_count": 99,
   "id": "0b3cd17c",
   "metadata": {
    "scrolled": true
   },
   "outputs": [
    {
     "data": {
      "text/plain": [
       "Flat                    1182\n",
       "Apartment               1147\n",
       "Townhouse               1139\n",
       "Semi-detached duplex    1133\n",
       "Mansion                 1125\n",
       "Detached duplex         1115\n",
       "Penthouse               1103\n",
       "Bungalow                1102\n",
       "Terrace duplex          1095\n",
       "Cottage                  390\n",
       "Name: title, dtype: int64"
      ]
     },
     "execution_count": 99,
     "metadata": {},
     "output_type": "execute_result"
    }
   ],
   "source": [
    "# count of title column in descending order\n",
    "train_df.title.value_counts()"
   ]
  },
  {
   "cell_type": "markdown",
   "id": "6b0c7201",
   "metadata": {},
   "source": [
    "- Flat has the highest count and cottage the least as seen above. "
   ]
  },
  {
   "cell_type": "code",
   "execution_count": 111,
   "id": "5e48c92d",
   "metadata": {},
   "outputs": [
    {
     "data": {
      "image/png": "[encoded data removed]",
      "text/plain": [
       "<Figure size 576x576 with 1 Axes>"
      ]
     },
     "metadata": {},
     "output_type": "display_data"
    }
   ],
   "source": [
    "#calculating the mean price for each title\n",
    "title_average_price= train_df.groupby('title')['price'].mean().reset_index()\n",
    "\n",
    "# sorting the values\n",
    "sorted_title = title_average_price.sort_values(by='price', ascending= False)\n",
    "\n",
    "#plotting the chart\n",
    "sns.barplot(x='title', y='price', data=sorted_title)\n",
    "plt.xlabel('House Type')\n",
    "plt.ylabel('Average Price')\n",
    "plt.title('Average Price by Title')\n",
    "plt.xticks(rotation=45, ha='right');\n",
    "\n",
    "# Show the plot\n",
    "plt.tight_layout()\n",
    "plt.show();\n"
   ]
  },
  {
   "cell_type": "markdown",
   "id": "6ade8124",
   "metadata": {},
   "source": [
    "- The order above shows the most expensive average house prices\n",
    "- It is clear cottages are not as common as other house types in Nigeria\n",
    "- I will be saving this order to rank the title column for modelling"
   ]
  },
  {
   "cell_type": "code",
   "execution_count": 107,
   "id": "c66f1c5c",
   "metadata": {},
   "outputs": [
    {
     "data": {
      "text/plain": [
       "5                 Mansion\n",
       "6               Penthouse\n",
       "3         Detached duplex\n",
       "9               Townhouse\n",
       "8          Terrace duplex\n",
       "7    Semi-detached duplex\n",
       "1                Bungalow\n",
       "4                    Flat\n",
       "0               Apartment\n",
       "2                 Cottage\n",
       "Name: title, dtype: object"
      ]
     },
     "execution_count": 107,
     "metadata": {},
     "output_type": "execute_result"
    }
   ],
   "source": [
    "# saving the order above\n",
    "title_order= sorted_title['title']\n",
    "title_order"
   ]
  },
  {
   "cell_type": "markdown",
   "id": "24e2eadd",
   "metadata": {},
   "source": [
    " ### 4.  Is there a correlation between the number of bedrooms and the price based on the location and title of the property?"
   ]
  },
  {
   "cell_type": "code",
   "execution_count": 118,
   "id": "2140afb8",
   "metadata": {
    "scrolled": true
   },
   "outputs": [
    {
     "data": {
      "image/png": "[encoded data removed]",
      "text/plain": [
       "<Figure size 576x576 with 1 Axes>"
      ]
     },
     "metadata": {},
     "output_type": "display_data"
    }
   ],
   "source": [
    "# creating a boxplot of bedroom vs price\n",
    "sns.boxplot(x='bedroom', y='price', data=train_df)\n",
    "plt.xlabel('Number of Bedrooms')\n",
    "plt.ylabel('Price')\n",
    "plt.title('Box Plot of Price vs. Number of Bedrooms')\n",
    "# Show the plot\n",
    "plt.show()"
   ]
  },
  {
   "cell_type": "markdown",
   "id": "776e251e",
   "metadata": {},
   "source": [
    "- to reduce the outliers... I will transform the price column"
   ]
  },
  {
   "cell_type": "code",
   "execution_count": 130,
   "id": "63deb5f3",
   "metadata": {
    "scrolled": true
   },
   "outputs": [
    {
     "data": {
      "image/png": "[encoded data removed]",
      "text/plain": [
       "<Figure size 1008x576 with 2 Axes>"
      ]
     },
     "metadata": {},
     "output_type": "display_data"
    }
   ],
   "source": [
    "# creating a log transformation\n",
    "train_df['log_price']=  np.log(train_df['price'])\n",
    "\n",
    "# creating a square root transformation\n",
    "train_df['sqrt_price']=  np.sqrt(train_df['price'])\n",
    "\n",
    "# creating axes for fig plots\n",
    "fig, ax= plt.subplots(1, 2, figsize=(14,8))\n",
    "\n",
    "#plotting the log transform on axis 1\n",
    "sns.boxplot(x='bedroom', y='log_price', data=train_df, ax= ax[0])\n",
    "\n",
    "ax[0].set_xlabel('Number of Bedrooms')\n",
    "ax[0].set_ylabel('Log Transformed Price')\n",
    "ax[0].set_title('Box Plot of Log Transformed Price vs. Number of Bedrooms')\n",
    "\n",
    "#plotting the sqrt transorm of price\n",
    "sns.boxplot(x='bedroom', y='sqrt_price', data=train_df, ax= ax[1])\n",
    "\n",
    "ax[1].set_xlabel('Number of Bedrooms')\n",
    "ax[1].set_ylabel('Log Transformed Price')\n",
    "ax[1].set_title('Box Plot of Sqrt Transformed Price vs. Number of Bedrooms')\n",
    "\n",
    "# Show the plot\n",
    "plt.tight_layout()\n",
    "plt.show()\n"
   ]
  },
  {
   "cell_type": "markdown",
   "id": "5245ed99",
   "metadata": {},
   "source": [
    "- I notice a log transform has better inclusivity"
   ]
  },
  {
   "cell_type": "code",
   "execution_count": 143,
   "id": "2524158f",
   "metadata": {},
   "outputs": [
    {
     "data": {
      "image/png": "[encoded data removed]",
      "text/plain": [
       "<Figure size 576x576 with 1 Axes>"
      ]
     },
     "metadata": {},
     "output_type": "display_data"
    }
   ],
   "source": [
    "# answering the question\n",
    "# creating a bathroom to bedroom ratio\n",
    "train_df['bath_to_bed_ratio']= round(train_df['bathroom']/train_df['bedroom'], 3)\n",
    "sns.scatterplot(data= train_df, x= 'bath_to_bed_ratio' , y= 'price', hue= 'title', palette='tab10');"
   ]
  },
  {
   "cell_type": "code",
   "execution_count": 148,
   "id": "6d5243be",
   "metadata": {
    "scrolled": true
   },
   "outputs": [
    {
     "data": {
      "image/png": "[encoded data removed]",
      "text/plain": [
       "<Figure size 576x576 with 1 Axes>"
      ]
     },
     "metadata": {},
     "output_type": "display_data"
    }
   ],
   "source": [
    "sns.boxplot(data= train_df, y= 'title' , x= 'log_price', color= 'b');"
   ]
  },
  {
   "cell_type": "markdown",
   "id": "c490a670",
   "metadata": {},
   "source": [
    "### 5. Correlation heatmap- is There a correlation between the columns"
   ]
  },
  {
   "cell_type": "code",
   "execution_count": 150,
   "id": "0d318ef5",
   "metadata": {},
   "outputs": [
    {
     "data": {
      "image/png": "[encoded data removed]",
      "text/plain": [
       "<Figure size 720x504 with 2 Axes>"
      ]
     },
     "metadata": {},
     "output_type": "display_data"
    }
   ],
   "source": [
    "# visualizing correlation coefficients between the columns\n",
    "corr = train_df.corr()\n",
    "plt.figure(figsize = (10,7))\n",
    "sns.heatmap(corr, annot = True);"
   ]
  },
  {
   "cell_type": "markdown",
   "id": "642aa583",
   "metadata": {},
   "source": [
    "- From the above we see bedroom has the highest correlation to price."
   ]
  },
  {
   "cell_type": "markdown",
   "id": "838a922e",
   "metadata": {},
   "source": [
    "## Machine Learning\n",
    "#### In this section i will be building a model to predict price of houses"
   ]
  },
  {
   "cell_type": "markdown",
   "id": "f72cab40",
   "metadata": {},
   "source": [
    "### Preprocessing\n"
   ]
  },
  {
   "cell_type": "code",
   "execution_count": null,
   "id": "0a25f61b",
   "metadata": {},
   "outputs": [],
   "source": []
  },
  {
   "cell_type": "code",
   "execution_count": 38,
   "id": "1996a695",
   "metadata": {},
   "outputs": [],
   "source": [
    "# importing libraries required\n",
    "from sklearn.preprocessing import LabelEncoder\n",
    "from sklearn.preprocessing import MinMaxScaler\n",
    "from xgboost import XGBClassifier"
   ]
  },
  {
   "cell_type": "code",
   "execution_count": 39,
   "id": "524560d3",
   "metadata": {},
   "outputs": [],
   "source": [
    "#importing libraries for modelling\n",
    "from sklearn.preprocessing import LabelEncoder\n",
    "from catboost import CatBoostRegressor\n",
    "from sklearn.model_selection import train_test_split\n",
    "from sklearn.model_selection import KFold\n",
    "from sklearn.metrics import mean_squared_error\n",
    "import matplotlib.pyplot as plt\n",
    "from lightgbm import LGBMRegressor\n",
    "\n",
    "import warnings\n",
    "warnings.filterwarnings('ignore')"
   ]
  },
  {
   "cell_type": "code",
   "execution_count": 40,
   "id": "8f1e3165",
   "metadata": {
    "scrolled": false
   },
   "outputs": [
    {
     "data": {
      "text/plain": [
       "(16531, 6)"
      ]
     },
     "execution_count": 40,
     "metadata": {},
     "output_type": "execute_result"
    }
   ],
   "source": [
    "#dropping price column and joining both train_df and test_df\n",
    "all_data= train_df.drop(columns=['price'], axis=1).append(test_df)\n",
    "all_data.shape"
   ]
  },
  {
   "cell_type": "code",
   "execution_count": 41,
   "id": "08f2f1cb",
   "metadata": {
    "scrolled": true
   },
   "outputs": [
    {
     "data": {
      "text/plain": [
       "array(['Semi-detached duplex', 'Apartment', 'Detached duplex',\n",
       "       'Terrace duplex', 'Mansion', 'Bungalow', 'Penthouse', 'Townhouse',\n",
       "       'Flat', 'Cottage'], dtype=object)"
      ]
     },
     "execution_count": 41,
     "metadata": {},
     "output_type": "execute_result"
    }
   ],
   "source": [
    "train_df.title.unique()"
   ]
  },
  {
   "cell_type": "code",
   "execution_count": 42,
   "id": "ce7b027d",
   "metadata": {},
   "outputs": [
    {
     "data": {
      "text/plain": [
       "array(['Semi-detached duplex', 'Apartment', 'Detached duplex',\n",
       "       'Terrace duplex', 'Mansion', 'Bungalow', 'Penthouse', 'Townhouse',\n",
       "       'Flat', 'Cottage'], dtype=object)"
      ]
     },
     "execution_count": 42,
     "metadata": {},
     "output_type": "execute_result"
    }
   ],
   "source": [
    "all_data.title.unique()"
   ]
  },
  {
   "cell_type": "code",
   "execution_count": 43,
   "id": "9ba72580",
   "metadata": {},
   "outputs": [],
   "source": [
    "# Ranking the house titles\n",
    "title_rank= {\n",
    "    'Cottage': 1,\n",
    "    'Flat': 2,\n",
    "    'Apartment': 3 ,\n",
    "    'Townhouse' : 4,\n",
    "    'Terrace duplex': 5 ,\n",
    "    'Semi-detached duplex':6 ,\n",
    "    'Detached duplex': 7 ,\n",
    "    'Bungalow' : 8,\n",
    "    'Penthouse': 9 ,\n",
    "    'Mansion': 10\n",
    "}"
   ]
  },
  {
   "cell_type": "code",
   "execution_count": 44,
   "id": "5dd480a4",
   "metadata": {},
   "outputs": [
    {
     "data": {
      "text/html": [
       "<div>\n",
       "<style scoped>\n",
       "    .dataframe tbody tr th:only-of-type {\n",
       "        vertical-align: middle;\n",
       "    }\n",
       "\n",
       "    .dataframe tbody tr th {\n",
       "        vertical-align: top;\n",
       "    }\n",
       "\n",
       "    .dataframe thead th {\n",
       "        text-align: right;\n",
       "    }\n",
       "</style>\n",
       "<table border=\"1\" class=\"dataframe\">\n",
       "  <thead>\n",
       "    <tr style=\"text-align: right;\">\n",
       "      <th></th>\n",
       "      <th>ID</th>\n",
       "      <th>loc</th>\n",
       "      <th>title</th>\n",
       "      <th>bedroom</th>\n",
       "      <th>bathroom</th>\n",
       "      <th>parking_space</th>\n",
       "    </tr>\n",
       "  </thead>\n",
       "  <tbody>\n",
       "    <tr>\n",
       "      <th>0</th>\n",
       "      <td>3583</td>\n",
       "      <td>Katsina</td>\n",
       "      <td>6</td>\n",
       "      <td>2.000000</td>\n",
       "      <td>2.0</td>\n",
       "      <td>1.0</td>\n",
       "    </tr>\n",
       "    <tr>\n",
       "      <th>1</th>\n",
       "      <td>2748</td>\n",
       "      <td>Ondo</td>\n",
       "      <td>3</td>\n",
       "      <td>4.386792</td>\n",
       "      <td>2.0</td>\n",
       "      <td>4.0</td>\n",
       "    </tr>\n",
       "    <tr>\n",
       "      <th>3</th>\n",
       "      <td>2224</td>\n",
       "      <td>Anambra</td>\n",
       "      <td>7</td>\n",
       "      <td>5.000000</td>\n",
       "      <td>2.0</td>\n",
       "      <td>4.0</td>\n",
       "    </tr>\n",
       "    <tr>\n",
       "      <th>4</th>\n",
       "      <td>10300</td>\n",
       "      <td>Kogi</td>\n",
       "      <td>5</td>\n",
       "      <td>4.367061</td>\n",
       "      <td>5.0</td>\n",
       "      <td>6.0</td>\n",
       "    </tr>\n",
       "    <tr>\n",
       "      <th>5</th>\n",
       "      <td>1733</td>\n",
       "      <td>Borno</td>\n",
       "      <td>10</td>\n",
       "      <td>4.341595</td>\n",
       "      <td>1.0</td>\n",
       "      <td>3.0</td>\n",
       "    </tr>\n",
       "  </tbody>\n",
       "</table>\n",
       "</div>"
      ],
      "text/plain": [
       "      ID      loc  title   bedroom  bathroom  parking_space\n",
       "0   3583  Katsina      6  2.000000       2.0            1.0\n",
       "1   2748     Ondo      3  4.386792       2.0            4.0\n",
       "3   2224  Anambra      7  5.000000       2.0            4.0\n",
       "4  10300     Kogi      5  4.367061       5.0            6.0\n",
       "5   1733    Borno     10  4.341595       1.0            3.0"
      ]
     },
     "execution_count": 44,
     "metadata": {},
     "output_type": "execute_result"
    }
   ],
   "source": [
    "# mapping the titles \n",
    "all_data['title']= all_data['title'].map(title_rank)\n",
    "\n",
    "all_data.head()"
   ]
  },
  {
   "cell_type": "code",
   "execution_count": 45,
   "id": "5a9d15db",
   "metadata": {
    "scrolled": true
   },
   "outputs": [
    {
     "data": {
      "text/plain": [
       "{'Benue': 0.030064726876776963,\n",
       " 'Borno': 0.029883249652168653,\n",
       " 'Anambra': 0.02964128001935757,\n",
       " 'Oyo': 0.029278325570140946,\n",
       " 'Ogun': 0.029217833161938177,\n",
       " 'Cross River': 0.029036355937329866,\n",
       " 'Kaduna': 0.02873389389631601,\n",
       " 'Zamfara': 0.0285524166717077,\n",
       " 'Kano': 0.02849192426350493,\n",
       " 'Nasarawa': 0.02824995463069385,\n",
       " 'Ondo': 0.02824995463069385,\n",
       " 'Katsina': 0.02824995463069385,\n",
       " 'Yobe': 0.028189462222491076,\n",
       " 'Kebbi': 0.028128969814288307,\n",
       " 'Imo': 0.028007984997882766,\n",
       " 'Bauchi': 0.028007984997882766,\n",
       " 'Plateau': 0.027826507773274455,\n",
       " 'Adamawa': 0.027826507773274455,\n",
       " 'Niger': 0.027584538140463372,\n",
       " 'Kogi': 0.027584538140463372,\n",
       " 'Ekiti': 0.027584538140463372,\n",
       " 'Osun': 0.02746355332405783,\n",
       " 'Gombe': 0.02746355332405783,\n",
       " 'Abia': 0.02728207609944952,\n",
       " 'Sokoto': 0.027221583691246748,\n",
       " 'Lagos': 0.027100598874841206,\n",
       " 'Taraba': 0.027100598874841206,\n",
       " 'Enugu': 0.027040106466638437,\n",
       " 'Delta': 0.026979614058435665,\n",
       " 'Ebonyi': 0.026919121650232896,\n",
       " 'Jigawa': 0.026858629242030124,\n",
       " 'Bayelsa': 0.026798136833827355,\n",
       " 'Edo': 0.026011735527191337,\n",
       " 'Kwara': 0.025951243118988568,\n",
       " 'Akwa Ibom': 0.025890750710785795,\n",
       " 'Rivers': 0.025527796261569174}"
      ]
     },
     "execution_count": 45,
     "metadata": {},
     "output_type": "execute_result"
    }
   ],
   "source": [
    "#normalizing the value_count of loc to create distinct figures rank\n",
    "cat_frequency= all_data['loc'].value_counts(normalize=True)\n",
    "\n",
    "# mapping the location to this\n",
    "loc_rank= cat_frequency.to_dict()\n",
    "\n",
    "loc_rank"
   ]
  },
  {
   "cell_type": "code",
   "execution_count": 46,
   "id": "6af5a149",
   "metadata": {},
   "outputs": [
    {
     "data": {
      "text/html": [
       "<div>\n",
       "<style scoped>\n",
       "    .dataframe tbody tr th:only-of-type {\n",
       "        vertical-align: middle;\n",
       "    }\n",
       "\n",
       "    .dataframe tbody tr th {\n",
       "        vertical-align: top;\n",
       "    }\n",
       "\n",
       "    .dataframe thead th {\n",
       "        text-align: right;\n",
       "    }\n",
       "</style>\n",
       "<table border=\"1\" class=\"dataframe\">\n",
       "  <thead>\n",
       "    <tr style=\"text-align: right;\">\n",
       "      <th></th>\n",
       "      <th>ID</th>\n",
       "      <th>loc</th>\n",
       "      <th>title</th>\n",
       "      <th>bedroom</th>\n",
       "      <th>bathroom</th>\n",
       "      <th>parking_space</th>\n",
       "    </tr>\n",
       "  </thead>\n",
       "  <tbody>\n",
       "    <tr>\n",
       "      <th>0</th>\n",
       "      <td>3583</td>\n",
       "      <td>0.028250</td>\n",
       "      <td>6</td>\n",
       "      <td>2.000000</td>\n",
       "      <td>2.0</td>\n",
       "      <td>1.0</td>\n",
       "    </tr>\n",
       "    <tr>\n",
       "      <th>1</th>\n",
       "      <td>2748</td>\n",
       "      <td>0.028250</td>\n",
       "      <td>3</td>\n",
       "      <td>4.386792</td>\n",
       "      <td>2.0</td>\n",
       "      <td>4.0</td>\n",
       "    </tr>\n",
       "    <tr>\n",
       "      <th>3</th>\n",
       "      <td>2224</td>\n",
       "      <td>0.029641</td>\n",
       "      <td>7</td>\n",
       "      <td>5.000000</td>\n",
       "      <td>2.0</td>\n",
       "      <td>4.0</td>\n",
       "    </tr>\n",
       "    <tr>\n",
       "      <th>4</th>\n",
       "      <td>10300</td>\n",
       "      <td>0.027585</td>\n",
       "      <td>5</td>\n",
       "      <td>4.367061</td>\n",
       "      <td>5.0</td>\n",
       "      <td>6.0</td>\n",
       "    </tr>\n",
       "    <tr>\n",
       "      <th>5</th>\n",
       "      <td>1733</td>\n",
       "      <td>0.029883</td>\n",
       "      <td>10</td>\n",
       "      <td>4.341595</td>\n",
       "      <td>1.0</td>\n",
       "      <td>3.0</td>\n",
       "    </tr>\n",
       "  </tbody>\n",
       "</table>\n",
       "</div>"
      ],
      "text/plain": [
       "      ID       loc  title   bedroom  bathroom  parking_space\n",
       "0   3583  0.028250      6  2.000000       2.0            1.0\n",
       "1   2748  0.028250      3  4.386792       2.0            4.0\n",
       "3   2224  0.029641      7  5.000000       2.0            4.0\n",
       "4  10300  0.027585      5  4.367061       5.0            6.0\n",
       "5   1733  0.029883     10  4.341595       1.0            3.0"
      ]
     },
     "execution_count": 46,
     "metadata": {},
     "output_type": "execute_result"
    }
   ],
   "source": [
    "# replacing values with the map\n",
    "all_data['loc']= all_data['loc'].map(loc_rank)\n",
    "\n",
    "#print new dataframe\n",
    "all_data.head()\n"
   ]
  },
  {
   "cell_type": "code",
   "execution_count": 47,
   "id": "0489f0bc",
   "metadata": {},
   "outputs": [
    {
     "data": {
      "text/plain": [
       "(16531, 6)"
      ]
     },
     "execution_count": 47,
     "metadata": {},
     "output_type": "execute_result"
    }
   ],
   "source": [
    "all_data.shape"
   ]
  },
  {
   "cell_type": "code",
   "execution_count": 48,
   "id": "d25397ac",
   "metadata": {},
   "outputs": [
    {
     "data": {
      "text/plain": [
       "False"
      ]
     },
     "execution_count": 48,
     "metadata": {},
     "output_type": "execute_result"
    }
   ],
   "source": [
    "train_df.shape[0]==14000"
   ]
  },
  {
   "cell_type": "code",
   "execution_count": 98,
   "id": "bdc06d16",
   "metadata": {},
   "outputs": [
    {
     "data": {
      "text/plain": [
       "((10531, 6), (10531,), (6000, 6))"
      ]
     },
     "execution_count": 98,
     "metadata": {},
     "output_type": "execute_result"
    }
   ],
   "source": [
    "# splitting all data into x, y and test_df \n",
    "x= all_data[:train_df.shape[0]]\n",
    "y= train_df['price']\n",
    "test_df= all_data[train_df.shape[0]:]\n",
    "\n",
    "#checking the outcome\n",
    "x.shape, y.shape, test_df.shape"
   ]
  },
  {
   "cell_type": "code",
   "execution_count": 50,
   "id": "89c056c2",
   "metadata": {},
   "outputs": [
    {
     "data": {
      "text/html": [
       "<div>\n",
       "<style scoped>\n",
       "    .dataframe tbody tr th:only-of-type {\n",
       "        vertical-align: middle;\n",
       "    }\n",
       "\n",
       "    .dataframe tbody tr th {\n",
       "        vertical-align: top;\n",
       "    }\n",
       "\n",
       "    .dataframe thead th {\n",
       "        text-align: right;\n",
       "    }\n",
       "</style>\n",
       "<table border=\"1\" class=\"dataframe\">\n",
       "  <thead>\n",
       "    <tr style=\"text-align: right;\">\n",
       "      <th></th>\n",
       "      <th>ID</th>\n",
       "      <th>loc</th>\n",
       "      <th>title</th>\n",
       "      <th>bedroom</th>\n",
       "      <th>bathroom</th>\n",
       "      <th>parking_space</th>\n",
       "    </tr>\n",
       "  </thead>\n",
       "  <tbody>\n",
       "    <tr>\n",
       "      <th>0</th>\n",
       "      <td>3583</td>\n",
       "      <td>0.028250</td>\n",
       "      <td>6</td>\n",
       "      <td>2.000000</td>\n",
       "      <td>2.0</td>\n",
       "      <td>1.0</td>\n",
       "    </tr>\n",
       "    <tr>\n",
       "      <th>1</th>\n",
       "      <td>2748</td>\n",
       "      <td>0.028250</td>\n",
       "      <td>3</td>\n",
       "      <td>4.386792</td>\n",
       "      <td>2.0</td>\n",
       "      <td>4.0</td>\n",
       "    </tr>\n",
       "    <tr>\n",
       "      <th>3</th>\n",
       "      <td>2224</td>\n",
       "      <td>0.029641</td>\n",
       "      <td>7</td>\n",
       "      <td>5.000000</td>\n",
       "      <td>2.0</td>\n",
       "      <td>4.0</td>\n",
       "    </tr>\n",
       "    <tr>\n",
       "      <th>4</th>\n",
       "      <td>10300</td>\n",
       "      <td>0.027585</td>\n",
       "      <td>5</td>\n",
       "      <td>4.367061</td>\n",
       "      <td>5.0</td>\n",
       "      <td>6.0</td>\n",
       "    </tr>\n",
       "    <tr>\n",
       "      <th>5</th>\n",
       "      <td>1733</td>\n",
       "      <td>0.029883</td>\n",
       "      <td>10</td>\n",
       "      <td>4.341595</td>\n",
       "      <td>1.0</td>\n",
       "      <td>3.0</td>\n",
       "    </tr>\n",
       "  </tbody>\n",
       "</table>\n",
       "</div>"
      ],
      "text/plain": [
       "      ID       loc  title   bedroom  bathroom  parking_space\n",
       "0   3583  0.028250      6  2.000000       2.0            1.0\n",
       "1   2748  0.028250      3  4.386792       2.0            4.0\n",
       "3   2224  0.029641      7  5.000000       2.0            4.0\n",
       "4  10300  0.027585      5  4.367061       5.0            6.0\n",
       "5   1733  0.029883     10  4.341595       1.0            3.0"
      ]
     },
     "execution_count": 50,
     "metadata": {},
     "output_type": "execute_result"
    }
   ],
   "source": [
    "x.head()"
   ]
  },
  {
   "cell_type": "code",
   "execution_count": 65,
   "id": "1d69fbd9",
   "metadata": {},
   "outputs": [
    {
     "data": {
      "image/png": "[encoded data removed]",
      "text/plain": [
       "<Figure size 432x288 with 3 Axes>"
      ]
     },
     "metadata": {},
     "output_type": "display_data"
    }
   ],
   "source": [
    "# copied\n",
    "\n",
    "sns.set()\n",
    "y_transformed = pd.Series(np.sqrt(y))\n",
    "y_transformed_log  = pd.Series(np.log1p(y))\n",
    "fig, ax = plt.subplots(1, 3)\n",
    "sns.distplot(y, ax=ax[0])\n",
    "plt.title(\"Target after Sqrt transformation\")\n",
    "# ax[0].axvline(y_transformed)\n",
    "sns.distplot(y_transformed, ax=ax[1])\n",
    "\n",
    "sns.distplot(y_transformed_log, ax=ax[2])\n",
    "plt.title(\"Target after log transformation\")\n",
    "plt.show()\n"
   ]
  },
  {
   "cell_type": "code",
   "execution_count": 52,
   "id": "ddc1bc0d",
   "metadata": {},
   "outputs": [],
   "source": [
    "x.drop(['ID'], axis=1, inplace=True)"
   ]
  },
  {
   "cell_type": "code",
   "execution_count": 53,
   "id": "0a6174bc",
   "metadata": {},
   "outputs": [
    {
     "data": {
      "image/png": "[encoded data removed]",
      "text/plain": [
       "<Figure size 720x504 with 2 Axes>"
      ]
     },
     "metadata": {},
     "output_type": "display_data"
    }
   ],
   "source": [
    "# visualizing correlation coefficients between the columns\n",
    "v= x.copy()\n",
    "v['price']= train_df.price\n",
    "corr = v.corr()\n",
    "plt.figure(figsize = (10,7))\n",
    "sns.heatmap(corr, annot = True);"
   ]
  },
  {
   "cell_type": "markdown",
   "id": "2dee1609",
   "metadata": {},
   "source": [
    "- the top three positively correlated with price are bedroom, title, bathroom. \n",
    "- i.e if they have a higher value they have a higher price..."
   ]
  },
  {
   "cell_type": "markdown",
   "id": "5bf02327",
   "metadata": {},
   "source": [
    "### Modelling"
   ]
  },
  {
   "cell_type": "code",
   "execution_count": 54,
   "id": "8c441ea4",
   "metadata": {},
   "outputs": [],
   "source": [
    "# importing other models to test out \n",
    "from sklearn.linear_model import LogisticRegression\n",
    "from sklearn.neighbors import KNeighborsClassifier\n",
    "from sklearn.tree import DecisionTreeClassifier\n",
    "from sklearn.ensemble import RandomForestClassifier, GradientBoostingClassifier"
   ]
  },
  {
   "cell_type": "code",
   "execution_count": 55,
   "id": "88441f5d",
   "metadata": {},
   "outputs": [
    {
     "name": "stdout",
     "output_type": "stream",
     "text": [
      "<class 'pandas.core.frame.DataFrame'>\n",
      "Int64Index: 10531 entries, 0 to 13998\n",
      "Data columns (total 5 columns):\n",
      " #   Column         Non-Null Count  Dtype  \n",
      "---  ------         --------------  -----  \n",
      " 0   loc            10531 non-null  float64\n",
      " 1   title          10531 non-null  int64  \n",
      " 2   bedroom        10531 non-null  float64\n",
      " 3   bathroom       10531 non-null  float64\n",
      " 4   parking_space  10531 non-null  float64\n",
      "dtypes: float64(4), int64(1)\n",
      "memory usage: 493.6 KB\n"
     ]
    }
   ],
   "source": [
    "x.info()"
   ]
  },
  {
   "cell_type": "markdown",
   "id": "3738b935",
   "metadata": {},
   "source": [
    "### Testing models"
   ]
  },
  {
   "cell_type": "code",
   "execution_count": 57,
   "id": "2c697d57",
   "metadata": {},
   "outputs": [],
   "source": [
    "#splitting train_df into data to train and one to test\n",
    "X_train, X_test, y_train, y_test = train_test_split(x, y, test_size=0.2, random_state=32)"
   ]
  },
  {
   "cell_type": "markdown",
   "id": "6bf07e48",
   "metadata": {},
   "source": [
    "### LGBM Regressor"
   ]
  },
  {
   "cell_type": "code",
   "execution_count": 71,
   "id": "cac59bcb",
   "metadata": {
    "scrolled": true
   },
   "outputs": [
    {
     "name": "stdout",
     "output_type": "stream",
     "text": [
      "[LightGBM] [Warning] Auto-choosing col-wise multi-threading, the overhead of testing was 0.000362 seconds.\n",
      "You can set `force_col_wise=true` to remove the overhead.\n",
      "[LightGBM] [Info] Total Bins 95\n",
      "[LightGBM] [Info] Number of data points in the train set: 8424, number of used features: 5\n",
      "[LightGBM] [Info] Start training from score 2120076.643526\n",
      "mse = 479110.58349600056\n"
     ]
    },
    {
     "data": {
      "text/plain": [
       "array([1176594.91362473, 2226153.27863344, 2960504.11391757, ...,\n",
       "       3877578.96876843, 3065726.35921785, 1878835.82024901])"
      ]
     },
     "execution_count": 71,
     "metadata": {},
     "output_type": "execute_result"
    }
   ],
   "source": [
    "# calling the model function\n",
    "lightb_model= LGBMRegressor()\n",
    "\n",
    "#training/ fitting the model on the X_train, y_train data\n",
    "lightb_model.fit(X_train, y_train)\n",
    "\n",
    "#making the prediction on part of the train data\n",
    "lightb_pred= lightb_model.predict(X_test)\n",
    "\n",
    "# checking the mean squared error\n",
    "print(f'mse = {mean_squared_error(y_test, lightb_pred, squared=False)}')\n",
    "\n",
    "\n",
    "# printing the prediction\n",
    "lightb_pred\n"
   ]
  },
  {
   "cell_type": "markdown",
   "id": "55b574b5",
   "metadata": {},
   "source": [
    "- rmse = 479110.58"
   ]
  },
  {
   "cell_type": "markdown",
   "id": "2fb13803",
   "metadata": {},
   "source": [
    "### CatBoost Regressor"
   ]
  },
  {
   "cell_type": "code",
   "execution_count": 115,
   "id": "b325de7b",
   "metadata": {
    "scrolled": true
   },
   "outputs": [
    {
     "name": "stdout",
     "output_type": "stream",
     "text": [
      "mse = 473562.69391609996\n"
     ]
    },
    {
     "data": {
      "text/plain": [
       "array([1232422.10382487, 2116234.91292518, 2889435.90947451, ...,\n",
       "       3649751.86505762, 3059009.57076461, 1826694.74879306])"
      ]
     },
     "execution_count": 115,
     "metadata": {},
     "output_type": "execute_result"
    }
   ],
   "source": [
    "# calling the model function\n",
    "catb_model= CatBoostRegressor(verbose=0)\n",
    "\n",
    "#training/ fitting the model on the X_train, y_train data\n",
    "catb_model.fit(X_train, y_train)\n",
    "\n",
    "#making the prediction on part of the train data\n",
    "catb_pred= catb_model.predict(X_test)\n",
    "\n",
    "# checking the mean squared error\n",
    "print(f'mse = {mean_squared_error(y_test, catb_pred, squared=False)}')\n",
    "\n",
    "# printing the prediction\n",
    "\n",
    "catb_pred"
   ]
  },
  {
   "cell_type": "markdown",
   "id": "330e6f6d",
   "metadata": {},
   "source": [
    "- rmse= 486129.81"
   ]
  },
  {
   "cell_type": "code",
   "execution_count": null,
   "id": "6627e20e",
   "metadata": {},
   "outputs": [],
   "source": []
  },
  {
   "cell_type": "code",
   "execution_count": 125,
   "id": "07784b59",
   "metadata": {},
   "outputs": [
    {
     "name": "stdout",
     "output_type": "stream",
     "text": [
      "[LightGBM] [Warning] Accuracy may be bad since you didn't explicitly set num_leaves OR 2^max_depth > num_leaves. (num_leaves=31).\n",
      "[LightGBM] [Warning] Accuracy may be bad since you didn't explicitly set num_leaves OR 2^max_depth > num_leaves. (num_leaves=31).\n",
      "[LightGBM] [Warning] Auto-choosing row-wise multi-threading, the overhead of testing was 0.000195 seconds.\n",
      "You can set `force_row_wise=true` to remove the overhead.\n",
      "And if memory is not enough, you can set `force_col_wise=true`.\n",
      "[LightGBM] [Info] Total Bins 350\n",
      "[LightGBM] [Info] Number of data points in the train set: 9026, number of used features: 6\n",
      "[LightGBM] [Warning] Accuracy may be bad since you didn't explicitly set num_leaves OR 2^max_depth > num_leaves. (num_leaves=31).\n",
      "[LightGBM] [Info] Start training from score 14.466718\n",
      "[LightGBM] [Warning] No further splits with positive gain, best gain: -inf\n",
      "[LightGBM] [Warning] No further splits with positive gain, best gain: -inf\n",
      "[LightGBM] [Warning] No further splits with positive gain, best gain: -inf\n",
      "[LightGBM] [Warning] No further splits with positive gain, best gain: -inf\n",
      "[LightGBM] [Warning] No further splits with positive gain, best gain: -inf\n",
      "[LightGBM] [Warning] No further splits with positive gain, best gain: -inf\n",
      "[LightGBM] [Warning] No further splits with positive gain, best gain: -inf\n",
      "[LightGBM] [Warning] No further splits with positive gain, best gain: -inf\n",
      "[LightGBM] [Warning] No further splits with positive gain, best gain: -inf\n",
      "[LightGBM] [Warning] No further splits with positive gain, best gain: -inf\n",
      "[LightGBM] [Warning] No further splits with positive gain, best gain: -inf\n",
      "[LightGBM] [Warning] No further splits with positive gain, best gain: -inf\n",
      "[LightGBM] [Warning] No further splits with positive gain, best gain: -inf\n",
      "[LightGBM] [Warning] No further splits with positive gain, best gain: -inf\n",
      "[LightGBM] [Warning] No further splits with positive gain, best gain: -inf\n",
      "[LightGBM] [Warning] Accuracy may be bad since you didn't explicitly set num_leaves OR 2^max_depth > num_leaves. (num_leaves=31).\n",
      "err:  537950.6485130059\n",
      "[LightGBM] [Warning] Accuracy may be bad since you didn't explicitly set num_leaves OR 2^max_depth > num_leaves. (num_leaves=31).\n",
      "[LightGBM] [Warning] Accuracy may be bad since you didn't explicitly set num_leaves OR 2^max_depth > num_leaves. (num_leaves=31).\n",
      "[LightGBM] [Warning] Accuracy may be bad since you didn't explicitly set num_leaves OR 2^max_depth > num_leaves. (num_leaves=31).\n",
      "[LightGBM] [Warning] Auto-choosing row-wise multi-threading, the overhead of testing was 0.000345 seconds.\n",
      "You can set `force_row_wise=true` to remove the overhead.\n",
      "And if memory is not enough, you can set `force_col_wise=true`.\n",
      "[LightGBM] [Info] Total Bins 350\n",
      "[LightGBM] [Info] Number of data points in the train set: 9026, number of used features: 6\n",
      "[LightGBM] [Warning] Accuracy may be bad since you didn't explicitly set num_leaves OR 2^max_depth > num_leaves. (num_leaves=31).\n",
      "[LightGBM] [Info] Start training from score 14.464998\n",
      "[LightGBM] [Warning] No further splits with positive gain, best gain: -inf\n",
      "[LightGBM] [Warning] No further splits with positive gain, best gain: -inf\n",
      "[LightGBM] [Warning] No further splits with positive gain, best gain: -inf\n",
      "[LightGBM] [Warning] No further splits with positive gain, best gain: -inf\n",
      "[LightGBM] [Warning] No further splits with positive gain, best gain: -inf\n",
      "[LightGBM] [Warning] Accuracy may be bad since you didn't explicitly set num_leaves OR 2^max_depth > num_leaves. (num_leaves=31).\n",
      "err:  413780.82921767165\n",
      "[LightGBM] [Warning] Accuracy may be bad since you didn't explicitly set num_leaves OR 2^max_depth > num_leaves. (num_leaves=31).\n",
      "[LightGBM] [Warning] Accuracy may be bad since you didn't explicitly set num_leaves OR 2^max_depth > num_leaves. (num_leaves=31).\n",
      "[LightGBM] [Warning] Accuracy may be bad since you didn't explicitly set num_leaves OR 2^max_depth > num_leaves. (num_leaves=31).\n",
      "[LightGBM] [Warning] Auto-choosing col-wise multi-threading, the overhead of testing was 0.000585 seconds.\n",
      "You can set `force_col_wise=true` to remove the overhead.\n",
      "[LightGBM] [Info] Total Bins 350\n",
      "[LightGBM] [Info] Number of data points in the train set: 9026, number of used features: 6\n",
      "[LightGBM] [Warning] Accuracy may be bad since you didn't explicitly set num_leaves OR 2^max_depth > num_leaves. (num_leaves=31).\n",
      "[LightGBM] [Info] Start training from score 14.470904\n",
      "[LightGBM] [Warning] No further splits with positive gain, best gain: -inf\n",
      "[LightGBM] [Warning] No further splits with positive gain, best gain: -inf\n",
      "[LightGBM] [Warning] No further splits with positive gain, best gain: -inf\n",
      "[LightGBM] [Warning] No further splits with positive gain, best gain: -inf\n",
      "[LightGBM] [Warning] No further splits with positive gain, best gain: -inf\n",
      "[LightGBM] [Warning] No further splits with positive gain, best gain: -inf\n",
      "[LightGBM] [Warning] No further splits with positive gain, best gain: -inf\n",
      "[LightGBM] [Warning] No further splits with positive gain, best gain: -inf\n",
      "[LightGBM] [Warning] No further splits with positive gain, best gain: -inf\n",
      "[LightGBM] [Warning] No further splits with positive gain, best gain: -inf\n",
      "[LightGBM] [Warning] No further splits with positive gain, best gain: -inf\n",
      "[LightGBM] [Warning] No further splits with positive gain, best gain: -inf\n",
      "[LightGBM] [Warning] No further splits with positive gain, best gain: -inf\n",
      "[LightGBM] [Warning] No further splits with positive gain, best gain: -inf\n",
      "[LightGBM] [Warning] No further splits with positive gain, best gain: -inf\n",
      "[LightGBM] [Warning] No further splits with positive gain, best gain: -inf\n",
      "[LightGBM] [Warning] No further splits with positive gain, best gain: -inf\n",
      "[LightGBM] [Warning] No further splits with positive gain, best gain: -inf\n",
      "[LightGBM] [Warning] No further splits with positive gain, best gain: -inf\n",
      "[LightGBM] [Warning] No further splits with positive gain, best gain: -inf\n",
      "[LightGBM] [Warning] No further splits with positive gain, best gain: -inf\n",
      "[LightGBM] [Warning] No further splits with positive gain, best gain: -inf\n",
      "[LightGBM] [Warning] No further splits with positive gain, best gain: -inf\n",
      "[LightGBM] [Warning] Accuracy may be bad since you didn't explicitly set num_leaves OR 2^max_depth > num_leaves. (num_leaves=31).\n",
      "err:  470538.09057860135\n",
      "[LightGBM] [Warning] Accuracy may be bad since you didn't explicitly set num_leaves OR 2^max_depth > num_leaves. (num_leaves=31).\n",
      "[LightGBM] [Warning] Accuracy may be bad since you didn't explicitly set num_leaves OR 2^max_depth > num_leaves. (num_leaves=31).\n",
      "[LightGBM] [Warning] Accuracy may be bad since you didn't explicitly set num_leaves OR 2^max_depth > num_leaves. (num_leaves=31).\n",
      "[LightGBM] [Warning] Auto-choosing row-wise multi-threading, the overhead of testing was 0.000305 seconds.\n",
      "You can set `force_row_wise=true` to remove the overhead.\n",
      "And if memory is not enough, you can set `force_col_wise=true`.\n",
      "[LightGBM] [Info] Total Bins 350\n",
      "[LightGBM] [Info] Number of data points in the train set: 9027, number of used features: 6\n",
      "[LightGBM] [Warning] Accuracy may be bad since you didn't explicitly set num_leaves OR 2^max_depth > num_leaves. (num_leaves=31).\n",
      "[LightGBM] [Info] Start training from score 14.469583\n",
      "[LightGBM] [Warning] No further splits with positive gain, best gain: -inf\n",
      "[LightGBM] [Warning] No further splits with positive gain, best gain: -inf\n",
      "[LightGBM] [Warning] No further splits with positive gain, best gain: -inf\n",
      "[LightGBM] [Warning] No further splits with positive gain, best gain: -inf\n",
      "[LightGBM] [Warning] No further splits with positive gain, best gain: -inf\n",
      "[LightGBM] [Warning] No further splits with positive gain, best gain: -inf\n",
      "[LightGBM] [Warning] No further splits with positive gain, best gain: -inf\n",
      "[LightGBM] [Warning] No further splits with positive gain, best gain: -inf\n",
      "[LightGBM] [Warning] No further splits with positive gain, best gain: -inf\n",
      "[LightGBM] [Warning] Accuracy may be bad since you didn't explicitly set num_leaves OR 2^max_depth > num_leaves. (num_leaves=31).\n",
      "err:  523391.95610661566\n",
      "[LightGBM] [Warning] Accuracy may be bad since you didn't explicitly set num_leaves OR 2^max_depth > num_leaves. (num_leaves=31).\n",
      "[LightGBM] [Warning] Accuracy may be bad since you didn't explicitly set num_leaves OR 2^max_depth > num_leaves. (num_leaves=31).\n",
      "[LightGBM] [Warning] Accuracy may be bad since you didn't explicitly set num_leaves OR 2^max_depth > num_leaves. (num_leaves=31).\n",
      "[LightGBM] [Warning] Auto-choosing col-wise multi-threading, the overhead of testing was 0.001095 seconds.\n",
      "You can set `force_col_wise=true` to remove the overhead.\n",
      "[LightGBM] [Info] Total Bins 350\n",
      "[LightGBM] [Info] Number of data points in the train set: 9027, number of used features: 6\n",
      "[LightGBM] [Warning] Accuracy may be bad since you didn't explicitly set num_leaves OR 2^max_depth > num_leaves. (num_leaves=31).\n",
      "[LightGBM] [Info] Start training from score 14.467866\n"
     ]
    },
    {
     "name": "stdout",
     "output_type": "stream",
     "text": [
      "[LightGBM] [Warning] No further splits with positive gain, best gain: -inf\n",
      "[LightGBM] [Warning] No further splits with positive gain, best gain: -inf\n",
      "[LightGBM] [Warning] No further splits with positive gain, best gain: -inf\n",
      "[LightGBM] [Warning] No further splits with positive gain, best gain: -inf\n",
      "[LightGBM] [Warning] No further splits with positive gain, best gain: -inf\n",
      "[LightGBM] [Warning] No further splits with positive gain, best gain: -inf\n",
      "[LightGBM] [Warning] No further splits with positive gain, best gain: -inf\n",
      "[LightGBM] [Warning] No further splits with positive gain, best gain: -inf\n",
      "[LightGBM] [Warning] No further splits with positive gain, best gain: -inf\n",
      "[LightGBM] [Warning] No further splits with positive gain, best gain: -inf\n",
      "[LightGBM] [Warning] No further splits with positive gain, best gain: -inf\n",
      "[LightGBM] [Warning] No further splits with positive gain, best gain: -inf\n",
      "[LightGBM] [Warning] No further splits with positive gain, best gain: -inf\n",
      "[LightGBM] [Warning] No further splits with positive gain, best gain: -inf\n",
      "[LightGBM] [Warning] No further splits with positive gain, best gain: -inf\n",
      "[LightGBM] [Warning] No further splits with positive gain, best gain: -inf\n",
      "[LightGBM] [Warning] Accuracy may be bad since you didn't explicitly set num_leaves OR 2^max_depth > num_leaves. (num_leaves=31).\n",
      "err:  576755.6492089501\n",
      "[LightGBM] [Warning] Accuracy may be bad since you didn't explicitly set num_leaves OR 2^max_depth > num_leaves. (num_leaves=31).\n",
      "[LightGBM] [Warning] Accuracy may be bad since you didn't explicitly set num_leaves OR 2^max_depth > num_leaves. (num_leaves=31).\n",
      "[LightGBM] [Warning] Accuracy may be bad since you didn't explicitly set num_leaves OR 2^max_depth > num_leaves. (num_leaves=31).\n",
      "[LightGBM] [Warning] Auto-choosing row-wise multi-threading, the overhead of testing was 0.000141 seconds.\n",
      "You can set `force_row_wise=true` to remove the overhead.\n",
      "And if memory is not enough, you can set `force_col_wise=true`.\n",
      "[LightGBM] [Info] Total Bins 350\n",
      "[LightGBM] [Info] Number of data points in the train set: 9027, number of used features: 6\n",
      "[LightGBM] [Warning] Accuracy may be bad since you didn't explicitly set num_leaves OR 2^max_depth > num_leaves. (num_leaves=31).\n",
      "[LightGBM] [Info] Start training from score 14.466073\n",
      "[LightGBM] [Warning] No further splits with positive gain, best gain: -inf\n",
      "[LightGBM] [Warning] No further splits with positive gain, best gain: -inf\n",
      "[LightGBM] [Warning] No further splits with positive gain, best gain: -inf\n",
      "[LightGBM] [Warning] No further splits with positive gain, best gain: -inf\n",
      "[LightGBM] [Warning] No further splits with positive gain, best gain: -inf\n",
      "[LightGBM] [Warning] No further splits with positive gain, best gain: -inf\n",
      "[LightGBM] [Warning] No further splits with positive gain, best gain: -inf\n",
      "[LightGBM] [Warning] No further splits with positive gain, best gain: -inf\n",
      "[LightGBM] [Warning] No further splits with positive gain, best gain: -inf\n",
      "[LightGBM] [Warning] No further splits with positive gain, best gain: -inf\n",
      "[LightGBM] [Warning] No further splits with positive gain, best gain: -inf\n",
      "[LightGBM] [Warning] No further splits with positive gain, best gain: -inf\n",
      "[LightGBM] [Warning] No further splits with positive gain, best gain: -inf\n",
      "[LightGBM] [Warning] No further splits with positive gain, best gain: -inf\n",
      "[LightGBM] [Warning] No further splits with positive gain, best gain: -inf\n",
      "[LightGBM] [Warning] No further splits with positive gain, best gain: -inf\n",
      "[LightGBM] [Warning] No further splits with positive gain, best gain: -inf\n",
      "[LightGBM] [Warning] No further splits with positive gain, best gain: -inf\n",
      "[LightGBM] [Warning] No further splits with positive gain, best gain: -inf\n",
      "[LightGBM] [Warning] No further splits with positive gain, best gain: -inf\n",
      "[LightGBM] [Warning] Accuracy may be bad since you didn't explicitly set num_leaves OR 2^max_depth > num_leaves. (num_leaves=31).\n",
      "err:  448977.0414346934\n",
      "[LightGBM] [Warning] Accuracy may be bad since you didn't explicitly set num_leaves OR 2^max_depth > num_leaves. (num_leaves=31).\n",
      "[LightGBM] [Warning] Accuracy may be bad since you didn't explicitly set num_leaves OR 2^max_depth > num_leaves. (num_leaves=31).\n",
      "[LightGBM] [Warning] Accuracy may be bad since you didn't explicitly set num_leaves OR 2^max_depth > num_leaves. (num_leaves=31).\n",
      "[LightGBM] [Warning] Auto-choosing row-wise multi-threading, the overhead of testing was 0.000128 seconds.\n",
      "You can set `force_row_wise=true` to remove the overhead.\n",
      "And if memory is not enough, you can set `force_col_wise=true`.\n",
      "[LightGBM] [Info] Total Bins 350\n",
      "[LightGBM] [Info] Number of data points in the train set: 9027, number of used features: 6\n",
      "[LightGBM] [Warning] Accuracy may be bad since you didn't explicitly set num_leaves OR 2^max_depth > num_leaves. (num_leaves=31).\n",
      "[LightGBM] [Info] Start training from score 14.468432\n",
      "[LightGBM] [Warning] No further splits with positive gain, best gain: -inf\n",
      "[LightGBM] [Warning] No further splits with positive gain, best gain: -inf\n",
      "[LightGBM] [Warning] No further splits with positive gain, best gain: -inf\n",
      "[LightGBM] [Warning] No further splits with positive gain, best gain: -inf\n",
      "[LightGBM] [Warning] No further splits with positive gain, best gain: -inf\n",
      "[LightGBM] [Warning] No further splits with positive gain, best gain: -inf\n",
      "[LightGBM] [Warning] No further splits with positive gain, best gain: -inf\n",
      "[LightGBM] [Warning] Accuracy may be bad since you didn't explicitly set num_leaves OR 2^max_depth > num_leaves. (num_leaves=31).\n",
      "err:  570016.856170082\n",
      "[LightGBM] [Warning] Accuracy may be bad since you didn't explicitly set num_leaves OR 2^max_depth > num_leaves. (num_leaves=31).\n",
      "505915.8673185172\n"
     ]
    }
   ],
   "source": [
    "fold_pred=[]\n",
    "oof_pred = []\n",
    "\n",
    "params = {\n",
    "    'n_estimators': 500,\n",
    "    'colsample_bytree': 0.86,\n",
    " 'learning_rate': 0.032,\n",
    " 'max_depth': 7,\n",
    " 'subsample': 0.85}\n",
    "\n",
    "\n",
    "fold = KFold(n_splits=7, shuffle=True)#15#5#10\n",
    "i=1\n",
    "for train_index, test_index in fold.split(x,y):     \n",
    "  \n",
    "    X_train, X_test = x.iloc[train_index], x.iloc[test_index]\n",
    "    y_train, y_test = np.log1p(y.iloc[train_index]), y.iloc[test_index]\n",
    "\n",
    "    model = LGBMRegressor(**params, objective = \"rmse\")\n",
    "    model.fit(X_train,y_train,eval_set=[(X_train,y_train),(X_test, y_test)])#erly100\n",
    "\n",
    "    preds= model.predict(X_test)\n",
    "    print(\"err: \",(mean_squared_error(y_test,np.expm1(preds), squared=False)))  #Reverse transformation\n",
    "    oof_pred.append(mean_squared_error(y_test,np.expm1(preds),squared=False))\n",
    "    p2 = model.predict(test_df[x.columns])\n",
    "    fold_pred.append(np.expm1(p2))\n",
    "    \n",
    "\n",
    "print(np.mean(oof_pred))"
   ]
  },
  {
   "cell_type": "markdown",
   "id": "6e9c7c98",
   "metadata": {},
   "source": [
    "### Gradient Booster"
   ]
  },
  {
   "cell_type": "code",
   "execution_count": 126,
   "id": "f282faaa",
   "metadata": {
    "scrolled": true
   },
   "outputs": [
    {
     "name": "stdout",
     "output_type": "stream",
     "text": [
      "[LightGBM] [Warning] Auto-choosing col-wise multi-threading, the overhead of testing was 0.000419 seconds.\n",
      "You can set `force_col_wise=true` to remove the overhead.\n",
      "mse = 2385906.423859324\n"
     ]
    },
    {
     "data": {
      "text/plain": [
       "array([14.04126967, 14.25696453, 14.39521641, ..., 15.12390409,\n",
       "       14.35305672, 14.73034049])"
      ]
     },
     "execution_count": 126,
     "metadata": {},
     "output_type": "execute_result"
    }
   ],
   "source": [
    "# calling the model function\n",
    "lgbm_model= LGBMRegressor(verbose=0)\n",
    "\n",
    "#training/ fitting the model on the X_train, y_train data\n",
    "lgbm_model.fit(X_train, y_train)\n",
    "\n",
    "#making the prediction on part of the train data\n",
    "lgbm_pred= lgbm_model.predict(X_test)\n",
    "\n",
    "# checking the mean squared error\n",
    "print(f'mse = {mean_squared_error(y_test, lgbm_pred, squared=False)}')\n",
    "\n",
    "\n",
    "# printing the prediction\n",
    "lgbm_pred"
   ]
  },
  {
   "cell_type": "code",
   "execution_count": 108,
   "id": "0086bd53",
   "metadata": {},
   "outputs": [],
   "source": [
    "from lightgbm import LGBMClassifier"
   ]
  },
  {
   "cell_type": "code",
   "execution_count": 117,
   "id": "5de35bf7",
   "metadata": {},
   "outputs": [
    {
     "ename": "ValueError",
     "evalue": "Unknown label type: 'continuous'",
     "output_type": "error",
     "traceback": [
      "\u001b[1;31m---------------------------------------------------------------------------\u001b[0m",
      "\u001b[1;31mValueError\u001b[0m                                Traceback (most recent call last)",
      "Input \u001b[1;32mIn [117]\u001b[0m, in \u001b[0;36m<cell line: 5>\u001b[1;34m()\u001b[0m\n\u001b[0;32m      2\u001b[0m lgbm_model\u001b[38;5;241m=\u001b[39m LGBMClassifier()\n\u001b[0;32m      4\u001b[0m \u001b[38;5;66;03m#training/ fitting the model on the X_train, y_train data\u001b[39;00m\n\u001b[1;32m----> 5\u001b[0m \u001b[43mlgbm_model\u001b[49m\u001b[38;5;241;43m.\u001b[39;49m\u001b[43mfit\u001b[49m\u001b[43m(\u001b[49m\u001b[43mX_train\u001b[49m\u001b[43m,\u001b[49m\u001b[43m \u001b[49m\u001b[43my_train\u001b[49m\u001b[43m)\u001b[49m\n\u001b[0;32m      7\u001b[0m \u001b[38;5;66;03m#making the prediction on part of the train data\u001b[39;00m\n\u001b[0;32m      8\u001b[0m lgbm_pred\u001b[38;5;241m=\u001b[39m lgbm_model\u001b[38;5;241m.\u001b[39mpredict(X_test)\n",
      "File \u001b[1;32m~\\anaconda3\\lib\\site-packages\\lightgbm\\sklearn.py:1097\u001b[0m, in \u001b[0;36mLGBMClassifier.fit\u001b[1;34m(self, X, y, sample_weight, init_score, eval_set, eval_names, eval_sample_weight, eval_class_weight, eval_init_score, eval_metric, feature_name, categorical_feature, callbacks, init_model)\u001b[0m\n\u001b[0;32m   1095\u001b[0m \u001b[38;5;124;03m\"\"\"Docstring is inherited from the LGBMModel.\"\"\"\u001b[39;00m\n\u001b[0;32m   1096\u001b[0m _LGBMAssertAllFinite(y)\n\u001b[1;32m-> 1097\u001b[0m \u001b[43m_LGBMCheckClassificationTargets\u001b[49m\u001b[43m(\u001b[49m\u001b[43my\u001b[49m\u001b[43m)\u001b[49m\n\u001b[0;32m   1098\u001b[0m \u001b[38;5;28mself\u001b[39m\u001b[38;5;241m.\u001b[39m_le \u001b[38;5;241m=\u001b[39m _LGBMLabelEncoder()\u001b[38;5;241m.\u001b[39mfit(y)\n\u001b[0;32m   1099\u001b[0m _y \u001b[38;5;241m=\u001b[39m \u001b[38;5;28mself\u001b[39m\u001b[38;5;241m.\u001b[39m_le\u001b[38;5;241m.\u001b[39mtransform(y)\n",
      "File \u001b[1;32m~\\anaconda3\\lib\\site-packages\\sklearn\\utils\\multiclass.py:197\u001b[0m, in \u001b[0;36mcheck_classification_targets\u001b[1;34m(y)\u001b[0m\n\u001b[0;32m    189\u001b[0m y_type \u001b[38;5;241m=\u001b[39m type_of_target(y)\n\u001b[0;32m    190\u001b[0m \u001b[38;5;28;01mif\u001b[39;00m y_type \u001b[38;5;129;01mnot\u001b[39;00m \u001b[38;5;129;01min\u001b[39;00m [\n\u001b[0;32m    191\u001b[0m     \u001b[38;5;124m\"\u001b[39m\u001b[38;5;124mbinary\u001b[39m\u001b[38;5;124m\"\u001b[39m,\n\u001b[0;32m    192\u001b[0m     \u001b[38;5;124m\"\u001b[39m\u001b[38;5;124mmulticlass\u001b[39m\u001b[38;5;124m\"\u001b[39m,\n\u001b[1;32m   (...)\u001b[0m\n\u001b[0;32m    195\u001b[0m     \u001b[38;5;124m\"\u001b[39m\u001b[38;5;124mmultilabel-sequences\u001b[39m\u001b[38;5;124m\"\u001b[39m,\n\u001b[0;32m    196\u001b[0m ]:\n\u001b[1;32m--> 197\u001b[0m     \u001b[38;5;28;01mraise\u001b[39;00m \u001b[38;5;167;01mValueError\u001b[39;00m(\u001b[38;5;124m\"\u001b[39m\u001b[38;5;124mUnknown label type: \u001b[39m\u001b[38;5;132;01m%r\u001b[39;00m\u001b[38;5;124m\"\u001b[39m \u001b[38;5;241m%\u001b[39m y_type)\n",
      "\u001b[1;31mValueError\u001b[0m: Unknown label type: 'continuous'"
     ]
    }
   ],
   "source": [
    "# calling the model function\n",
    "lgbm_model= LGBMClassifier()\n",
    "\n",
    "#training/ fitting the model on the X_train, y_train data\n",
    "lgbm_model.fit(X_train, y_train)\n",
    "\n",
    "#making the prediction on part of the train data\n",
    "lgbm_pred= lgbm_model.predict(X_test)\n",
    "\n",
    "# checking the mean squared error\n",
    "print(f'mse = {mean_squared_error(y_test, lgbm_pred, squared=False)}')\n",
    "\n",
    "\n",
    "# printing the prediction\n",
    "lgbm_pred"
   ]
  },
  {
   "cell_type": "code",
   "execution_count": null,
   "id": "2a5c0c40",
   "metadata": {},
   "outputs": [],
   "source": []
  },
  {
   "cell_type": "markdown",
   "id": "098c05dc",
   "metadata": {},
   "source": [
    "### Creating Submission file"
   ]
  },
  {
   "cell_type": "code",
   "execution_count": 121,
   "id": "d35dd75d",
   "metadata": {},
   "outputs": [
    {
     "data": {
      "text/plain": [
       "'you_model'"
      ]
     },
     "execution_count": 121,
     "metadata": {},
     "output_type": "execute_result"
    }
   ],
   "source": [
    "# testing prediction model\n",
    "def testModel(x):\n",
    "    # creating copy of test_df to predict\n",
    "    toPredict= test_df.copy()\n",
    "\n",
    "    #converting the price prediction to a column in toPredict_df\n",
    "    toPredict['price'] =x.predict(toPredict_df)\n",
    "    \n",
    "    model_name= str(x) + \"_model\"\n",
    "    \n",
    "    #selecting the needed columns as seen in sample submission\n",
    "    model_submission= toPredict[['ID', 'price']]\n",
    "    \n",
    "    #converting dataframe back to csv file\n",
    "    model_sub3.to_csv('model_sub3.csv', index=False)\n"
   ]
  },
  {
   "cell_type": "code",
   "execution_count": 119,
   "id": "9b1faa65",
   "metadata": {},
   "outputs": [
    {
     "ename": "NotFittedError",
     "evalue": "Estimator not fitted, call fit before exploiting the model.",
     "output_type": "error",
     "traceback": [
      "\u001b[1;31m---------------------------------------------------------------------------\u001b[0m",
      "\u001b[1;31mNotFittedError\u001b[0m                            Traceback (most recent call last)",
      "Input \u001b[1;32mIn [119]\u001b[0m, in \u001b[0;36m<cell line: 5>\u001b[1;34m()\u001b[0m\n\u001b[0;32m      2\u001b[0m toPredict\u001b[38;5;241m=\u001b[39m test_df\u001b[38;5;241m.\u001b[39mcopy()\n\u001b[0;32m      4\u001b[0m \u001b[38;5;66;03m#converting the price prediction to a column in toPredict_df\u001b[39;00m\n\u001b[1;32m----> 5\u001b[0m toPredict[\u001b[38;5;124m'\u001b[39m\u001b[38;5;124mprice\u001b[39m\u001b[38;5;124m'\u001b[39m]\u001b[38;5;241m=\u001b[39m \u001b[43mlgbm_model\u001b[49m\u001b[38;5;241;43m.\u001b[39;49m\u001b[43mpredict\u001b[49m\u001b[43m(\u001b[49m\u001b[43mtest_df\u001b[49m\u001b[43m)\u001b[49m\n\u001b[0;32m      7\u001b[0m \u001b[38;5;66;03m#selecting the needed columns as seen in sample submission\u001b[39;00m\n\u001b[0;32m      8\u001b[0m model_sub\u001b[38;5;241m=\u001b[39m toPredict[[\u001b[38;5;124m'\u001b[39m\u001b[38;5;124mID\u001b[39m\u001b[38;5;124m'\u001b[39m, \u001b[38;5;124m'\u001b[39m\u001b[38;5;124mprice\u001b[39m\u001b[38;5;124m'\u001b[39m]]\n",
      "File \u001b[1;32m~\\anaconda3\\lib\\site-packages\\lightgbm\\sklearn.py:1178\u001b[0m, in \u001b[0;36mLGBMClassifier.predict\u001b[1;34m(self, X, raw_score, start_iteration, num_iteration, pred_leaf, pred_contrib, validate_features, **kwargs)\u001b[0m\n\u001b[0;32m   1166\u001b[0m \u001b[38;5;28;01mdef\u001b[39;00m \u001b[38;5;21mpredict\u001b[39m(\n\u001b[0;32m   1167\u001b[0m     \u001b[38;5;28mself\u001b[39m,\n\u001b[0;32m   1168\u001b[0m     X: _LGBM_ScikitMatrixLike,\n\u001b[1;32m   (...)\u001b[0m\n\u001b[0;32m   1175\u001b[0m     \u001b[38;5;241m*\u001b[39m\u001b[38;5;241m*\u001b[39mkwargs: Any\n\u001b[0;32m   1176\u001b[0m ):\n\u001b[0;32m   1177\u001b[0m     \u001b[38;5;124;03m\"\"\"Docstring is inherited from the LGBMModel.\"\"\"\u001b[39;00m\n\u001b[1;32m-> 1178\u001b[0m     result \u001b[38;5;241m=\u001b[39m \u001b[38;5;28mself\u001b[39m\u001b[38;5;241m.\u001b[39mpredict_proba(\n\u001b[0;32m   1179\u001b[0m         X\u001b[38;5;241m=\u001b[39mX,\n\u001b[0;32m   1180\u001b[0m         raw_score\u001b[38;5;241m=\u001b[39mraw_score,\n\u001b[0;32m   1181\u001b[0m         start_iteration\u001b[38;5;241m=\u001b[39mstart_iteration,\n\u001b[0;32m   1182\u001b[0m         num_iteration\u001b[38;5;241m=\u001b[39mnum_iteration,\n\u001b[0;32m   1183\u001b[0m         pred_leaf\u001b[38;5;241m=\u001b[39mpred_leaf,\n\u001b[0;32m   1184\u001b[0m         pred_contrib\u001b[38;5;241m=\u001b[39mpred_contrib,\n\u001b[0;32m   1185\u001b[0m         validate_features\u001b[38;5;241m=\u001b[39mvalidate_features,\n\u001b[0;32m   1186\u001b[0m         \u001b[38;5;241m*\u001b[39m\u001b[38;5;241m*\u001b[39mkwargs\n\u001b[0;32m   1187\u001b[0m     )\n\u001b[0;32m   1188\u001b[0m     \u001b[38;5;28;01mif\u001b[39;00m callable(\u001b[38;5;28mself\u001b[39m\u001b[38;5;241m.\u001b[39m_objective) \u001b[38;5;129;01mor\u001b[39;00m raw_score \u001b[38;5;129;01mor\u001b[39;00m pred_leaf \u001b[38;5;129;01mor\u001b[39;00m pred_contrib:\n\u001b[0;32m   1189\u001b[0m         \u001b[38;5;28;01mreturn\u001b[39;00m result\n",
      "File \u001b[1;32m~\\anaconda3\\lib\\site-packages\\lightgbm\\sklearn.py:1208\u001b[0m, in \u001b[0;36mLGBMClassifier.predict_proba\u001b[1;34m(self, X, raw_score, start_iteration, num_iteration, pred_leaf, pred_contrib, validate_features, **kwargs)\u001b[0m\n\u001b[0;32m   1196\u001b[0m \u001b[38;5;28;01mdef\u001b[39;00m \u001b[38;5;21mpredict_proba\u001b[39m(\n\u001b[0;32m   1197\u001b[0m     \u001b[38;5;28mself\u001b[39m,\n\u001b[0;32m   1198\u001b[0m     X: _LGBM_ScikitMatrixLike,\n\u001b[1;32m   (...)\u001b[0m\n\u001b[0;32m   1205\u001b[0m     \u001b[38;5;241m*\u001b[39m\u001b[38;5;241m*\u001b[39mkwargs: Any\n\u001b[0;32m   1206\u001b[0m ):\n\u001b[0;32m   1207\u001b[0m     \u001b[38;5;124;03m\"\"\"Docstring is set after definition, using a template.\"\"\"\u001b[39;00m\n\u001b[1;32m-> 1208\u001b[0m     result \u001b[38;5;241m=\u001b[39m \u001b[38;5;28msuper\u001b[39m()\u001b[38;5;241m.\u001b[39mpredict(\n\u001b[0;32m   1209\u001b[0m         X\u001b[38;5;241m=\u001b[39mX,\n\u001b[0;32m   1210\u001b[0m         raw_score\u001b[38;5;241m=\u001b[39mraw_score,\n\u001b[0;32m   1211\u001b[0m         start_iteration\u001b[38;5;241m=\u001b[39mstart_iteration,\n\u001b[0;32m   1212\u001b[0m         num_iteration\u001b[38;5;241m=\u001b[39mnum_iteration,\n\u001b[0;32m   1213\u001b[0m         pred_leaf\u001b[38;5;241m=\u001b[39mpred_leaf,\n\u001b[0;32m   1214\u001b[0m         pred_contrib\u001b[38;5;241m=\u001b[39mpred_contrib,\n\u001b[0;32m   1215\u001b[0m         validate_features\u001b[38;5;241m=\u001b[39mvalidate_features,\n\u001b[0;32m   1216\u001b[0m         \u001b[38;5;241m*\u001b[39m\u001b[38;5;241m*\u001b[39mkwargs\n\u001b[0;32m   1217\u001b[0m     )\n\u001b[0;32m   1218\u001b[0m     \u001b[38;5;28;01mif\u001b[39;00m callable(\u001b[38;5;28mself\u001b[39m\u001b[38;5;241m.\u001b[39m_objective) \u001b[38;5;129;01mand\u001b[39;00m \u001b[38;5;129;01mnot\u001b[39;00m (raw_score \u001b[38;5;129;01mor\u001b[39;00m pred_leaf \u001b[38;5;129;01mor\u001b[39;00m pred_contrib):\n\u001b[0;32m   1219\u001b[0m         _log_warning(\u001b[38;5;124m\"\u001b[39m\u001b[38;5;124mCannot compute class probabilities or labels \u001b[39m\u001b[38;5;124m\"\u001b[39m\n\u001b[0;32m   1220\u001b[0m                      \u001b[38;5;124m\"\u001b[39m\u001b[38;5;124mdue to the usage of customized objective function.\u001b[39m\u001b[38;5;130;01m\\n\u001b[39;00m\u001b[38;5;124m\"\u001b[39m\n\u001b[0;32m   1221\u001b[0m                      \u001b[38;5;124m\"\u001b[39m\u001b[38;5;124mReturning raw scores instead.\u001b[39m\u001b[38;5;124m\"\u001b[39m)\n",
      "File \u001b[1;32m~\\anaconda3\\lib\\site-packages\\lightgbm\\sklearn.py:889\u001b[0m, in \u001b[0;36mLGBMModel.predict\u001b[1;34m(self, X, raw_score, start_iteration, num_iteration, pred_leaf, pred_contrib, validate_features, **kwargs)\u001b[0m\n\u001b[0;32m    887\u001b[0m \u001b[38;5;124;03m\"\"\"Docstring is set after definition, using a template.\"\"\"\u001b[39;00m\n\u001b[0;32m    888\u001b[0m \u001b[38;5;28;01mif\u001b[39;00m \u001b[38;5;129;01mnot\u001b[39;00m \u001b[38;5;28mself\u001b[39m\u001b[38;5;241m.\u001b[39m__sklearn_is_fitted__():\n\u001b[1;32m--> 889\u001b[0m     \u001b[38;5;28;01mraise\u001b[39;00m LGBMNotFittedError(\u001b[38;5;124m\"\u001b[39m\u001b[38;5;124mEstimator not fitted, call fit before exploiting the model.\u001b[39m\u001b[38;5;124m\"\u001b[39m)\n\u001b[0;32m    890\u001b[0m \u001b[38;5;28;01mif\u001b[39;00m \u001b[38;5;129;01mnot\u001b[39;00m \u001b[38;5;28misinstance\u001b[39m(X, (pd_DataFrame, dt_DataTable)):\n\u001b[0;32m    891\u001b[0m     X \u001b[38;5;241m=\u001b[39m _LGBMCheckArray(X, accept_sparse\u001b[38;5;241m=\u001b[39m\u001b[38;5;28;01mTrue\u001b[39;00m, force_all_finite\u001b[38;5;241m=\u001b[39m\u001b[38;5;28;01mFalse\u001b[39;00m)\n",
      "\u001b[1;31mNotFittedError\u001b[0m: Estimator not fitted, call fit before exploiting the model."
     ]
    }
   ],
   "source": [
    "\n",
    "toPredict['price']= _model.predict(test_df)\n",
    "\n",
    "model_sub.head()"
   ]
  },
  {
   "cell_type": "code",
   "execution_count": 93,
   "id": "37f1963c",
   "metadata": {},
   "outputs": [
    {
     "data": {
      "text/html": [
       "<div>\n",
       "<style scoped>\n",
       "    .dataframe tbody tr th:only-of-type {\n",
       "        vertical-align: middle;\n",
       "    }\n",
       "\n",
       "    .dataframe tbody tr th {\n",
       "        vertical-align: top;\n",
       "    }\n",
       "\n",
       "    .dataframe thead th {\n",
       "        text-align: right;\n",
       "    }\n",
       "</style>\n",
       "<table border=\"1\" class=\"dataframe\">\n",
       "  <thead>\n",
       "    <tr style=\"text-align: right;\">\n",
       "      <th></th>\n",
       "      <th>ID</th>\n",
       "      <th>loc</th>\n",
       "      <th>title</th>\n",
       "      <th>bedroom</th>\n",
       "      <th>bathroom</th>\n",
       "      <th>parking_space</th>\n",
       "      <th>price</th>\n",
       "    </tr>\n",
       "  </thead>\n",
       "  <tbody>\n",
       "    <tr>\n",
       "      <th>0</th>\n",
       "      <td>845</td>\n",
       "      <td>0.028492</td>\n",
       "      <td>9</td>\n",
       "      <td>4.0</td>\n",
       "      <td>1.0</td>\n",
       "      <td>2.0</td>\n",
       "      <td>2294956.750</td>\n",
       "    </tr>\n",
       "    <tr>\n",
       "      <th>1</th>\n",
       "      <td>1924</td>\n",
       "      <td>0.027827</td>\n",
       "      <td>3</td>\n",
       "      <td>2.0</td>\n",
       "      <td>2.0</td>\n",
       "      <td>4.0</td>\n",
       "      <td>1053011.625</td>\n",
       "    </tr>\n",
       "    <tr>\n",
       "      <th>2</th>\n",
       "      <td>10718</td>\n",
       "      <td>0.027827</td>\n",
       "      <td>8</td>\n",
       "      <td>2.0</td>\n",
       "      <td>7.0</td>\n",
       "      <td>2.0</td>\n",
       "      <td>1183945.625</td>\n",
       "    </tr>\n",
       "    <tr>\n",
       "      <th>3</th>\n",
       "      <td>12076</td>\n",
       "      <td>0.027101</td>\n",
       "      <td>10</td>\n",
       "      <td>9.0</td>\n",
       "      <td>5.0</td>\n",
       "      <td>2.0</td>\n",
       "      <td>6446112.500</td>\n",
       "    </tr>\n",
       "    <tr>\n",
       "      <th>4</th>\n",
       "      <td>12254</td>\n",
       "      <td>0.027464</td>\n",
       "      <td>6</td>\n",
       "      <td>5.0</td>\n",
       "      <td>6.0</td>\n",
       "      <td>1.0</td>\n",
       "      <td>1992776.125</td>\n",
       "    </tr>\n",
       "  </tbody>\n",
       "</table>\n",
       "</div>"
      ],
      "text/plain": [
       "      ID       loc  title  bedroom  bathroom  parking_space        price\n",
       "0    845  0.028492      9      4.0       1.0            2.0  2294956.750\n",
       "1   1924  0.027827      3      2.0       2.0            4.0  1053011.625\n",
       "2  10718  0.027827      8      2.0       7.0            2.0  1183945.625\n",
       "3  12076  0.027101     10      9.0       5.0            2.0  6446112.500\n",
       "4  12254  0.027464      6      5.0       6.0            1.0  1992776.125"
      ]
     },
     "execution_count": 93,
     "metadata": {},
     "output_type": "execute_result"
    }
   ],
   "source": [
    "test_df.head()"
   ]
  },
  {
   "cell_type": "markdown",
   "id": "7b3a8935",
   "metadata": {},
   "source": [
    "### Saving submission file"
   ]
  },
  {
   "cell_type": "code",
   "execution_count": null,
   "id": "b5409e29",
   "metadata": {},
   "outputs": [],
   "source": [
    "#converting dataframe back to csv file\n",
    "model_sub3.to_csv('model_sub3.csv', index=False)"
   ]
  },
  {
   "cell_type": "code",
   "execution_count": null,
   "id": "896d9836",
   "metadata": {},
   "outputs": [],
   "source": []
  }
 ],
 "metadata": {
  "kernelspec": {
   "display_name": "Python 3 (ipykernel)",
   "language": "python",
   "name": "python3"
  },
  "language_info": {
   "codemirror_mode": {
    "name": "ipython",
    "version": 3
   },
   "file_extension": ".py",
   "mimetype": "text/x-python",
   "name": "python",
   "nbconvert_exporter": "python",
   "pygments_lexer": "ipython3",
   "version": "3.9.12"
  }
 },
 "nbformat": 4,
 "nbformat_minor": 5
}

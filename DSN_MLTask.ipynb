{
 "cells": [
  {
   "cell_type": "code",
   "execution_count": 14,
   "id": "5902c3d1",
   "metadata": {},
   "outputs": [],
   "source": [
    "# import libraries\n",
    "import pandas as pd\n",
    "import numpy as np\n",
    "import seaborn as sns\n",
    "import matplotlib.pyplot as plt\n",
    "\n",
    "%matplotlib inline\n"
   ]
  },
  {
   "cell_type": "code",
   "execution_count": 15,
   "id": "a442f3d3",
   "metadata": {},
   "outputs": [
    {
     "data": {
      "text/html": [
       "<div>\n",
       "<style scoped>\n",
       "    .dataframe tbody tr th:only-of-type {\n",
       "        vertical-align: middle;\n",
       "    }\n",
       "\n",
       "    .dataframe tbody tr th {\n",
       "        vertical-align: top;\n",
       "    }\n",
       "\n",
       "    .dataframe thead th {\n",
       "        text-align: right;\n",
       "    }\n",
       "</style>\n",
       "<table border=\"1\" class=\"dataframe\">\n",
       "  <thead>\n",
       "    <tr style=\"text-align: right;\">\n",
       "      <th></th>\n",
       "      <th>ID</th>\n",
       "      <th>loc</th>\n",
       "      <th>title</th>\n",
       "      <th>bedroom</th>\n",
       "      <th>bathroom</th>\n",
       "      <th>parking_space</th>\n",
       "    </tr>\n",
       "  </thead>\n",
       "  <tbody>\n",
       "    <tr>\n",
       "      <th>0</th>\n",
       "      <td>845</td>\n",
       "      <td>Kano</td>\n",
       "      <td>Penthouse</td>\n",
       "      <td>4</td>\n",
       "      <td>1</td>\n",
       "      <td>2</td>\n",
       "    </tr>\n",
       "    <tr>\n",
       "      <th>1</th>\n",
       "      <td>1924</td>\n",
       "      <td>Adamawa</td>\n",
       "      <td>Apartment</td>\n",
       "      <td>2</td>\n",
       "      <td>2</td>\n",
       "      <td>4</td>\n",
       "    </tr>\n",
       "  </tbody>\n",
       "</table>\n",
       "</div>"
      ],
      "text/plain": [
       "     ID      loc      title  bedroom  bathroom  parking_space\n",
       "0   845     Kano  Penthouse        4         1              2\n",
       "1  1924  Adamawa  Apartment        2         2              4"
      ]
     },
     "metadata": {},
     "output_type": "display_data"
    },
    {
     "data": {
      "text/html": [
       "<div>\n",
       "<style scoped>\n",
       "    .dataframe tbody tr th:only-of-type {\n",
       "        vertical-align: middle;\n",
       "    }\n",
       "\n",
       "    .dataframe tbody tr th {\n",
       "        vertical-align: top;\n",
       "    }\n",
       "\n",
       "    .dataframe thead th {\n",
       "        text-align: right;\n",
       "    }\n",
       "</style>\n",
       "<table border=\"1\" class=\"dataframe\">\n",
       "  <thead>\n",
       "    <tr style=\"text-align: right;\">\n",
       "      <th></th>\n",
       "      <th>ID</th>\n",
       "      <th>loc</th>\n",
       "      <th>title</th>\n",
       "      <th>bedroom</th>\n",
       "      <th>bathroom</th>\n",
       "      <th>parking_space</th>\n",
       "      <th>price</th>\n",
       "    </tr>\n",
       "  </thead>\n",
       "  <tbody>\n",
       "    <tr>\n",
       "      <th>0</th>\n",
       "      <td>3583</td>\n",
       "      <td>Katsina</td>\n",
       "      <td>Semi-detached duplex</td>\n",
       "      <td>2.0</td>\n",
       "      <td>2.0</td>\n",
       "      <td>1.0</td>\n",
       "      <td>1149999.565</td>\n",
       "    </tr>\n",
       "    <tr>\n",
       "      <th>1</th>\n",
       "      <td>2748</td>\n",
       "      <td>Ondo</td>\n",
       "      <td>Apartment</td>\n",
       "      <td>NaN</td>\n",
       "      <td>2.0</td>\n",
       "      <td>4.0</td>\n",
       "      <td>1672416.689</td>\n",
       "    </tr>\n",
       "  </tbody>\n",
       "</table>\n",
       "</div>"
      ],
      "text/plain": [
       "     ID      loc                 title  bedroom  bathroom  parking_space  \\\n",
       "0  3583  Katsina  Semi-detached duplex      2.0       2.0            1.0   \n",
       "1  2748     Ondo             Apartment      NaN       2.0            4.0   \n",
       "\n",
       "         price  \n",
       "0  1149999.565  \n",
       "1  1672416.689  "
      ]
     },
     "metadata": {},
     "output_type": "display_data"
    },
    {
     "data": {
      "text/html": [
       "<div>\n",
       "<style scoped>\n",
       "    .dataframe tbody tr th:only-of-type {\n",
       "        vertical-align: middle;\n",
       "    }\n",
       "\n",
       "    .dataframe tbody tr th {\n",
       "        vertical-align: top;\n",
       "    }\n",
       "\n",
       "    .dataframe thead th {\n",
       "        text-align: right;\n",
       "    }\n",
       "</style>\n",
       "<table border=\"1\" class=\"dataframe\">\n",
       "  <thead>\n",
       "    <tr style=\"text-align: right;\">\n",
       "      <th></th>\n",
       "      <th>ID</th>\n",
       "    </tr>\n",
       "  </thead>\n",
       "  <tbody>\n",
       "    <tr>\n",
       "      <th>0</th>\n",
       "      <td>845</td>\n",
       "    </tr>\n",
       "    <tr>\n",
       "      <th>1</th>\n",
       "      <td>1924</td>\n",
       "    </tr>\n",
       "  </tbody>\n",
       "</table>\n",
       "</div>"
      ],
      "text/plain": [
       "     ID\n",
       "0   845\n",
       "1  1924"
      ]
     },
     "metadata": {},
     "output_type": "display_data"
    }
   ],
   "source": [
    "#loading all the datasets\n",
    "test_df= pd.read_csv('Housing_dataset_test.csv')\n",
    "train_df= pd.read_csv('Housing_dataset_train.csv')\n",
    "sample_df= pd.read_csv('Sample_submission.csv')\n",
    "\n",
    "#displaying the dataframes\n",
    "display(test_df.head(2))\n",
    "display(train_df.head(2))\n",
    "display(sample_df.head(2))"
   ]
  },
  {
   "cell_type": "markdown",
   "id": "7ad738b5",
   "metadata": {},
   "source": [
    "## basic analysis of train and test dataframe\n"
   ]
  },
  {
   "cell_type": "code",
   "execution_count": 16,
   "id": "c7c4897c",
   "metadata": {},
   "outputs": [
    {
     "data": {
      "text/plain": [
       "(6000, 6)"
      ]
     },
     "execution_count": 16,
     "metadata": {},
     "output_type": "execute_result"
    }
   ],
   "source": [
    "#viewing both dataframes\n",
    "test_df.shape"
   ]
  },
  {
   "cell_type": "code",
   "execution_count": 17,
   "id": "6cc56c45",
   "metadata": {},
   "outputs": [
    {
     "data": {
      "text/plain": [
       "(14000, 7)"
      ]
     },
     "execution_count": 17,
     "metadata": {},
     "output_type": "execute_result"
    }
   ],
   "source": [
    "train_df.shape"
   ]
  },
  {
   "cell_type": "code",
   "execution_count": 18,
   "id": "82fff443",
   "metadata": {},
   "outputs": [
    {
     "data": {
      "text/plain": [
       "ID               0\n",
       "loc              0\n",
       "title            0\n",
       "bedroom          0\n",
       "bathroom         0\n",
       "parking_space    0\n",
       "dtype: int64"
      ]
     },
     "execution_count": 18,
     "metadata": {},
     "output_type": "execute_result"
    }
   ],
   "source": [
    "test_df.isna().sum()"
   ]
  },
  {
   "cell_type": "code",
   "execution_count": 19,
   "id": "bb8c9855",
   "metadata": {
    "scrolled": true
   },
   "outputs": [
    {
     "data": {
      "text/plain": [
       "ID                  0\n",
       "loc              1813\n",
       "title            1722\n",
       "bedroom          1799\n",
       "bathroom         1805\n",
       "parking_space    1811\n",
       "price               0\n",
       "dtype: int64"
      ]
     },
     "execution_count": 19,
     "metadata": {},
     "output_type": "execute_result"
    }
   ],
   "source": [
    "train_df.isna().sum()"
   ]
  },
  {
   "cell_type": "code",
   "execution_count": 20,
   "id": "d19efa1b",
   "metadata": {},
   "outputs": [
    {
     "data": {
      "text/html": [
       "<div>\n",
       "<style scoped>\n",
       "    .dataframe tbody tr th:only-of-type {\n",
       "        vertical-align: middle;\n",
       "    }\n",
       "\n",
       "    .dataframe tbody tr th {\n",
       "        vertical-align: top;\n",
       "    }\n",
       "\n",
       "    .dataframe thead th {\n",
       "        text-align: right;\n",
       "    }\n",
       "</style>\n",
       "<table border=\"1\" class=\"dataframe\">\n",
       "  <thead>\n",
       "    <tr style=\"text-align: right;\">\n",
       "      <th></th>\n",
       "      <th>ID</th>\n",
       "      <th>loc</th>\n",
       "      <th>title</th>\n",
       "      <th>bedroom</th>\n",
       "      <th>bathroom</th>\n",
       "      <th>parking_space</th>\n",
       "      <th>price</th>\n",
       "    </tr>\n",
       "  </thead>\n",
       "  <tbody>\n",
       "    <tr>\n",
       "      <th>0</th>\n",
       "      <td>3583</td>\n",
       "      <td>Katsina</td>\n",
       "      <td>Semi-detached duplex</td>\n",
       "      <td>2.0</td>\n",
       "      <td>2.0</td>\n",
       "      <td>1.0</td>\n",
       "      <td>1149999.565</td>\n",
       "    </tr>\n",
       "    <tr>\n",
       "      <th>1</th>\n",
       "      <td>2748</td>\n",
       "      <td>Ondo</td>\n",
       "      <td>Apartment</td>\n",
       "      <td>NaN</td>\n",
       "      <td>2.0</td>\n",
       "      <td>4.0</td>\n",
       "      <td>1672416.689</td>\n",
       "    </tr>\n",
       "    <tr>\n",
       "      <th>2</th>\n",
       "      <td>9261</td>\n",
       "      <td>Ekiti</td>\n",
       "      <td>NaN</td>\n",
       "      <td>7.0</td>\n",
       "      <td>5.0</td>\n",
       "      <td>NaN</td>\n",
       "      <td>3364799.814</td>\n",
       "    </tr>\n",
       "    <tr>\n",
       "      <th>3</th>\n",
       "      <td>2224</td>\n",
       "      <td>Anambra</td>\n",
       "      <td>Detached duplex</td>\n",
       "      <td>5.0</td>\n",
       "      <td>2.0</td>\n",
       "      <td>4.0</td>\n",
       "      <td>2410306.756</td>\n",
       "    </tr>\n",
       "    <tr>\n",
       "      <th>4</th>\n",
       "      <td>10300</td>\n",
       "      <td>Kogi</td>\n",
       "      <td>Terrace duplex</td>\n",
       "      <td>NaN</td>\n",
       "      <td>5.0</td>\n",
       "      <td>6.0</td>\n",
       "      <td>2600700.898</td>\n",
       "    </tr>\n",
       "  </tbody>\n",
       "</table>\n",
       "</div>"
      ],
      "text/plain": [
       "      ID      loc                 title  bedroom  bathroom  parking_space  \\\n",
       "0   3583  Katsina  Semi-detached duplex      2.0       2.0            1.0   \n",
       "1   2748     Ondo             Apartment      NaN       2.0            4.0   \n",
       "2   9261    Ekiti                   NaN      7.0       5.0            NaN   \n",
       "3   2224  Anambra       Detached duplex      5.0       2.0            4.0   \n",
       "4  10300     Kogi        Terrace duplex      NaN       5.0            6.0   \n",
       "\n",
       "         price  \n",
       "0  1149999.565  \n",
       "1  1672416.689  \n",
       "2  3364799.814  \n",
       "3  2410306.756  \n",
       "4  2600700.898  "
      ]
     },
     "execution_count": 20,
     "metadata": {},
     "output_type": "execute_result"
    }
   ],
   "source": [
    "train_df.head()"
   ]
  },
  {
   "cell_type": "code",
   "execution_count": 22,
   "id": "94273830",
   "metadata": {},
   "outputs": [],
   "source": [
    "#train_df.groupby(['title', 'loc'])"
   ]
  },
  {
   "cell_type": "code",
   "execution_count": null,
   "id": "c2a4da2a",
   "metadata": {},
   "outputs": [],
   "source": []
  },
  {
   "cell_type": "markdown",
   "id": "c490a670",
   "metadata": {},
   "source": [
    "### Correlation heatmap"
   ]
  },
  {
   "cell_type": "code",
   "execution_count": 23,
   "id": "0d318ef5",
   "metadata": {},
   "outputs": [
    {
     "data": {
      "image/png": "[encoded data removed]",
      "text/plain": [
       "<Figure size 720x504 with 2 Axes>"
      ]
     },
     "metadata": {
      "needs_background": "light"
     },
     "output_type": "display_data"
    }
   ],
   "source": [
    "# visualizing correlation coefficients between the columns\n",
    "corr = train_df.corr()\n",
    "plt.figure(figsize = (10,7))\n",
    "sns.heatmap(corr, annot = True);"
   ]
  },
  {
   "cell_type": "markdown",
   "id": "642aa583",
   "metadata": {},
   "source": [
    "- From the above we see bedroom has the highest correlation to price."
   ]
  },
  {
   "cell_type": "markdown",
   "id": "c2471740",
   "metadata": {},
   "source": [
    "### Dealing with the missing values"
   ]
  },
  {
   "cell_type": "code",
   "execution_count": 35,
   "id": "52de885a",
   "metadata": {},
   "outputs": [
    {
     "data": {
      "text/plain": [
       "(10531, 7)"
      ]
     },
     "execution_count": 35,
     "metadata": {},
     "output_type": "execute_result"
    }
   ],
   "source": [
    "# dropping rows with null values in title and loc columns\n",
    "train_df= train_df.dropna(subset=['loc', 'title'])\n",
    "train_df.shape"
   ]
  },
  {
   "cell_type": "code",
   "execution_count": 24,
   "id": "d78f65b9",
   "metadata": {},
   "outputs": [
    {
     "data": {
      "text/plain": [
       "Index(['ID', 'loc', 'title', 'bedroom', 'bathroom', 'parking_space', 'price'], dtype='object')"
      ]
     },
     "execution_count": 24,
     "metadata": {},
     "output_type": "execute_result"
    }
   ],
   "source": [
    "train_df.columns"
   ]
  },
  {
   "cell_type": "code",
   "execution_count": 25,
   "id": "e3dae77e",
   "metadata": {
    "scrolled": true
   },
   "outputs": [
    {
     "data": {
      "text/html": [
       "<div>\n",
       "<style scoped>\n",
       "    .dataframe tbody tr th:only-of-type {\n",
       "        vertical-align: middle;\n",
       "    }\n",
       "\n",
       "    .dataframe tbody tr th {\n",
       "        vertical-align: top;\n",
       "    }\n",
       "\n",
       "    .dataframe thead th {\n",
       "        text-align: right;\n",
       "    }\n",
       "</style>\n",
       "<table border=\"1\" class=\"dataframe\">\n",
       "  <thead>\n",
       "    <tr style=\"text-align: right;\">\n",
       "      <th></th>\n",
       "      <th>ID</th>\n",
       "      <th>loc</th>\n",
       "      <th>title</th>\n",
       "      <th>bedroom</th>\n",
       "      <th>bathroom</th>\n",
       "      <th>parking_space</th>\n",
       "      <th>price</th>\n",
       "    </tr>\n",
       "  </thead>\n",
       "  <tbody>\n",
       "    <tr>\n",
       "      <th>0</th>\n",
       "      <td>3583</td>\n",
       "      <td>Katsina</td>\n",
       "      <td>Semi-detached duplex</td>\n",
       "      <td>2.0</td>\n",
       "      <td>2.0</td>\n",
       "      <td>1.0</td>\n",
       "      <td>1149999.565</td>\n",
       "    </tr>\n",
       "    <tr>\n",
       "      <th>1</th>\n",
       "      <td>2748</td>\n",
       "      <td>Ondo</td>\n",
       "      <td>Apartment</td>\n",
       "      <td>NaN</td>\n",
       "      <td>2.0</td>\n",
       "      <td>4.0</td>\n",
       "      <td>1672416.689</td>\n",
       "    </tr>\n",
       "    <tr>\n",
       "      <th>2</th>\n",
       "      <td>9261</td>\n",
       "      <td>Ekiti</td>\n",
       "      <td>NaN</td>\n",
       "      <td>7.0</td>\n",
       "      <td>5.0</td>\n",
       "      <td>NaN</td>\n",
       "      <td>3364799.814</td>\n",
       "    </tr>\n",
       "    <tr>\n",
       "      <th>3</th>\n",
       "      <td>2224</td>\n",
       "      <td>Anambra</td>\n",
       "      <td>Detached duplex</td>\n",
       "      <td>5.0</td>\n",
       "      <td>2.0</td>\n",
       "      <td>4.0</td>\n",
       "      <td>2410306.756</td>\n",
       "    </tr>\n",
       "    <tr>\n",
       "      <th>4</th>\n",
       "      <td>10300</td>\n",
       "      <td>Kogi</td>\n",
       "      <td>Terrace duplex</td>\n",
       "      <td>NaN</td>\n",
       "      <td>5.0</td>\n",
       "      <td>6.0</td>\n",
       "      <td>2600700.898</td>\n",
       "    </tr>\n",
       "  </tbody>\n",
       "</table>\n",
       "</div>"
      ],
      "text/plain": [
       "      ID      loc                 title  bedroom  bathroom  parking_space  \\\n",
       "0   3583  Katsina  Semi-detached duplex      2.0       2.0            1.0   \n",
       "1   2748     Ondo             Apartment      NaN       2.0            4.0   \n",
       "2   9261    Ekiti                   NaN      7.0       5.0            NaN   \n",
       "3   2224  Anambra       Detached duplex      5.0       2.0            4.0   \n",
       "4  10300     Kogi        Terrace duplex      NaN       5.0            6.0   \n",
       "\n",
       "         price  \n",
       "0  1149999.565  \n",
       "1  1672416.689  \n",
       "2  3364799.814  \n",
       "3  2410306.756  \n",
       "4  2600700.898  "
      ]
     },
     "execution_count": 25,
     "metadata": {},
     "output_type": "execute_result"
    }
   ],
   "source": [
    "train_df.head()"
   ]
  },
  {
   "cell_type": "code",
   "execution_count": 28,
   "id": "5a837d2f",
   "metadata": {
    "scrolled": true
   },
   "outputs": [
    {
     "data": {
      "text/plain": [
       "ID                  0\n",
       "loc                 0\n",
       "title               0\n",
       "bedroom          1675\n",
       "bathroom         1672\n",
       "parking_space    1671\n",
       "price               0\n",
       "dtype: int64"
      ]
     },
     "execution_count": 28,
     "metadata": {},
     "output_type": "execute_result"
    }
   ],
   "source": [
    "train_df.isna().sum()"
   ]
  },
  {
   "cell_type": "code",
   "execution_count": null,
   "id": "40b9bca6",
   "metadata": {},
   "outputs": [],
   "source": []
  },
  {
   "cell_type": "code",
   "execution_count": 29,
   "id": "2012d3e2",
   "metadata": {},
   "outputs": [
    {
     "data": {
      "text/plain": [
       "ID               0\n",
       "loc              0\n",
       "title            0\n",
       "bedroom          0\n",
       "bathroom         0\n",
       "parking_space    0\n",
       "price            0\n",
       "dtype: int64"
      ]
     },
     "execution_count": 29,
     "metadata": {},
     "output_type": "execute_result"
    }
   ],
   "source": [
    "#defining the columns with null values \n",
    "columns_with_na= ['bedroom', 'bathroom', 'parking_space']\n",
    "\n",
    "#creating a loop to fill the null values\n",
    "#col_avg is the avg value of the column grouped by title\n",
    "for col in columns_with_na:\n",
    "    col_avg = train_df.groupby(['title'])[col].transform('mean')\n",
    "    train_df[col]= train_df[col].fillna(col_avg)\n",
    "train_df.isna().sum()"
   ]
  },
  {
   "cell_type": "markdown",
   "id": "6ddec989",
   "metadata": {},
   "source": [
    "col_avg = np.round(train_df.groupby(['title'])['bedroom'].mean(), 1)\n",
    "\n",
    "col_avg= col_avg.to_dict()\n",
    "\n",
    "col_avg\n"
   ]
  },
  {
   "cell_type": "markdown",
   "id": "d2cda616",
   "metadata": {},
   "source": [
    "mean_values = train_df.groupby('title')['bedroom'].transform('mean')\n",
    "df=train_df[['bedroom']].copy()\n",
    "df['bedroom2']=train_df['bedroom']\n",
    "df['bedroom2'] = df['bedroom2'].fillna(mean_values)\n"
   ]
  },
  {
   "cell_type": "code",
   "execution_count": 31,
   "id": "c072d9bf",
   "metadata": {
    "scrolled": true
   },
   "outputs": [
    {
     "data": {
      "text/plain": [
       "(10531, 7)"
      ]
     },
     "execution_count": 31,
     "metadata": {},
     "output_type": "execute_result"
    }
   ],
   "source": [
    "train_df.shape"
   ]
  },
  {
   "cell_type": "code",
   "execution_count": 32,
   "id": "70575fdd",
   "metadata": {},
   "outputs": [
    {
     "data": {
      "text/plain": [
       "ID               0\n",
       "loc              0\n",
       "title            0\n",
       "bedroom          0\n",
       "bathroom         0\n",
       "parking_space    0\n",
       "price            0\n",
       "dtype: int64"
      ]
     },
     "execution_count": 32,
     "metadata": {},
     "output_type": "execute_result"
    }
   ],
   "source": [
    "train_df.isna().sum()"
   ]
  },
  {
   "cell_type": "markdown",
   "id": "f65d0cdf",
   "metadata": {},
   "source": [
    "## cleaning the train dataset and exploring"
   ]
  },
  {
   "cell_type": "code",
   "execution_count": 33,
   "id": "decd7152",
   "metadata": {},
   "outputs": [
    {
     "name": "stdout",
     "output_type": "stream",
     "text": [
      "<class 'pandas.core.frame.DataFrame'>\n",
      "Int64Index: 10531 entries, 0 to 13998\n",
      "Data columns (total 7 columns):\n",
      " #   Column         Non-Null Count  Dtype  \n",
      "---  ------         --------------  -----  \n",
      " 0   ID             10531 non-null  int64  \n",
      " 1   loc            10531 non-null  object \n",
      " 2   title          10531 non-null  object \n",
      " 3   bedroom        10531 non-null  float64\n",
      " 4   bathroom       10531 non-null  float64\n",
      " 5   parking_space  10531 non-null  float64\n",
      " 6   price          10531 non-null  float64\n",
      "dtypes: float64(4), int64(1), object(2)\n",
      "memory usage: 658.2+ KB\n"
     ]
    }
   ],
   "source": [
    "train_df.info()"
   ]
  },
  {
   "cell_type": "code",
   "execution_count": 34,
   "id": "6277a1f1",
   "metadata": {
    "scrolled": false
   },
   "outputs": [
    {
     "data": {
      "text/plain": [
       "array([[<AxesSubplot:title={'center':'ID'}>,\n",
       "        <AxesSubplot:title={'center':'bedroom'}>],\n",
       "       [<AxesSubplot:title={'center':'bathroom'}>,\n",
       "        <AxesSubplot:title={'center':'parking_space'}>],\n",
       "       [<AxesSubplot:title={'center':'price'}>, <AxesSubplot:>]],\n",
       "      dtype=object)"
      ]
     },
     "execution_count": 34,
     "metadata": {},
     "output_type": "execute_result"
    },
    {
     "data": {
      "image/png": "[encoded data removed]",
      "text/plain": [
       "<Figure size 432x288 with 6 Axes>"
      ]
     },
     "metadata": {
      "needs_background": "light"
     },
     "output_type": "display_data"
    }
   ],
   "source": [
    "train_df.hist()"
   ]
  },
  {
   "cell_type": "markdown",
   "id": "22363803",
   "metadata": {},
   "source": [
    "- I notice that the price column is right skewed"
   ]
  },
  {
   "cell_type": "code",
   "execution_count": null,
   "id": "d1d7d700",
   "metadata": {},
   "outputs": [],
   "source": []
  },
  {
   "cell_type": "markdown",
   "id": "bddfee08",
   "metadata": {},
   "source": [
    "## Univariate visualizations"
   ]
  },
  {
   "cell_type": "code",
   "execution_count": 13,
   "id": "54d0a358",
   "metadata": {},
   "outputs": [
    {
     "data": {
      "text/plain": [
       "array(['Abia', 'Adamawa', 'Akwa Ibom', 'Anambra', 'Bauchi', 'Bayelsa',\n",
       "       'Benue', 'Borno', 'Cross River', 'Delta', 'Ebonyi', 'Edo', 'Ekiti',\n",
       "       'Enugu', 'Gombe', 'Imo', 'Jigawa', 'Kaduna', 'Kano', 'Katsina',\n",
       "       'Kebbi', 'Kogi', 'Kwara', 'Lagos', 'Nasarawa', 'Niger', 'Ogun',\n",
       "       'Ondo', 'Osun', 'Oyo', 'Plateau', 'Rivers', 'Sokoto', 'Taraba',\n",
       "       'Yobe', 'Zamfara', nan], dtype=object)"
      ]
     },
     "execution_count": 13,
     "metadata": {},
     "output_type": "execute_result"
    }
   ],
   "source": [
    "train_df['loc'].sort_values().unique()"
   ]
  },
  {
   "cell_type": "code",
   "execution_count": 14,
   "id": "930fff7c",
   "metadata": {},
   "outputs": [
    {
     "data": {
      "text/plain": [
       "<AxesSubplot:xlabel='count', ylabel='loc'>"
      ]
     },
     "execution_count": 14,
     "metadata": {},
     "output_type": "execute_result"
    },
    {
     "data": {
      "image/png": "[encoded data removed]",
      "text/plain": [
       "<Figure size 432x288 with 1 Axes>"
      ]
     },
     "metadata": {
      "needs_background": "light"
     },
     "output_type": "display_data"
    }
   ],
   "source": [
    "sns.countplot(y='loc', data= train_df)"
   ]
  },
  {
   "cell_type": "code",
   "execution_count": 15,
   "id": "0b3cd17c",
   "metadata": {},
   "outputs": [
    {
     "data": {
      "text/plain": [
       "Flat                    1372\n",
       "Apartment               1331\n",
       "Townhouse               1327\n",
       "Mansion                 1322\n",
       "Detached duplex         1312\n",
       "Penthouse               1306\n",
       "Semi-detached duplex    1299\n",
       "Bungalow                1293\n",
       "Terrace duplex          1266\n",
       "Cottage                  450\n",
       "Name: title, dtype: int64"
      ]
     },
     "execution_count": 15,
     "metadata": {},
     "output_type": "execute_result"
    }
   ],
   "source": [
    "train_df.title.value_counts()"
   ]
  },
  {
   "cell_type": "code",
   "execution_count": 16,
   "id": "053730d3",
   "metadata": {},
   "outputs": [
    {
     "data": {
      "text/html": [
       "<div>\n",
       "<style scoped>\n",
       "    .dataframe tbody tr th:only-of-type {\n",
       "        vertical-align: middle;\n",
       "    }\n",
       "\n",
       "    .dataframe tbody tr th {\n",
       "        vertical-align: top;\n",
       "    }\n",
       "\n",
       "    .dataframe thead th {\n",
       "        text-align: right;\n",
       "    }\n",
       "</style>\n",
       "<table border=\"1\" class=\"dataframe\">\n",
       "  <thead>\n",
       "    <tr style=\"text-align: right;\">\n",
       "      <th></th>\n",
       "      <th>ID</th>\n",
       "      <th>bedroom</th>\n",
       "      <th>bathroom</th>\n",
       "      <th>parking_space</th>\n",
       "      <th>price</th>\n",
       "    </tr>\n",
       "  </thead>\n",
       "  <tbody>\n",
       "    <tr>\n",
       "      <th>count</th>\n",
       "      <td>14000.000000</td>\n",
       "      <td>12201.000000</td>\n",
       "      <td>12195.000000</td>\n",
       "      <td>12189.000000</td>\n",
       "      <td>1.400000e+04</td>\n",
       "    </tr>\n",
       "    <tr>\n",
       "      <th>mean</th>\n",
       "      <td>4862.700357</td>\n",
       "      <td>4.308171</td>\n",
       "      <td>3.134235</td>\n",
       "      <td>3.169825</td>\n",
       "      <td>2.138082e+06</td>\n",
       "    </tr>\n",
       "    <tr>\n",
       "      <th>std</th>\n",
       "      <td>3818.348214</td>\n",
       "      <td>2.441165</td>\n",
       "      <td>2.035950</td>\n",
       "      <td>1.599415</td>\n",
       "      <td>1.083057e+06</td>\n",
       "    </tr>\n",
       "    <tr>\n",
       "      <th>min</th>\n",
       "      <td>0.000000</td>\n",
       "      <td>1.000000</td>\n",
       "      <td>1.000000</td>\n",
       "      <td>1.000000</td>\n",
       "      <td>4.319673e+05</td>\n",
       "    </tr>\n",
       "    <tr>\n",
       "      <th>25%</th>\n",
       "      <td>1672.750000</td>\n",
       "      <td>2.000000</td>\n",
       "      <td>1.000000</td>\n",
       "      <td>2.000000</td>\n",
       "      <td>1.393990e+06</td>\n",
       "    </tr>\n",
       "    <tr>\n",
       "      <th>50%</th>\n",
       "      <td>3527.000000</td>\n",
       "      <td>4.000000</td>\n",
       "      <td>2.000000</td>\n",
       "      <td>3.000000</td>\n",
       "      <td>1.895223e+06</td>\n",
       "    </tr>\n",
       "    <tr>\n",
       "      <th>75%</th>\n",
       "      <td>8011.250000</td>\n",
       "      <td>6.000000</td>\n",
       "      <td>5.000000</td>\n",
       "      <td>4.000000</td>\n",
       "      <td>2.586699e+06</td>\n",
       "    </tr>\n",
       "    <tr>\n",
       "      <th>max</th>\n",
       "      <td>12999.000000</td>\n",
       "      <td>9.000000</td>\n",
       "      <td>7.000000</td>\n",
       "      <td>6.000000</td>\n",
       "      <td>1.656849e+07</td>\n",
       "    </tr>\n",
       "  </tbody>\n",
       "</table>\n",
       "</div>"
      ],
      "text/plain": [
       "                 ID       bedroom      bathroom  parking_space         price\n",
       "count  14000.000000  12201.000000  12195.000000   12189.000000  1.400000e+04\n",
       "mean    4862.700357      4.308171      3.134235       3.169825  2.138082e+06\n",
       "std     3818.348214      2.441165      2.035950       1.599415  1.083057e+06\n",
       "min        0.000000      1.000000      1.000000       1.000000  4.319673e+05\n",
       "25%     1672.750000      2.000000      1.000000       2.000000  1.393990e+06\n",
       "50%     3527.000000      4.000000      2.000000       3.000000  1.895223e+06\n",
       "75%     8011.250000      6.000000      5.000000       4.000000  2.586699e+06\n",
       "max    12999.000000      9.000000      7.000000       6.000000  1.656849e+07"
      ]
     },
     "execution_count": 16,
     "metadata": {},
     "output_type": "execute_result"
    }
   ],
   "source": [
    "train_df.describe()"
   ]
  },
  {
   "cell_type": "code",
   "execution_count": 17,
   "id": "a0cf15f2",
   "metadata": {},
   "outputs": [
    {
     "data": {
      "text/plain": [
       "<Figure size 864x864 with 0 Axes>"
      ]
     },
     "execution_count": 17,
     "metadata": {},
     "output_type": "execute_result"
    },
    {
     "data": {
      "text/plain": [
       "<Figure size 864x864 with 0 Axes>"
      ]
     },
     "metadata": {},
     "output_type": "display_data"
    }
   ],
   "source": [
    "plt.figure(figsize=[12,12])"
   ]
  },
  {
   "cell_type": "code",
   "execution_count": 18,
   "id": "a313e551",
   "metadata": {},
   "outputs": [
    {
     "data": {
      "text/plain": [
       "<AxesSubplot:xlabel='count', ylabel='title'>"
      ]
     },
     "execution_count": 18,
     "metadata": {},
     "output_type": "execute_result"
    },
    {
     "data": {
      "image/png": "[encoded data removed]",
      "text/plain": [
       "<Figure size 432x288 with 1 Axes>"
      ]
     },
     "metadata": {
      "needs_background": "light"
     },
     "output_type": "display_data"
    }
   ],
   "source": [
    "sns.countplot(data= train_df, y='title', color= 'gray', )\n",
    "\n",
    "##anotate bars if there's time"
   ]
  },
  {
   "cell_type": "markdown",
   "id": "a047ce91",
   "metadata": {},
   "source": [
    "### It is clear cottages are not as common as other house types in Nigeria"
   ]
  },
  {
   "cell_type": "code",
   "execution_count": 19,
   "id": "bbb108e3",
   "metadata": {},
   "outputs": [
    {
     "ename": "AttributeError",
     "evalue": "module 'numpy' has no attribute 'avg'",
     "output_type": "error",
     "traceback": [
      "\u001b[1;31m---------------------------------------------------------------------------\u001b[0m",
      "\u001b[1;31mAttributeError\u001b[0m                            Traceback (most recent call last)",
      "Input \u001b[1;32mIn [19]\u001b[0m, in \u001b[0;36m<cell line: 1>\u001b[1;34m()\u001b[0m\n\u001b[1;32m----> 1\u001b[0m sns\u001b[38;5;241m.\u001b[39mcountplot(data\u001b[38;5;241m=\u001b[39m train_df, y\u001b[38;5;241m=\u001b[39m\u001b[38;5;124m'\u001b[39m\u001b[38;5;124mtitle\u001b[39m\u001b[38;5;124m'\u001b[39m, x\u001b[38;5;241m=\u001b[39m\u001b[43mnp\u001b[49m\u001b[38;5;241;43m.\u001b[39;49m\u001b[43mavg\u001b[49m(\u001b[38;5;124m'\u001b[39m\u001b[38;5;124mprice\u001b[39m\u001b[38;5;124m'\u001b[39m) )\n",
      "File \u001b[1;32m~\\anaconda3\\lib\\site-packages\\numpy\\__init__.py:313\u001b[0m, in \u001b[0;36m__getattr__\u001b[1;34m(attr)\u001b[0m\n\u001b[0;32m    310\u001b[0m     \u001b[38;5;28;01mfrom\u001b[39;00m \u001b[38;5;21;01m.\u001b[39;00m\u001b[38;5;21;01mtesting\u001b[39;00m \u001b[38;5;28;01mimport\u001b[39;00m Tester\n\u001b[0;32m    311\u001b[0m     \u001b[38;5;28;01mreturn\u001b[39;00m Tester\n\u001b[1;32m--> 313\u001b[0m \u001b[38;5;28;01mraise\u001b[39;00m \u001b[38;5;167;01mAttributeError\u001b[39;00m(\u001b[38;5;124m\"\u001b[39m\u001b[38;5;124mmodule \u001b[39m\u001b[38;5;132;01m{!r}\u001b[39;00m\u001b[38;5;124m has no attribute \u001b[39m\u001b[38;5;124m\"\u001b[39m\n\u001b[0;32m    314\u001b[0m                      \u001b[38;5;124m\"\u001b[39m\u001b[38;5;132;01m{!r}\u001b[39;00m\u001b[38;5;124m\"\u001b[39m\u001b[38;5;241m.\u001b[39mformat(\u001b[38;5;18m__name__\u001b[39m, attr))\n",
      "\u001b[1;31mAttributeError\u001b[0m: module 'numpy' has no attribute 'avg'"
     ]
    }
   ],
   "source": [
    "sns.countplot(data= train_df, y='title', x=np.avg('price') )"
   ]
  },
  {
   "cell_type": "code",
   "execution_count": 20,
   "id": "ac76bcc9",
   "metadata": {},
   "outputs": [
    {
     "data": {
      "text/plain": [
       "<AxesSubplot:>"
      ]
     },
     "execution_count": 20,
     "metadata": {},
     "output_type": "execute_result"
    },
    {
     "data": {
      "image/png": "[encoded data removed]",
      "text/plain": [
       "<Figure size 432x288 with 1 Axes>"
      ]
     },
     "metadata": {
      "needs_background": "light"
     },
     "output_type": "display_data"
    }
   ],
   "source": [
    "\n",
    "train_df.price.hist()\n"
   ]
  },
  {
   "cell_type": "code",
   "execution_count": 21,
   "id": "93a0fe6b",
   "metadata": {},
   "outputs": [
    {
     "ename": "NameError",
     "evalue": "name 'avg' is not defined",
     "output_type": "error",
     "traceback": [
      "\u001b[1;31m---------------------------------------------------------------------------\u001b[0m",
      "\u001b[1;31mNameError\u001b[0m                                 Traceback (most recent call last)",
      "Input \u001b[1;32mIn [21]\u001b[0m, in \u001b[0;36m<cell line: 1>\u001b[1;34m()\u001b[0m\n\u001b[1;32m----> 1\u001b[0m train_df\u001b[38;5;241m.\u001b[39mplot(x\u001b[38;5;241m=\u001b[39m\u001b[43mavg\u001b[49m(price))\n",
      "\u001b[1;31mNameError\u001b[0m: name 'avg' is not defined"
     ]
    }
   ],
   "source": [
    "train_df.plot(x=avg(price))"
   ]
  },
  {
   "cell_type": "code",
   "execution_count": 22,
   "id": "2e186814",
   "metadata": {},
   "outputs": [
    {
     "ename": "AttributeError",
     "evalue": "'SeriesGroupBy' object has no attribute 'avg'",
     "output_type": "error",
     "traceback": [
      "\u001b[1;31m---------------------------------------------------------------------------\u001b[0m",
      "\u001b[1;31mAttributeError\u001b[0m                            Traceback (most recent call last)",
      "Input \u001b[1;32mIn [22]\u001b[0m, in \u001b[0;36m<cell line: 1>\u001b[1;34m()\u001b[0m\n\u001b[1;32m----> 1\u001b[0m vv\u001b[38;5;241m=\u001b[39m \u001b[43mtrain_df\u001b[49m\u001b[38;5;241;43m.\u001b[39;49m\u001b[43mgroupby\u001b[49m\u001b[43m(\u001b[49m\u001b[38;5;124;43m'\u001b[39;49m\u001b[38;5;124;43mtitle\u001b[39;49m\u001b[38;5;124;43m'\u001b[39;49m\u001b[43m)\u001b[49m\u001b[38;5;241;43m.\u001b[39;49m\u001b[43mprice\u001b[49m\u001b[38;5;241;43m.\u001b[39;49m\u001b[43mavg\u001b[49m()\n",
      "File \u001b[1;32m~\\anaconda3\\lib\\site-packages\\pandas\\core\\groupby\\groupby.py:904\u001b[0m, in \u001b[0;36mGroupBy.__getattr__\u001b[1;34m(self, attr)\u001b[0m\n\u001b[0;32m    901\u001b[0m \u001b[38;5;28;01mif\u001b[39;00m attr \u001b[38;5;129;01min\u001b[39;00m \u001b[38;5;28mself\u001b[39m\u001b[38;5;241m.\u001b[39mobj:\n\u001b[0;32m    902\u001b[0m     \u001b[38;5;28;01mreturn\u001b[39;00m \u001b[38;5;28mself\u001b[39m[attr]\n\u001b[1;32m--> 904\u001b[0m \u001b[38;5;28;01mraise\u001b[39;00m \u001b[38;5;167;01mAttributeError\u001b[39;00m(\n\u001b[0;32m    905\u001b[0m     \u001b[38;5;124mf\u001b[39m\u001b[38;5;124m\"\u001b[39m\u001b[38;5;124m'\u001b[39m\u001b[38;5;132;01m{\u001b[39;00m\u001b[38;5;28mtype\u001b[39m(\u001b[38;5;28mself\u001b[39m)\u001b[38;5;241m.\u001b[39m\u001b[38;5;18m__name__\u001b[39m\u001b[38;5;132;01m}\u001b[39;00m\u001b[38;5;124m'\u001b[39m\u001b[38;5;124m object has no attribute \u001b[39m\u001b[38;5;124m'\u001b[39m\u001b[38;5;132;01m{\u001b[39;00mattr\u001b[38;5;132;01m}\u001b[39;00m\u001b[38;5;124m'\u001b[39m\u001b[38;5;124m\"\u001b[39m\n\u001b[0;32m    906\u001b[0m )\n",
      "\u001b[1;31mAttributeError\u001b[0m: 'SeriesGroupBy' object has no attribute 'avg'"
     ]
    }
   ],
   "source": [
    "vv= train_df.groupby('title').price.avg()"
   ]
  },
  {
   "cell_type": "markdown",
   "id": "f72cab40",
   "metadata": {},
   "source": [
    "### Preprocessing\n"
   ]
  },
  {
   "cell_type": "code",
   "execution_count": null,
   "id": "0a25f61b",
   "metadata": {},
   "outputs": [],
   "source": []
  },
  {
   "cell_type": "code",
   "execution_count": 36,
   "id": "1996a695",
   "metadata": {},
   "outputs": [],
   "source": [
    "# importing libraries required\n",
    "from sklearn.preprocessing import LabelEncoder\n",
    "from sklearn.preprocessing import MinMaxScaler\n"
   ]
  },
  {
   "cell_type": "code",
   "execution_count": 37,
   "id": "524560d3",
   "metadata": {},
   "outputs": [],
   "source": [
    "#importing libraries for modelling\n",
    "from sklearn.preprocessing import LabelEncoder\n",
    "from catboost import CatBoostRegressor\n",
    "from sklearn.model_selection import train_test_split\n",
    "from sklearn.model_selection import KFold\n",
    "from sklearn.metrics import mean_squared_error\n",
    "import matplotlib.pyplot as plt\n",
    "from lightgbm import LGBMRegressor\n",
    "\n",
    "import warnings\n",
    "warnings.filterwarnings('ignore')"
   ]
  },
  {
   "cell_type": "code",
   "execution_count": 38,
   "id": "8f1e3165",
   "metadata": {
    "scrolled": false
   },
   "outputs": [
    {
     "data": {
      "text/plain": [
       "(16531, 6)"
      ]
     },
     "execution_count": 38,
     "metadata": {},
     "output_type": "execute_result"
    }
   ],
   "source": [
    "#dropping price column and joining both train_df and test_df\n",
    "all_data= train_df.drop(columns=['price'], axis=1).append(test_df)\n",
    "all_data.shape"
   ]
  },
  {
   "cell_type": "code",
   "execution_count": 39,
   "id": "08f2f1cb",
   "metadata": {
    "scrolled": true
   },
   "outputs": [
    {
     "data": {
      "text/plain": [
       "array(['Semi-detached duplex', 'Apartment', 'Detached duplex',\n",
       "       'Terrace duplex', 'Mansion', 'Bungalow', 'Penthouse', 'Townhouse',\n",
       "       'Flat', 'Cottage'], dtype=object)"
      ]
     },
     "execution_count": 39,
     "metadata": {},
     "output_type": "execute_result"
    }
   ],
   "source": [
    "train_df.title.unique()"
   ]
  },
  {
   "cell_type": "code",
   "execution_count": 40,
   "id": "956cf2fe",
   "metadata": {},
   "outputs": [
    {
     "data": {
      "text/plain": [
       "array(['Semi-detached duplex', 'Apartment', 'Detached duplex',\n",
       "       'Terrace duplex', 'Mansion', 'Bungalow', 'Penthouse', 'Townhouse',\n",
       "       'Flat', 'Cottage'], dtype=object)"
      ]
     },
     "execution_count": 40,
     "metadata": {},
     "output_type": "execute_result"
    }
   ],
   "source": [
    "all_data.title.unique()"
   ]
  },
  {
   "cell_type": "code",
   "execution_count": 41,
   "id": "9ba72580",
   "metadata": {},
   "outputs": [],
   "source": [
    "# Ranking the house titles\n",
    "title_rank= {\n",
    "    'Cottage': 1,\n",
    "    'Flat': 2,\n",
    "    'Apartment': 3 ,\n",
    "    'Townhouse' : 4,\n",
    "    'Terrace duplex': 5 ,\n",
    "    'Semi-detached duplex':6 ,\n",
    "    'Detached duplex': 7 ,\n",
    "    'Bungalow' : 8,\n",
    "    'Penthouse': 9 ,\n",
    "    'Mansion': 10\n",
    "}"
   ]
  },
  {
   "cell_type": "code",
   "execution_count": 42,
   "id": "5dd480a4",
   "metadata": {},
   "outputs": [
    {
     "data": {
      "text/html": [
       "<div>\n",
       "<style scoped>\n",
       "    .dataframe tbody tr th:only-of-type {\n",
       "        vertical-align: middle;\n",
       "    }\n",
       "\n",
       "    .dataframe tbody tr th {\n",
       "        vertical-align: top;\n",
       "    }\n",
       "\n",
       "    .dataframe thead th {\n",
       "        text-align: right;\n",
       "    }\n",
       "</style>\n",
       "<table border=\"1\" class=\"dataframe\">\n",
       "  <thead>\n",
       "    <tr style=\"text-align: right;\">\n",
       "      <th></th>\n",
       "      <th>ID</th>\n",
       "      <th>loc</th>\n",
       "      <th>title</th>\n",
       "      <th>bedroom</th>\n",
       "      <th>bathroom</th>\n",
       "      <th>parking_space</th>\n",
       "    </tr>\n",
       "  </thead>\n",
       "  <tbody>\n",
       "    <tr>\n",
       "      <th>0</th>\n",
       "      <td>3583</td>\n",
       "      <td>Katsina</td>\n",
       "      <td>6</td>\n",
       "      <td>2.000000</td>\n",
       "      <td>2.0</td>\n",
       "      <td>1.0</td>\n",
       "    </tr>\n",
       "    <tr>\n",
       "      <th>1</th>\n",
       "      <td>2748</td>\n",
       "      <td>Ondo</td>\n",
       "      <td>3</td>\n",
       "      <td>4.386792</td>\n",
       "      <td>2.0</td>\n",
       "      <td>4.0</td>\n",
       "    </tr>\n",
       "    <tr>\n",
       "      <th>3</th>\n",
       "      <td>2224</td>\n",
       "      <td>Anambra</td>\n",
       "      <td>7</td>\n",
       "      <td>5.000000</td>\n",
       "      <td>2.0</td>\n",
       "      <td>4.0</td>\n",
       "    </tr>\n",
       "    <tr>\n",
       "      <th>4</th>\n",
       "      <td>10300</td>\n",
       "      <td>Kogi</td>\n",
       "      <td>5</td>\n",
       "      <td>4.367061</td>\n",
       "      <td>5.0</td>\n",
       "      <td>6.0</td>\n",
       "    </tr>\n",
       "    <tr>\n",
       "      <th>5</th>\n",
       "      <td>1733</td>\n",
       "      <td>Borno</td>\n",
       "      <td>10</td>\n",
       "      <td>4.341595</td>\n",
       "      <td>1.0</td>\n",
       "      <td>3.0</td>\n",
       "    </tr>\n",
       "  </tbody>\n",
       "</table>\n",
       "</div>"
      ],
      "text/plain": [
       "      ID      loc  title   bedroom  bathroom  parking_space\n",
       "0   3583  Katsina      6  2.000000       2.0            1.0\n",
       "1   2748     Ondo      3  4.386792       2.0            4.0\n",
       "3   2224  Anambra      7  5.000000       2.0            4.0\n",
       "4  10300     Kogi      5  4.367061       5.0            6.0\n",
       "5   1733    Borno     10  4.341595       1.0            3.0"
      ]
     },
     "execution_count": 42,
     "metadata": {},
     "output_type": "execute_result"
    }
   ],
   "source": [
    "# mapping the titles \n",
    "all_data['title']= all_data['title'].map(title_rank)\n",
    "\n",
    "all_data.head()"
   ]
  },
  {
   "cell_type": "code",
   "execution_count": 43,
   "id": "5a9d15db",
   "metadata": {
    "scrolled": true
   },
   "outputs": [
    {
     "data": {
      "text/plain": [
       "{'Benue': 0.030064726876776963,\n",
       " 'Borno': 0.029883249652168653,\n",
       " 'Anambra': 0.02964128001935757,\n",
       " 'Oyo': 0.029278325570140946,\n",
       " 'Ogun': 0.029217833161938177,\n",
       " 'Cross River': 0.029036355937329866,\n",
       " 'Kaduna': 0.02873389389631601,\n",
       " 'Zamfara': 0.0285524166717077,\n",
       " 'Kano': 0.02849192426350493,\n",
       " 'Nasarawa': 0.02824995463069385,\n",
       " 'Ondo': 0.02824995463069385,\n",
       " 'Katsina': 0.02824995463069385,\n",
       " 'Yobe': 0.028189462222491076,\n",
       " 'Kebbi': 0.028128969814288307,\n",
       " 'Imo': 0.028007984997882766,\n",
       " 'Bauchi': 0.028007984997882766,\n",
       " 'Plateau': 0.027826507773274455,\n",
       " 'Adamawa': 0.027826507773274455,\n",
       " 'Niger': 0.027584538140463372,\n",
       " 'Kogi': 0.027584538140463372,\n",
       " 'Ekiti': 0.027584538140463372,\n",
       " 'Osun': 0.02746355332405783,\n",
       " 'Gombe': 0.02746355332405783,\n",
       " 'Abia': 0.02728207609944952,\n",
       " 'Sokoto': 0.027221583691246748,\n",
       " 'Lagos': 0.027100598874841206,\n",
       " 'Taraba': 0.027100598874841206,\n",
       " 'Enugu': 0.027040106466638437,\n",
       " 'Delta': 0.026979614058435665,\n",
       " 'Ebonyi': 0.026919121650232896,\n",
       " 'Jigawa': 0.026858629242030124,\n",
       " 'Bayelsa': 0.026798136833827355,\n",
       " 'Edo': 0.026011735527191337,\n",
       " 'Kwara': 0.025951243118988568,\n",
       " 'Akwa Ibom': 0.025890750710785795,\n",
       " 'Rivers': 0.025527796261569174}"
      ]
     },
     "execution_count": 43,
     "metadata": {},
     "output_type": "execute_result"
    }
   ],
   "source": [
    "#normalizing the value_count of loc to create distinct figures rank\n",
    "cat_frequency= all_data['loc'].value_counts(normalize=True)\n",
    "\n",
    "# mapping the location to this\n",
    "loc_rank= cat_frequency.to_dict()\n",
    "\n",
    "loc_rank"
   ]
  },
  {
   "cell_type": "code",
   "execution_count": 44,
   "id": "6af5a149",
   "metadata": {},
   "outputs": [
    {
     "data": {
      "text/html": [
       "<div>\n",
       "<style scoped>\n",
       "    .dataframe tbody tr th:only-of-type {\n",
       "        vertical-align: middle;\n",
       "    }\n",
       "\n",
       "    .dataframe tbody tr th {\n",
       "        vertical-align: top;\n",
       "    }\n",
       "\n",
       "    .dataframe thead th {\n",
       "        text-align: right;\n",
       "    }\n",
       "</style>\n",
       "<table border=\"1\" class=\"dataframe\">\n",
       "  <thead>\n",
       "    <tr style=\"text-align: right;\">\n",
       "      <th></th>\n",
       "      <th>ID</th>\n",
       "      <th>loc</th>\n",
       "      <th>title</th>\n",
       "      <th>bedroom</th>\n",
       "      <th>bathroom</th>\n",
       "      <th>parking_space</th>\n",
       "    </tr>\n",
       "  </thead>\n",
       "  <tbody>\n",
       "    <tr>\n",
       "      <th>0</th>\n",
       "      <td>3583</td>\n",
       "      <td>0.028250</td>\n",
       "      <td>6</td>\n",
       "      <td>2.000000</td>\n",
       "      <td>2.0</td>\n",
       "      <td>1.0</td>\n",
       "    </tr>\n",
       "    <tr>\n",
       "      <th>1</th>\n",
       "      <td>2748</td>\n",
       "      <td>0.028250</td>\n",
       "      <td>3</td>\n",
       "      <td>4.386792</td>\n",
       "      <td>2.0</td>\n",
       "      <td>4.0</td>\n",
       "    </tr>\n",
       "    <tr>\n",
       "      <th>3</th>\n",
       "      <td>2224</td>\n",
       "      <td>0.029641</td>\n",
       "      <td>7</td>\n",
       "      <td>5.000000</td>\n",
       "      <td>2.0</td>\n",
       "      <td>4.0</td>\n",
       "    </tr>\n",
       "    <tr>\n",
       "      <th>4</th>\n",
       "      <td>10300</td>\n",
       "      <td>0.027585</td>\n",
       "      <td>5</td>\n",
       "      <td>4.367061</td>\n",
       "      <td>5.0</td>\n",
       "      <td>6.0</td>\n",
       "    </tr>\n",
       "    <tr>\n",
       "      <th>5</th>\n",
       "      <td>1733</td>\n",
       "      <td>0.029883</td>\n",
       "      <td>10</td>\n",
       "      <td>4.341595</td>\n",
       "      <td>1.0</td>\n",
       "      <td>3.0</td>\n",
       "    </tr>\n",
       "  </tbody>\n",
       "</table>\n",
       "</div>"
      ],
      "text/plain": [
       "      ID       loc  title   bedroom  bathroom  parking_space\n",
       "0   3583  0.028250      6  2.000000       2.0            1.0\n",
       "1   2748  0.028250      3  4.386792       2.0            4.0\n",
       "3   2224  0.029641      7  5.000000       2.0            4.0\n",
       "4  10300  0.027585      5  4.367061       5.0            6.0\n",
       "5   1733  0.029883     10  4.341595       1.0            3.0"
      ]
     },
     "execution_count": 44,
     "metadata": {},
     "output_type": "execute_result"
    }
   ],
   "source": [
    "# replacing values with the map\n",
    "all_data['loc']= all_data['loc'].map(loc_rank)\n",
    "\n",
    "#print new dataframe\n",
    "all_data.head()\n"
   ]
  },
  {
   "cell_type": "code",
   "execution_count": 45,
   "id": "0489f0bc",
   "metadata": {},
   "outputs": [
    {
     "data": {
      "text/plain": [
       "(16531, 6)"
      ]
     },
     "execution_count": 45,
     "metadata": {},
     "output_type": "execute_result"
    }
   ],
   "source": [
    "all_data.shape"
   ]
  },
  {
   "cell_type": "code",
   "execution_count": 47,
   "id": "d25397ac",
   "metadata": {},
   "outputs": [
    {
     "data": {
      "text/plain": [
       "False"
      ]
     },
     "execution_count": 47,
     "metadata": {},
     "output_type": "execute_result"
    }
   ],
   "source": [
    "train_df.shape[0]==14000"
   ]
  },
  {
   "cell_type": "code",
   "execution_count": 99,
   "id": "bdc06d16",
   "metadata": {},
   "outputs": [
    {
     "data": {
      "text/plain": [
       "((10531, 6), (10531,), (6000, 6))"
      ]
     },
     "execution_count": 99,
     "metadata": {},
     "output_type": "execute_result"
    }
   ],
   "source": [
    "# splitting all data into x, y and test_df \n",
    "x= all_data[:train_df.shape[0]]\n",
    "y= train_df['price']\n",
    "test_df= all_data[train_df.shape[0]:]\n",
    "\n",
    "#checking the outcome\n",
    "x.shape, y.shape, test_df.shape"
   ]
  },
  {
   "cell_type": "code",
   "execution_count": 51,
   "id": "89c056c2",
   "metadata": {},
   "outputs": [
    {
     "data": {
      "text/html": [
       "<div>\n",
       "<style scoped>\n",
       "    .dataframe tbody tr th:only-of-type {\n",
       "        vertical-align: middle;\n",
       "    }\n",
       "\n",
       "    .dataframe tbody tr th {\n",
       "        vertical-align: top;\n",
       "    }\n",
       "\n",
       "    .dataframe thead th {\n",
       "        text-align: right;\n",
       "    }\n",
       "</style>\n",
       "<table border=\"1\" class=\"dataframe\">\n",
       "  <thead>\n",
       "    <tr style=\"text-align: right;\">\n",
       "      <th></th>\n",
       "      <th>ID</th>\n",
       "      <th>loc</th>\n",
       "      <th>title</th>\n",
       "      <th>bedroom</th>\n",
       "      <th>bathroom</th>\n",
       "      <th>parking_space</th>\n",
       "    </tr>\n",
       "  </thead>\n",
       "  <tbody>\n",
       "    <tr>\n",
       "      <th>0</th>\n",
       "      <td>3583</td>\n",
       "      <td>0.028250</td>\n",
       "      <td>6</td>\n",
       "      <td>2.000000</td>\n",
       "      <td>2.0</td>\n",
       "      <td>1.0</td>\n",
       "    </tr>\n",
       "    <tr>\n",
       "      <th>1</th>\n",
       "      <td>2748</td>\n",
       "      <td>0.028250</td>\n",
       "      <td>3</td>\n",
       "      <td>4.386792</td>\n",
       "      <td>2.0</td>\n",
       "      <td>4.0</td>\n",
       "    </tr>\n",
       "    <tr>\n",
       "      <th>3</th>\n",
       "      <td>2224</td>\n",
       "      <td>0.029641</td>\n",
       "      <td>7</td>\n",
       "      <td>5.000000</td>\n",
       "      <td>2.0</td>\n",
       "      <td>4.0</td>\n",
       "    </tr>\n",
       "    <tr>\n",
       "      <th>4</th>\n",
       "      <td>10300</td>\n",
       "      <td>0.027585</td>\n",
       "      <td>5</td>\n",
       "      <td>4.367061</td>\n",
       "      <td>5.0</td>\n",
       "      <td>6.0</td>\n",
       "    </tr>\n",
       "    <tr>\n",
       "      <th>5</th>\n",
       "      <td>1733</td>\n",
       "      <td>0.029883</td>\n",
       "      <td>10</td>\n",
       "      <td>4.341595</td>\n",
       "      <td>1.0</td>\n",
       "      <td>3.0</td>\n",
       "    </tr>\n",
       "  </tbody>\n",
       "</table>\n",
       "</div>"
      ],
      "text/plain": [
       "      ID       loc  title   bedroom  bathroom  parking_space\n",
       "0   3583  0.028250      6  2.000000       2.0            1.0\n",
       "1   2748  0.028250      3  4.386792       2.0            4.0\n",
       "3   2224  0.029641      7  5.000000       2.0            4.0\n",
       "4  10300  0.027585      5  4.367061       5.0            6.0\n",
       "5   1733  0.029883     10  4.341595       1.0            3.0"
      ]
     },
     "execution_count": 51,
     "metadata": {},
     "output_type": "execute_result"
    }
   ],
   "source": [
    "x.head()"
   ]
  },
  {
   "cell_type": "code",
   "execution_count": 52,
   "id": "1d69fbd9",
   "metadata": {},
   "outputs": [
    {
     "data": {
      "image/png": "[encoded data removed]",
      "text/plain": [
       "<Figure size 432x288 with 2 Axes>"
      ]
     },
     "metadata": {},
     "output_type": "display_data"
    }
   ],
   "source": [
    "# copied\n",
    "\n",
    "sns.set()\n",
    "y_transformed = pd.Series(np.log1p(y))\n",
    "\n",
    "fig, ax = plt.subplots(1, 2)\n",
    "sns.distplot(y, ax=ax[0])\n",
    "plt.title(\"Target after Log transformation\")\n",
    "# ax[0].axvline(y_transformed)\n",
    "sns.distplot(y_transformed, ax=ax[1])\n",
    "plt.show()\n"
   ]
  },
  {
   "cell_type": "code",
   "execution_count": 53,
   "id": "ddc1bc0d",
   "metadata": {},
   "outputs": [],
   "source": [
    "x.drop(['ID'], axis=1, inplace=True)"
   ]
  },
  {
   "cell_type": "markdown",
   "id": "5bf02327",
   "metadata": {},
   "source": [
    "### Modelling"
   ]
  },
  {
   "cell_type": "code",
   "execution_count": 70,
   "id": "63c9b987",
   "metadata": {},
   "outputs": [],
   "source": [
    "# importing other models to test out \n",
    "from sklearn.linear_model import LogisticRegression\n",
    "from sklearn.neighbors import KNeighborsClassifier\n",
    "from sklearn.tree import DecisionTreeClassifier\n",
    "from sklearn.ensemble import RandomForestClassifier, GradientBoostingClassifier"
   ]
  },
  {
   "cell_type": "code",
   "execution_count": 81,
   "id": "88441f5d",
   "metadata": {},
   "outputs": [
    {
     "name": "stdout",
     "output_type": "stream",
     "text": [
      "<class 'pandas.core.frame.DataFrame'>\n",
      "Int64Index: 10531 entries, 0 to 13998\n",
      "Data columns (total 5 columns):\n",
      " #   Column         Non-Null Count  Dtype  \n",
      "---  ------         --------------  -----  \n",
      " 0   loc            10531 non-null  float64\n",
      " 1   title          10531 non-null  int64  \n",
      " 2   bedroom        10531 non-null  float64\n",
      " 3   bathroom       10531 non-null  float64\n",
      " 4   parking_space  10531 non-null  float64\n",
      "dtypes: float64(4), int64(1)\n",
      "memory usage: 493.6 KB\n"
     ]
    }
   ],
   "source": [
    "x.info()"
   ]
  },
  {
   "cell_type": "code",
   "execution_count": 100,
   "id": "2c697d57",
   "metadata": {},
   "outputs": [],
   "source": [
    "#splitting train_df into data to train and one to test\n",
    "X_train, X_test, y_train, y_test = train_test_split(x, y, test_size=0.2, random_state=32)"
   ]
  },
  {
   "cell_type": "code",
   "execution_count": 102,
   "id": "cac59bcb",
   "metadata": {},
   "outputs": [
    {
     "name": "stdout",
     "output_type": "stream",
     "text": [
      "[LightGBM] [Warning] Auto-choosing row-wise multi-threading, the overhead of testing was 0.000102 seconds.\n",
      "You can set `force_row_wise=true` to remove the overhead.\n",
      "And if memory is not enough, you can set `force_col_wise=true`.\n",
      "[LightGBM] [Info] Total Bins 350\n",
      "[LightGBM] [Info] Number of data points in the train set: 8424, number of used features: 6\n",
      "[LightGBM] [Info] Start training from score 2120076.643526\n",
      "mse = 486129.8056455393\n"
     ]
    },
    {
     "data": {
      "text/plain": [
       "array([1204507.45623107, 2255990.81408883, 2839109.2122952 , ...,\n",
       "       3991723.79621013, 3107359.22592998, 1915590.39396871])"
      ]
     },
     "execution_count": 102,
     "metadata": {},
     "output_type": "execute_result"
    }
   ],
   "source": [
    "# calling the model function\n",
    "lightb_model= LGBMRegressor()\n",
    "\n",
    "#training/ fitting the model on the X_train, y_train data\n",
    "lightb_model.fit(X_train, y_train)\n",
    "\n",
    "#making the prediction on part of the train data\n",
    "lightb_pred= lightb_model.predict(X_test)\n",
    "\n",
    "# checking the mean squared error\n",
    "print(f'mse = {mean_squared_error(y_test, catb_pred, squared=False)}')\n",
    "\n",
    "\n",
    "# printing the prediction\n",
    "lightb_pred\n"
   ]
  },
  {
   "cell_type": "code",
   "execution_count": 86,
   "id": "b325de7b",
   "metadata": {},
   "outputs": [
    {
     "name": "stdout",
     "output_type": "stream",
     "text": [
      "Learning rate set to 0.057334\n",
      "0:\tlearn: 1034346.6879981\ttotal: 5.59ms\tremaining: 5.59s\n",
      "1:\tlearn: 1003114.2622225\ttotal: 9.74ms\tremaining: 4.86s\n",
      "2:\tlearn: 973477.7353380\ttotal: 13.4ms\tremaining: 4.46s\n",
      "3:\tlearn: 946578.4847483\ttotal: 16.3ms\tremaining: 4.05s\n",
      "4:\tlearn: 922855.6194571\ttotal: 18.7ms\tremaining: 3.71s\n",
      "5:\tlearn: 900923.3948517\ttotal: 21ms\tremaining: 3.48s\n",
      "6:\tlearn: 881565.5856209\ttotal: 22.9ms\tremaining: 3.25s\n",
      "7:\tlearn: 862481.2395248\ttotal: 25ms\tremaining: 3.1s\n",
      "8:\tlearn: 842834.6663967\ttotal: 27ms\tremaining: 2.97s\n",
      "9:\tlearn: 824929.1213177\ttotal: 28.9ms\tremaining: 2.86s\n",
      "10:\tlearn: 808176.1959548\ttotal: 30.5ms\tremaining: 2.74s\n",
      "11:\tlearn: 793491.2438388\ttotal: 32.2ms\tremaining: 2.65s\n",
      "12:\tlearn: 779307.5844123\ttotal: 33.9ms\tremaining: 2.58s\n",
      "13:\tlearn: 766124.1104208\ttotal: 35.5ms\tremaining: 2.5s\n",
      "14:\tlearn: 754954.7112393\ttotal: 37.3ms\tremaining: 2.45s\n",
      "15:\tlearn: 744055.6815042\ttotal: 38.9ms\tremaining: 2.39s\n",
      "16:\tlearn: 732044.2437085\ttotal: 40.6ms\tremaining: 2.35s\n",
      "17:\tlearn: 723248.3168002\ttotal: 42.4ms\tremaining: 2.31s\n",
      "18:\tlearn: 715682.2340297\ttotal: 44ms\tremaining: 2.27s\n",
      "19:\tlearn: 705060.2085398\ttotal: 45.7ms\tremaining: 2.24s\n",
      "20:\tlearn: 696187.8705541\ttotal: 47.4ms\tremaining: 2.21s\n",
      "21:\tlearn: 689194.4919161\ttotal: 49.4ms\tremaining: 2.19s\n",
      "22:\tlearn: 681021.7324162\ttotal: 51.2ms\tremaining: 2.17s\n",
      "23:\tlearn: 675019.3628304\ttotal: 52.7ms\tremaining: 2.14s\n",
      "24:\tlearn: 669857.4435089\ttotal: 54.4ms\tremaining: 2.12s\n",
      "25:\tlearn: 664296.6492498\ttotal: 56ms\tremaining: 2.1s\n",
      "26:\tlearn: 658208.4212603\ttotal: 57.7ms\tremaining: 2.08s\n",
      "27:\tlearn: 652904.5888233\ttotal: 59.4ms\tremaining: 2.06s\n",
      "28:\tlearn: 648208.9383783\ttotal: 61ms\tremaining: 2.04s\n",
      "29:\tlearn: 642486.2199550\ttotal: 62.6ms\tremaining: 2.02s\n",
      "30:\tlearn: 638943.7244001\ttotal: 64.2ms\tremaining: 2.01s\n",
      "31:\tlearn: 634937.7565684\ttotal: 65.9ms\tremaining: 1.99s\n",
      "32:\tlearn: 631646.4772477\ttotal: 67.5ms\tremaining: 1.98s\n",
      "33:\tlearn: 627236.5926951\ttotal: 69.1ms\tremaining: 1.96s\n",
      "34:\tlearn: 624418.4807296\ttotal: 70.7ms\tremaining: 1.95s\n",
      "35:\tlearn: 621993.7069594\ttotal: 72.4ms\tremaining: 1.94s\n",
      "36:\tlearn: 617414.3110620\ttotal: 74.1ms\tremaining: 1.93s\n",
      "37:\tlearn: 614074.2205031\ttotal: 75.7ms\tremaining: 1.92s\n",
      "38:\tlearn: 609373.0967169\ttotal: 77.2ms\tremaining: 1.9s\n",
      "39:\tlearn: 607588.1667663\ttotal: 79ms\tremaining: 1.9s\n",
      "40:\tlearn: 604560.8525653\ttotal: 80.6ms\tremaining: 1.88s\n",
      "41:\tlearn: 600627.3304269\ttotal: 82.2ms\tremaining: 1.88s\n",
      "42:\tlearn: 598425.7892350\ttotal: 83.9ms\tremaining: 1.87s\n",
      "43:\tlearn: 596870.8202512\ttotal: 85.4ms\tremaining: 1.86s\n",
      "44:\tlearn: 594421.2554450\ttotal: 87.1ms\tremaining: 1.85s\n",
      "45:\tlearn: 592900.8850815\ttotal: 88.5ms\tremaining: 1.84s\n",
      "46:\tlearn: 589079.3817524\ttotal: 90.1ms\tremaining: 1.83s\n",
      "47:\tlearn: 586999.1594188\ttotal: 91.7ms\tremaining: 1.82s\n",
      "48:\tlearn: 584043.0570356\ttotal: 93.3ms\tremaining: 1.81s\n",
      "49:\tlearn: 582111.6748508\ttotal: 94.9ms\tremaining: 1.8s\n",
      "50:\tlearn: 580254.9735265\ttotal: 96.5ms\tremaining: 1.79s\n",
      "51:\tlearn: 578650.2416390\ttotal: 98.2ms\tremaining: 1.79s\n",
      "52:\tlearn: 577302.8927679\ttotal: 99.7ms\tremaining: 1.78s\n",
      "53:\tlearn: 575923.6836773\ttotal: 101ms\tremaining: 1.77s\n",
      "54:\tlearn: 574408.2372593\ttotal: 103ms\tremaining: 1.77s\n",
      "55:\tlearn: 573363.2802035\ttotal: 105ms\tremaining: 1.76s\n",
      "56:\tlearn: 570332.5544140\ttotal: 106ms\tremaining: 1.76s\n",
      "57:\tlearn: 567549.3735480\ttotal: 108ms\tremaining: 1.75s\n",
      "58:\tlearn: 566516.7187085\ttotal: 110ms\tremaining: 1.75s\n",
      "59:\tlearn: 565713.8507126\ttotal: 111ms\tremaining: 1.74s\n",
      "60:\tlearn: 563826.7496205\ttotal: 113ms\tremaining: 1.74s\n",
      "61:\tlearn: 562807.4430339\ttotal: 115ms\tremaining: 1.73s\n",
      "62:\tlearn: 561834.2254856\ttotal: 116ms\tremaining: 1.73s\n",
      "63:\tlearn: 560941.7255512\ttotal: 118ms\tremaining: 1.72s\n",
      "64:\tlearn: 560207.1827052\ttotal: 120ms\tremaining: 1.72s\n",
      "65:\tlearn: 557814.7128785\ttotal: 121ms\tremaining: 1.72s\n",
      "66:\tlearn: 557255.2855835\ttotal: 123ms\tremaining: 1.71s\n",
      "67:\tlearn: 556388.9775880\ttotal: 125ms\tremaining: 1.71s\n",
      "68:\tlearn: 554724.1416845\ttotal: 126ms\tremaining: 1.7s\n",
      "69:\tlearn: 553092.8520444\ttotal: 128ms\tremaining: 1.7s\n",
      "70:\tlearn: 552316.3448287\ttotal: 129ms\tremaining: 1.69s\n",
      "71:\tlearn: 550703.0847255\ttotal: 131ms\tremaining: 1.69s\n",
      "72:\tlearn: 549749.5886012\ttotal: 133ms\tremaining: 1.69s\n",
      "73:\tlearn: 549121.8398014\ttotal: 134ms\tremaining: 1.68s\n",
      "74:\tlearn: 547602.6030889\ttotal: 136ms\tremaining: 1.68s\n",
      "75:\tlearn: 546829.0587160\ttotal: 138ms\tremaining: 1.67s\n",
      "76:\tlearn: 545920.9026249\ttotal: 139ms\tremaining: 1.67s\n",
      "77:\tlearn: 544094.4323990\ttotal: 141ms\tremaining: 1.66s\n",
      "78:\tlearn: 543617.8908784\ttotal: 142ms\tremaining: 1.66s\n",
      "79:\tlearn: 543219.3387406\ttotal: 144ms\tremaining: 1.66s\n",
      "80:\tlearn: 541823.1305242\ttotal: 146ms\tremaining: 1.65s\n",
      "81:\tlearn: 541097.0917605\ttotal: 147ms\tremaining: 1.65s\n",
      "82:\tlearn: 539578.0006257\ttotal: 149ms\tremaining: 1.65s\n",
      "83:\tlearn: 538310.9636514\ttotal: 151ms\tremaining: 1.64s\n",
      "84:\tlearn: 537962.6473602\ttotal: 152ms\tremaining: 1.64s\n",
      "85:\tlearn: 536394.7424712\ttotal: 154ms\tremaining: 1.63s\n",
      "86:\tlearn: 535688.3504244\ttotal: 155ms\tremaining: 1.63s\n",
      "87:\tlearn: 535047.6420910\ttotal: 157ms\tremaining: 1.63s\n",
      "88:\tlearn: 534377.4581855\ttotal: 159ms\tremaining: 1.63s\n",
      "89:\tlearn: 533580.2432837\ttotal: 161ms\tremaining: 1.63s\n",
      "90:\tlearn: 532612.7449661\ttotal: 163ms\tremaining: 1.63s\n",
      "91:\tlearn: 532080.9701236\ttotal: 165ms\tremaining: 1.63s\n",
      "92:\tlearn: 531492.2497902\ttotal: 167ms\tremaining: 1.62s\n",
      "93:\tlearn: 531086.1236762\ttotal: 168ms\tremaining: 1.62s\n",
      "94:\tlearn: 529865.4349340\ttotal: 170ms\tremaining: 1.62s\n",
      "95:\tlearn: 528370.1109652\ttotal: 172ms\tremaining: 1.62s\n",
      "96:\tlearn: 527941.9625596\ttotal: 174ms\tremaining: 1.62s\n",
      "97:\tlearn: 527477.3359116\ttotal: 176ms\tremaining: 1.62s\n",
      "98:\tlearn: 526335.0159984\ttotal: 179ms\tremaining: 1.63s\n",
      "99:\tlearn: 524862.0828447\ttotal: 181ms\tremaining: 1.63s\n",
      "100:\tlearn: 524362.5226809\ttotal: 182ms\tremaining: 1.62s\n",
      "101:\tlearn: 523278.0970018\ttotal: 184ms\tremaining: 1.62s\n",
      "102:\tlearn: 522810.9581120\ttotal: 186ms\tremaining: 1.62s\n",
      "103:\tlearn: 522537.4440092\ttotal: 187ms\tremaining: 1.61s\n",
      "104:\tlearn: 522016.2763954\ttotal: 189ms\tremaining: 1.61s\n",
      "105:\tlearn: 521481.7941508\ttotal: 191ms\tremaining: 1.61s\n",
      "106:\tlearn: 520629.9984200\ttotal: 192ms\tremaining: 1.6s\n",
      "107:\tlearn: 520301.0455024\ttotal: 194ms\tremaining: 1.6s\n",
      "108:\tlearn: 519508.8478174\ttotal: 196ms\tremaining: 1.6s\n",
      "109:\tlearn: 519285.6384439\ttotal: 197ms\tremaining: 1.6s\n",
      "110:\tlearn: 518952.9915770\ttotal: 199ms\tremaining: 1.59s\n",
      "111:\tlearn: 517382.5936893\ttotal: 201ms\tremaining: 1.59s\n",
      "112:\tlearn: 516862.6652937\ttotal: 202ms\tremaining: 1.59s\n",
      "113:\tlearn: 516510.7447751\ttotal: 204ms\tremaining: 1.59s\n",
      "114:\tlearn: 516180.1705691\ttotal: 206ms\tremaining: 1.58s\n",
      "115:\tlearn: 515527.2148158\ttotal: 208ms\tremaining: 1.58s\n",
      "116:\tlearn: 515172.8773628\ttotal: 209ms\tremaining: 1.58s\n",
      "117:\tlearn: 514719.9569038\ttotal: 211ms\tremaining: 1.57s\n",
      "118:\tlearn: 513957.2401048\ttotal: 212ms\tremaining: 1.57s\n",
      "119:\tlearn: 513772.4798167\ttotal: 214ms\tremaining: 1.57s\n",
      "120:\tlearn: 513148.6923414\ttotal: 216ms\tremaining: 1.57s\n",
      "121:\tlearn: 512910.9966868\ttotal: 217ms\tremaining: 1.56s\n",
      "122:\tlearn: 512277.5495552\ttotal: 219ms\tremaining: 1.56s\n",
      "123:\tlearn: 511977.7861498\ttotal: 221ms\tremaining: 1.56s\n",
      "124:\tlearn: 511117.5677372\ttotal: 222ms\tremaining: 1.56s\n",
      "125:\tlearn: 510683.1487095\ttotal: 224ms\tremaining: 1.55s\n",
      "126:\tlearn: 510502.3917508\ttotal: 226ms\tremaining: 1.55s\n",
      "127:\tlearn: 510223.3127650\ttotal: 227ms\tremaining: 1.55s\n",
      "128:\tlearn: 509985.3066722\ttotal: 229ms\tremaining: 1.55s\n",
      "129:\tlearn: 509690.8595258\ttotal: 231ms\tremaining: 1.54s\n",
      "130:\tlearn: 509401.4755282\ttotal: 232ms\tremaining: 1.54s\n",
      "131:\tlearn: 508996.5512940\ttotal: 234ms\tremaining: 1.54s\n",
      "132:\tlearn: 508652.5171791\ttotal: 236ms\tremaining: 1.54s\n",
      "133:\tlearn: 508153.9466175\ttotal: 237ms\tremaining: 1.53s\n",
      "134:\tlearn: 507870.4607269\ttotal: 239ms\tremaining: 1.53s\n",
      "135:\tlearn: 507303.7846826\ttotal: 240ms\tremaining: 1.53s\n",
      "136:\tlearn: 507061.4344329\ttotal: 242ms\tremaining: 1.52s\n",
      "137:\tlearn: 505916.0442925\ttotal: 244ms\tremaining: 1.52s\n",
      "138:\tlearn: 505679.5090505\ttotal: 246ms\tremaining: 1.52s\n",
      "139:\tlearn: 505285.1616079\ttotal: 247ms\tremaining: 1.52s\n",
      "140:\tlearn: 504967.1830354\ttotal: 249ms\tremaining: 1.51s\n",
      "141:\tlearn: 504745.5895457\ttotal: 250ms\tremaining: 1.51s\n",
      "142:\tlearn: 504310.0663386\ttotal: 252ms\tremaining: 1.51s\n",
      "143:\tlearn: 504049.0204527\ttotal: 254ms\tremaining: 1.51s\n",
      "144:\tlearn: 503939.8694211\ttotal: 255ms\tremaining: 1.5s\n",
      "145:\tlearn: 503555.3530303\ttotal: 257ms\tremaining: 1.5s\n",
      "146:\tlearn: 503205.6071452\ttotal: 259ms\tremaining: 1.5s\n",
      "147:\tlearn: 502791.7285081\ttotal: 260ms\tremaining: 1.5s\n",
      "148:\tlearn: 502368.8745608\ttotal: 262ms\tremaining: 1.5s\n",
      "149:\tlearn: 502009.9176885\ttotal: 264ms\tremaining: 1.49s\n",
      "150:\tlearn: 501802.4974664\ttotal: 265ms\tremaining: 1.49s\n",
      "151:\tlearn: 501235.6100291\ttotal: 267ms\tremaining: 1.49s\n",
      "152:\tlearn: 500989.2691935\ttotal: 269ms\tremaining: 1.49s\n",
      "153:\tlearn: 500610.9660180\ttotal: 270ms\tremaining: 1.48s\n",
      "154:\tlearn: 500432.3478934\ttotal: 272ms\tremaining: 1.48s\n",
      "155:\tlearn: 500260.9175144\ttotal: 274ms\tremaining: 1.48s\n",
      "156:\tlearn: 500070.3435964\ttotal: 275ms\tremaining: 1.48s\n",
      "157:\tlearn: 499060.8284019\ttotal: 277ms\tremaining: 1.48s\n",
      "158:\tlearn: 498865.4946732\ttotal: 279ms\tremaining: 1.48s\n",
      "159:\tlearn: 498684.4698713\ttotal: 281ms\tremaining: 1.47s\n",
      "160:\tlearn: 498319.1255876\ttotal: 282ms\tremaining: 1.47s\n",
      "161:\tlearn: 497626.7582414\ttotal: 284ms\tremaining: 1.47s\n",
      "162:\tlearn: 497387.2765154\ttotal: 286ms\tremaining: 1.47s\n",
      "163:\tlearn: 497200.9845922\ttotal: 287ms\tremaining: 1.46s\n",
      "164:\tlearn: 496905.3069092\ttotal: 289ms\tremaining: 1.46s\n",
      "165:\tlearn: 496738.3251135\ttotal: 291ms\tremaining: 1.46s\n",
      "166:\tlearn: 496484.8243972\ttotal: 293ms\tremaining: 1.46s\n",
      "167:\tlearn: 496043.8123936\ttotal: 294ms\tremaining: 1.46s\n",
      "168:\tlearn: 495798.7012452\ttotal: 296ms\tremaining: 1.45s\n",
      "169:\tlearn: 495292.9360362\ttotal: 297ms\tremaining: 1.45s\n",
      "170:\tlearn: 495110.9868862\ttotal: 299ms\tremaining: 1.45s\n",
      "171:\tlearn: 494777.6501924\ttotal: 301ms\tremaining: 1.45s\n",
      "172:\tlearn: 494182.3369705\ttotal: 302ms\tremaining: 1.45s\n",
      "173:\tlearn: 493973.5670966\ttotal: 304ms\tremaining: 1.44s\n",
      "174:\tlearn: 493673.3040047\ttotal: 306ms\tremaining: 1.44s\n",
      "175:\tlearn: 493234.2072598\ttotal: 307ms\tremaining: 1.44s\n",
      "176:\tlearn: 492692.8068833\ttotal: 309ms\tremaining: 1.44s\n",
      "177:\tlearn: 492441.4818121\ttotal: 311ms\tremaining: 1.43s\n",
      "178:\tlearn: 492263.3119659\ttotal: 312ms\tremaining: 1.43s\n",
      "179:\tlearn: 492082.3217118\ttotal: 314ms\tremaining: 1.43s\n",
      "180:\tlearn: 491940.6613739\ttotal: 316ms\tremaining: 1.43s\n",
      "181:\tlearn: 491655.1945837\ttotal: 317ms\tremaining: 1.43s\n",
      "182:\tlearn: 491529.7061836\ttotal: 319ms\tremaining: 1.43s\n",
      "183:\tlearn: 491147.0149059\ttotal: 321ms\tremaining: 1.42s\n",
      "184:\tlearn: 490910.0910250\ttotal: 323ms\tremaining: 1.42s\n",
      "185:\tlearn: 490421.5154218\ttotal: 324ms\tremaining: 1.42s\n",
      "186:\tlearn: 490288.8866340\ttotal: 326ms\tremaining: 1.42s\n",
      "187:\tlearn: 490079.9223317\ttotal: 328ms\tremaining: 1.42s\n",
      "188:\tlearn: 489904.6932352\ttotal: 330ms\tremaining: 1.41s\n",
      "189:\tlearn: 489719.1083259\ttotal: 331ms\tremaining: 1.41s\n",
      "190:\tlearn: 488996.7316508\ttotal: 333ms\tremaining: 1.41s\n",
      "191:\tlearn: 488745.2151564\ttotal: 335ms\tremaining: 1.41s\n"
     ]
    },
    {
     "name": "stdout",
     "output_type": "stream",
     "text": [
      "192:\tlearn: 488360.4279567\ttotal: 337ms\tremaining: 1.41s\n",
      "193:\tlearn: 488166.7304432\ttotal: 339ms\tremaining: 1.41s\n",
      "194:\tlearn: 488005.6630962\ttotal: 341ms\tremaining: 1.41s\n",
      "195:\tlearn: 487867.7080861\ttotal: 343ms\tremaining: 1.41s\n",
      "196:\tlearn: 487696.5908527\ttotal: 345ms\tremaining: 1.41s\n",
      "197:\tlearn: 487372.8988728\ttotal: 347ms\tremaining: 1.41s\n",
      "198:\tlearn: 486594.1294993\ttotal: 349ms\tremaining: 1.4s\n",
      "199:\tlearn: 486363.9917356\ttotal: 350ms\tremaining: 1.4s\n",
      "200:\tlearn: 486061.3543834\ttotal: 352ms\tremaining: 1.4s\n",
      "201:\tlearn: 485583.1490326\ttotal: 355ms\tremaining: 1.4s\n",
      "202:\tlearn: 485319.2487318\ttotal: 356ms\tremaining: 1.4s\n",
      "203:\tlearn: 485002.4406597\ttotal: 358ms\tremaining: 1.4s\n",
      "204:\tlearn: 484823.9782490\ttotal: 360ms\tremaining: 1.4s\n",
      "205:\tlearn: 484603.8309820\ttotal: 361ms\tremaining: 1.39s\n",
      "206:\tlearn: 484483.4875220\ttotal: 363ms\tremaining: 1.39s\n",
      "207:\tlearn: 483725.9466326\ttotal: 365ms\tremaining: 1.39s\n",
      "208:\tlearn: 483486.7845508\ttotal: 367ms\tremaining: 1.39s\n",
      "209:\tlearn: 483267.9313317\ttotal: 368ms\tremaining: 1.39s\n",
      "210:\tlearn: 483078.0782557\ttotal: 370ms\tremaining: 1.38s\n",
      "211:\tlearn: 482966.9655555\ttotal: 372ms\tremaining: 1.38s\n",
      "212:\tlearn: 482291.7116906\ttotal: 373ms\tremaining: 1.38s\n",
      "213:\tlearn: 481968.9004721\ttotal: 375ms\tremaining: 1.38s\n",
      "214:\tlearn: 481681.6157767\ttotal: 377ms\tremaining: 1.38s\n",
      "215:\tlearn: 481436.4771796\ttotal: 379ms\tremaining: 1.37s\n",
      "216:\tlearn: 481260.5320794\ttotal: 380ms\tremaining: 1.37s\n",
      "217:\tlearn: 480963.5917305\ttotal: 382ms\tremaining: 1.37s\n",
      "218:\tlearn: 480715.4392112\ttotal: 384ms\tremaining: 1.37s\n",
      "219:\tlearn: 480568.5795239\ttotal: 386ms\tremaining: 1.37s\n",
      "220:\tlearn: 480372.8959061\ttotal: 388ms\tremaining: 1.37s\n",
      "221:\tlearn: 480203.0817379\ttotal: 389ms\tremaining: 1.36s\n",
      "222:\tlearn: 480097.1336628\ttotal: 391ms\tremaining: 1.36s\n",
      "223:\tlearn: 479928.3842244\ttotal: 393ms\tremaining: 1.36s\n",
      "224:\tlearn: 479821.4331278\ttotal: 394ms\tremaining: 1.36s\n",
      "225:\tlearn: 479579.4020275\ttotal: 396ms\tremaining: 1.36s\n",
      "226:\tlearn: 479425.6265033\ttotal: 398ms\tremaining: 1.35s\n",
      "227:\tlearn: 479237.8275024\ttotal: 400ms\tremaining: 1.35s\n",
      "228:\tlearn: 479056.9846974\ttotal: 402ms\tremaining: 1.35s\n",
      "229:\tlearn: 478893.4069980\ttotal: 404ms\tremaining: 1.35s\n",
      "230:\tlearn: 478444.3776529\ttotal: 406ms\tremaining: 1.35s\n",
      "231:\tlearn: 478341.5631198\ttotal: 409ms\tremaining: 1.35s\n",
      "232:\tlearn: 478156.0170543\ttotal: 410ms\tremaining: 1.35s\n",
      "233:\tlearn: 478020.0581297\ttotal: 412ms\tremaining: 1.35s\n",
      "234:\tlearn: 477897.7989321\ttotal: 414ms\tremaining: 1.35s\n",
      "235:\tlearn: 477551.2916350\ttotal: 416ms\tremaining: 1.35s\n",
      "236:\tlearn: 477412.9309549\ttotal: 418ms\tremaining: 1.35s\n",
      "237:\tlearn: 477294.5810317\ttotal: 421ms\tremaining: 1.35s\n",
      "238:\tlearn: 477073.6846102\ttotal: 423ms\tremaining: 1.35s\n",
      "239:\tlearn: 476788.6159674\ttotal: 425ms\tremaining: 1.34s\n",
      "240:\tlearn: 476525.9832888\ttotal: 427ms\tremaining: 1.34s\n",
      "241:\tlearn: 476251.8570994\ttotal: 429ms\tremaining: 1.34s\n",
      "242:\tlearn: 475996.1972414\ttotal: 431ms\tremaining: 1.34s\n",
      "243:\tlearn: 475678.1195747\ttotal: 433ms\tremaining: 1.34s\n",
      "244:\tlearn: 475444.1054144\ttotal: 435ms\tremaining: 1.34s\n",
      "245:\tlearn: 475245.7369986\ttotal: 437ms\tremaining: 1.34s\n",
      "246:\tlearn: 475121.9454602\ttotal: 439ms\tremaining: 1.34s\n",
      "247:\tlearn: 474954.1943782\ttotal: 441ms\tremaining: 1.34s\n",
      "248:\tlearn: 474768.5855599\ttotal: 442ms\tremaining: 1.33s\n",
      "249:\tlearn: 474582.1942783\ttotal: 445ms\tremaining: 1.33s\n",
      "250:\tlearn: 474207.6412176\ttotal: 447ms\tremaining: 1.33s\n",
      "251:\tlearn: 473986.6112202\ttotal: 449ms\tremaining: 1.33s\n",
      "252:\tlearn: 473871.7236542\ttotal: 451ms\tremaining: 1.33s\n",
      "253:\tlearn: 473686.3162076\ttotal: 453ms\tremaining: 1.33s\n",
      "254:\tlearn: 473524.0550588\ttotal: 455ms\tremaining: 1.33s\n",
      "255:\tlearn: 473369.2515907\ttotal: 457ms\tremaining: 1.33s\n",
      "256:\tlearn: 473292.5368860\ttotal: 458ms\tremaining: 1.32s\n",
      "257:\tlearn: 473159.6408110\ttotal: 461ms\tremaining: 1.32s\n",
      "258:\tlearn: 473012.2478006\ttotal: 463ms\tremaining: 1.32s\n",
      "259:\tlearn: 472927.2770945\ttotal: 465ms\tremaining: 1.32s\n",
      "260:\tlearn: 472746.3881492\ttotal: 468ms\tremaining: 1.32s\n",
      "261:\tlearn: 472639.8846197\ttotal: 469ms\tremaining: 1.32s\n",
      "262:\tlearn: 472518.1442256\ttotal: 471ms\tremaining: 1.32s\n",
      "263:\tlearn: 472183.3572711\ttotal: 473ms\tremaining: 1.32s\n",
      "264:\tlearn: 471799.7452097\ttotal: 475ms\tremaining: 1.32s\n",
      "265:\tlearn: 471723.8597906\ttotal: 477ms\tremaining: 1.31s\n",
      "266:\tlearn: 471565.9845083\ttotal: 479ms\tremaining: 1.31s\n",
      "267:\tlearn: 471418.1699082\ttotal: 481ms\tremaining: 1.31s\n",
      "268:\tlearn: 471235.9904647\ttotal: 483ms\tremaining: 1.31s\n",
      "269:\tlearn: 471072.3592298\ttotal: 485ms\tremaining: 1.31s\n",
      "270:\tlearn: 470868.6510624\ttotal: 487ms\tremaining: 1.31s\n",
      "271:\tlearn: 470736.3151418\ttotal: 488ms\tremaining: 1.31s\n",
      "272:\tlearn: 470569.0475238\ttotal: 491ms\tremaining: 1.31s\n",
      "273:\tlearn: 470389.5050775\ttotal: 493ms\tremaining: 1.31s\n",
      "274:\tlearn: 469812.1103645\ttotal: 496ms\tremaining: 1.31s\n",
      "275:\tlearn: 469735.2840102\ttotal: 498ms\tremaining: 1.31s\n",
      "276:\tlearn: 469667.4775117\ttotal: 500ms\tremaining: 1.3s\n",
      "277:\tlearn: 469552.8681719\ttotal: 501ms\tremaining: 1.3s\n",
      "278:\tlearn: 469437.8621027\ttotal: 503ms\tremaining: 1.3s\n",
      "279:\tlearn: 469277.9271966\ttotal: 505ms\tremaining: 1.3s\n",
      "280:\tlearn: 469167.3636296\ttotal: 507ms\tremaining: 1.3s\n",
      "281:\tlearn: 468989.3174703\ttotal: 509ms\tremaining: 1.29s\n",
      "282:\tlearn: 468840.5818817\ttotal: 511ms\tremaining: 1.29s\n",
      "283:\tlearn: 468754.9074744\ttotal: 513ms\tremaining: 1.29s\n",
      "284:\tlearn: 468693.2691716\ttotal: 515ms\tremaining: 1.29s\n",
      "285:\tlearn: 468602.9730144\ttotal: 518ms\tremaining: 1.29s\n",
      "286:\tlearn: 468489.6724098\ttotal: 520ms\tremaining: 1.29s\n",
      "287:\tlearn: 468303.8233017\ttotal: 522ms\tremaining: 1.29s\n",
      "288:\tlearn: 468154.2476847\ttotal: 524ms\tremaining: 1.29s\n",
      "289:\tlearn: 468066.4895308\ttotal: 527ms\tremaining: 1.29s\n",
      "290:\tlearn: 468005.3443509\ttotal: 529ms\tremaining: 1.29s\n",
      "291:\tlearn: 467919.9163578\ttotal: 530ms\tremaining: 1.28s\n",
      "292:\tlearn: 467795.2466093\ttotal: 532ms\tremaining: 1.28s\n",
      "293:\tlearn: 467690.5904409\ttotal: 534ms\tremaining: 1.28s\n",
      "294:\tlearn: 467527.1477524\ttotal: 537ms\tremaining: 1.28s\n",
      "295:\tlearn: 467461.7837726\ttotal: 538ms\tremaining: 1.28s\n",
      "296:\tlearn: 467287.8148589\ttotal: 541ms\tremaining: 1.28s\n",
      "297:\tlearn: 467153.4151972\ttotal: 542ms\tremaining: 1.28s\n",
      "298:\tlearn: 466626.7144497\ttotal: 544ms\tremaining: 1.27s\n",
      "299:\tlearn: 466452.0757882\ttotal: 546ms\tremaining: 1.27s\n",
      "300:\tlearn: 466327.1034737\ttotal: 547ms\tremaining: 1.27s\n",
      "301:\tlearn: 466238.2370937\ttotal: 550ms\tremaining: 1.27s\n",
      "302:\tlearn: 466135.5505849\ttotal: 552ms\tremaining: 1.27s\n",
      "303:\tlearn: 465931.8228968\ttotal: 554ms\tremaining: 1.27s\n",
      "304:\tlearn: 465450.2581296\ttotal: 556ms\tremaining: 1.27s\n",
      "305:\tlearn: 465245.1994636\ttotal: 558ms\tremaining: 1.26s\n",
      "306:\tlearn: 465084.8003704\ttotal: 560ms\tremaining: 1.26s\n",
      "307:\tlearn: 464993.0298694\ttotal: 561ms\tremaining: 1.26s\n",
      "308:\tlearn: 464902.6091896\ttotal: 563ms\tremaining: 1.26s\n",
      "309:\tlearn: 464666.6495545\ttotal: 566ms\tremaining: 1.26s\n",
      "310:\tlearn: 464490.6706593\ttotal: 567ms\tremaining: 1.26s\n",
      "311:\tlearn: 464401.4538065\ttotal: 569ms\tremaining: 1.25s\n",
      "312:\tlearn: 463960.4840105\ttotal: 571ms\tremaining: 1.25s\n",
      "313:\tlearn: 463845.6574332\ttotal: 572ms\tremaining: 1.25s\n",
      "314:\tlearn: 463754.0869796\ttotal: 574ms\tremaining: 1.25s\n",
      "315:\tlearn: 463659.8083680\ttotal: 576ms\tremaining: 1.25s\n",
      "316:\tlearn: 463605.6310621\ttotal: 577ms\tremaining: 1.24s\n",
      "317:\tlearn: 463308.9153796\ttotal: 580ms\tremaining: 1.24s\n",
      "318:\tlearn: 463150.1626159\ttotal: 582ms\tremaining: 1.24s\n",
      "319:\tlearn: 462943.4351603\ttotal: 584ms\tremaining: 1.24s\n",
      "320:\tlearn: 462802.5018197\ttotal: 587ms\tremaining: 1.24s\n",
      "321:\tlearn: 462681.7109386\ttotal: 589ms\tremaining: 1.24s\n",
      "322:\tlearn: 462598.4483589\ttotal: 591ms\tremaining: 1.24s\n",
      "323:\tlearn: 462484.8296222\ttotal: 592ms\tremaining: 1.24s\n",
      "324:\tlearn: 462435.3686510\ttotal: 594ms\tremaining: 1.23s\n",
      "325:\tlearn: 461860.2440046\ttotal: 596ms\tremaining: 1.23s\n",
      "326:\tlearn: 461602.2515057\ttotal: 598ms\tremaining: 1.23s\n",
      "327:\tlearn: 461506.2459896\ttotal: 601ms\tremaining: 1.23s\n",
      "328:\tlearn: 461364.3555482\ttotal: 603ms\tremaining: 1.23s\n",
      "329:\tlearn: 461009.6267032\ttotal: 605ms\tremaining: 1.23s\n",
      "330:\tlearn: 460863.0836827\ttotal: 606ms\tremaining: 1.23s\n",
      "331:\tlearn: 460753.0812741\ttotal: 608ms\tremaining: 1.22s\n",
      "332:\tlearn: 460673.0768027\ttotal: 610ms\tremaining: 1.22s\n",
      "333:\tlearn: 460592.6994855\ttotal: 612ms\tremaining: 1.22s\n",
      "334:\tlearn: 460349.4440340\ttotal: 614ms\tremaining: 1.22s\n",
      "335:\tlearn: 460142.3684091\ttotal: 616ms\tremaining: 1.22s\n",
      "336:\tlearn: 460034.1664043\ttotal: 619ms\tremaining: 1.22s\n",
      "337:\tlearn: 459942.5548553\ttotal: 620ms\tremaining: 1.21s\n",
      "338:\tlearn: 459787.2036089\ttotal: 622ms\tremaining: 1.21s\n",
      "339:\tlearn: 459736.9409716\ttotal: 624ms\tremaining: 1.21s\n",
      "340:\tlearn: 459664.7598884\ttotal: 626ms\tremaining: 1.21s\n",
      "341:\tlearn: 459572.1542198\ttotal: 628ms\tremaining: 1.21s\n",
      "342:\tlearn: 459487.8106278\ttotal: 630ms\tremaining: 1.21s\n",
      "343:\tlearn: 459425.6450317\ttotal: 632ms\tremaining: 1.2s\n",
      "344:\tlearn: 459271.3176234\ttotal: 634ms\tremaining: 1.2s\n",
      "345:\tlearn: 459209.3945491\ttotal: 636ms\tremaining: 1.2s\n",
      "346:\tlearn: 459092.6070289\ttotal: 638ms\tremaining: 1.2s\n",
      "347:\tlearn: 458826.2336703\ttotal: 639ms\tremaining: 1.2s\n",
      "348:\tlearn: 458744.8344818\ttotal: 641ms\tremaining: 1.2s\n",
      "349:\tlearn: 458581.6597128\ttotal: 643ms\tremaining: 1.19s\n",
      "350:\tlearn: 458193.2468678\ttotal: 645ms\tremaining: 1.19s\n",
      "351:\tlearn: 458022.1799132\ttotal: 648ms\tremaining: 1.19s\n",
      "352:\tlearn: 457884.8274376\ttotal: 650ms\tremaining: 1.19s\n",
      "353:\tlearn: 457761.3085905\ttotal: 651ms\tremaining: 1.19s\n"
     ]
    },
    {
     "name": "stdout",
     "output_type": "stream",
     "text": [
      "354:\tlearn: 457673.8217579\ttotal: 654ms\tremaining: 1.19s\n",
      "355:\tlearn: 457480.6142083\ttotal: 656ms\tremaining: 1.19s\n",
      "356:\tlearn: 457441.5662638\ttotal: 658ms\tremaining: 1.18s\n",
      "357:\tlearn: 457301.7114353\ttotal: 660ms\tremaining: 1.18s\n",
      "358:\tlearn: 457221.0699747\ttotal: 662ms\tremaining: 1.18s\n",
      "359:\tlearn: 457099.5913179\ttotal: 663ms\tremaining: 1.18s\n",
      "360:\tlearn: 456972.3744968\ttotal: 665ms\tremaining: 1.18s\n",
      "361:\tlearn: 456660.4491025\ttotal: 668ms\tremaining: 1.18s\n",
      "362:\tlearn: 456573.7536905\ttotal: 670ms\tremaining: 1.17s\n",
      "363:\tlearn: 456517.5017352\ttotal: 672ms\tremaining: 1.17s\n",
      "364:\tlearn: 456443.4564766\ttotal: 675ms\tremaining: 1.17s\n",
      "365:\tlearn: 456277.6142969\ttotal: 677ms\tremaining: 1.17s\n",
      "366:\tlearn: 456210.7352713\ttotal: 679ms\tremaining: 1.17s\n",
      "367:\tlearn: 456143.1304751\ttotal: 681ms\tremaining: 1.17s\n",
      "368:\tlearn: 456059.0641439\ttotal: 683ms\tremaining: 1.17s\n",
      "369:\tlearn: 455894.6573729\ttotal: 685ms\tremaining: 1.17s\n",
      "370:\tlearn: 455823.0961043\ttotal: 687ms\tremaining: 1.17s\n",
      "371:\tlearn: 455714.6809962\ttotal: 689ms\tremaining: 1.16s\n",
      "372:\tlearn: 455598.6469860\ttotal: 691ms\tremaining: 1.16s\n",
      "373:\tlearn: 455486.8385773\ttotal: 694ms\tremaining: 1.16s\n",
      "374:\tlearn: 455414.5921294\ttotal: 695ms\tremaining: 1.16s\n",
      "375:\tlearn: 455236.3956559\ttotal: 697ms\tremaining: 1.16s\n",
      "376:\tlearn: 455055.1569773\ttotal: 699ms\tremaining: 1.15s\n",
      "377:\tlearn: 454953.7326583\ttotal: 701ms\tremaining: 1.15s\n",
      "378:\tlearn: 454844.6613828\ttotal: 703ms\tremaining: 1.15s\n",
      "379:\tlearn: 454746.4616678\ttotal: 705ms\tremaining: 1.15s\n",
      "380:\tlearn: 454404.7358850\ttotal: 708ms\tremaining: 1.15s\n",
      "381:\tlearn: 454333.3204404\ttotal: 709ms\tremaining: 1.15s\n",
      "382:\tlearn: 454136.3602184\ttotal: 711ms\tremaining: 1.15s\n",
      "383:\tlearn: 454016.6581040\ttotal: 713ms\tremaining: 1.14s\n",
      "384:\tlearn: 453914.8714721\ttotal: 715ms\tremaining: 1.14s\n",
      "385:\tlearn: 453827.7112129\ttotal: 717ms\tremaining: 1.14s\n",
      "386:\tlearn: 453650.4781285\ttotal: 719ms\tremaining: 1.14s\n",
      "387:\tlearn: 453574.6101043\ttotal: 720ms\tremaining: 1.14s\n",
      "388:\tlearn: 453468.6775726\ttotal: 722ms\tremaining: 1.13s\n",
      "389:\tlearn: 453364.4063868\ttotal: 724ms\tremaining: 1.13s\n",
      "390:\tlearn: 453230.1863051\ttotal: 725ms\tremaining: 1.13s\n",
      "391:\tlearn: 453123.0652275\ttotal: 727ms\tremaining: 1.13s\n",
      "392:\tlearn: 453056.8808237\ttotal: 729ms\tremaining: 1.13s\n",
      "393:\tlearn: 452936.4876852\ttotal: 731ms\tremaining: 1.12s\n",
      "394:\tlearn: 452815.2863261\ttotal: 734ms\tremaining: 1.12s\n",
      "395:\tlearn: 452720.2909321\ttotal: 736ms\tremaining: 1.12s\n",
      "396:\tlearn: 452681.8443581\ttotal: 738ms\tremaining: 1.12s\n",
      "397:\tlearn: 452577.9103576\ttotal: 741ms\tremaining: 1.12s\n",
      "398:\tlearn: 452518.2549291\ttotal: 743ms\tremaining: 1.12s\n",
      "399:\tlearn: 452218.1396881\ttotal: 744ms\tremaining: 1.12s\n",
      "400:\tlearn: 452080.3515038\ttotal: 747ms\tremaining: 1.11s\n",
      "401:\tlearn: 452017.1528421\ttotal: 749ms\tremaining: 1.11s\n",
      "402:\tlearn: 451957.5529418\ttotal: 752ms\tremaining: 1.11s\n",
      "403:\tlearn: 451911.1054451\ttotal: 755ms\tremaining: 1.11s\n",
      "404:\tlearn: 451837.4007618\ttotal: 757ms\tremaining: 1.11s\n",
      "405:\tlearn: 451738.5976018\ttotal: 759ms\tremaining: 1.11s\n",
      "406:\tlearn: 451668.4062242\ttotal: 761ms\tremaining: 1.11s\n",
      "407:\tlearn: 451585.2012690\ttotal: 763ms\tremaining: 1.11s\n",
      "408:\tlearn: 451282.2498341\ttotal: 765ms\tremaining: 1.1s\n",
      "409:\tlearn: 451229.6647969\ttotal: 767ms\tremaining: 1.1s\n",
      "410:\tlearn: 451154.9899189\ttotal: 769ms\tremaining: 1.1s\n",
      "411:\tlearn: 451089.7405768\ttotal: 771ms\tremaining: 1.1s\n",
      "412:\tlearn: 451042.0088457\ttotal: 773ms\tremaining: 1.1s\n",
      "413:\tlearn: 450907.1462625\ttotal: 775ms\tremaining: 1.1s\n",
      "414:\tlearn: 450788.3813425\ttotal: 777ms\tremaining: 1.09s\n",
      "415:\tlearn: 450666.2614780\ttotal: 779ms\tremaining: 1.09s\n",
      "416:\tlearn: 450604.9063658\ttotal: 781ms\tremaining: 1.09s\n",
      "417:\tlearn: 450410.6965262\ttotal: 783ms\tremaining: 1.09s\n",
      "418:\tlearn: 450331.9973092\ttotal: 785ms\tremaining: 1.09s\n",
      "419:\tlearn: 450271.4871910\ttotal: 787ms\tremaining: 1.09s\n",
      "420:\tlearn: 450187.4925920\ttotal: 788ms\tremaining: 1.08s\n",
      "421:\tlearn: 450151.2472183\ttotal: 790ms\tremaining: 1.08s\n",
      "422:\tlearn: 450085.7544003\ttotal: 792ms\tremaining: 1.08s\n",
      "423:\tlearn: 450031.2590468\ttotal: 794ms\tremaining: 1.08s\n",
      "424:\tlearn: 449737.7229672\ttotal: 796ms\tremaining: 1.08s\n",
      "425:\tlearn: 449659.0104850\ttotal: 798ms\tremaining: 1.07s\n",
      "426:\tlearn: 449553.1402211\ttotal: 800ms\tremaining: 1.07s\n",
      "427:\tlearn: 449466.1200794\ttotal: 802ms\tremaining: 1.07s\n",
      "428:\tlearn: 449402.8385713\ttotal: 804ms\tremaining: 1.07s\n",
      "429:\tlearn: 449116.5973888\ttotal: 806ms\tremaining: 1.07s\n",
      "430:\tlearn: 449047.1370478\ttotal: 808ms\tremaining: 1.07s\n",
      "431:\tlearn: 449000.7533387\ttotal: 810ms\tremaining: 1.06s\n",
      "432:\tlearn: 448941.2727505\ttotal: 812ms\tremaining: 1.06s\n",
      "433:\tlearn: 448872.3431143\ttotal: 814ms\tremaining: 1.06s\n",
      "434:\tlearn: 448801.8787950\ttotal: 816ms\tremaining: 1.06s\n",
      "435:\tlearn: 448749.9382718\ttotal: 817ms\tremaining: 1.06s\n",
      "436:\tlearn: 448709.4386363\ttotal: 819ms\tremaining: 1.05s\n",
      "437:\tlearn: 448622.0475242\ttotal: 821ms\tremaining: 1.05s\n",
      "438:\tlearn: 448477.8684278\ttotal: 823ms\tremaining: 1.05s\n",
      "439:\tlearn: 448361.5532412\ttotal: 825ms\tremaining: 1.05s\n",
      "440:\tlearn: 448268.3619141\ttotal: 827ms\tremaining: 1.05s\n",
      "441:\tlearn: 448194.8581551\ttotal: 829ms\tremaining: 1.05s\n",
      "442:\tlearn: 448157.8469045\ttotal: 831ms\tremaining: 1.04s\n",
      "443:\tlearn: 448073.9028138\ttotal: 833ms\tremaining: 1.04s\n",
      "444:\tlearn: 448000.3897628\ttotal: 835ms\tremaining: 1.04s\n",
      "445:\tlearn: 447891.4106734\ttotal: 836ms\tremaining: 1.04s\n",
      "446:\tlearn: 447784.2373390\ttotal: 838ms\tremaining: 1.04s\n",
      "447:\tlearn: 447698.2025283\ttotal: 840ms\tremaining: 1.03s\n",
      "448:\tlearn: 447588.6102495\ttotal: 842ms\tremaining: 1.03s\n",
      "449:\tlearn: 447473.2460243\ttotal: 844ms\tremaining: 1.03s\n",
      "450:\tlearn: 447404.6923961\ttotal: 846ms\tremaining: 1.03s\n",
      "451:\tlearn: 447288.8565376\ttotal: 848ms\tremaining: 1.03s\n",
      "452:\tlearn: 447236.5651811\ttotal: 850ms\tremaining: 1.03s\n",
      "453:\tlearn: 447182.8916107\ttotal: 852ms\tremaining: 1.02s\n",
      "454:\tlearn: 447069.8171748\ttotal: 854ms\tremaining: 1.02s\n",
      "455:\tlearn: 446972.6714799\ttotal: 856ms\tremaining: 1.02s\n",
      "456:\tlearn: 446806.1409914\ttotal: 857ms\tremaining: 1.02s\n",
      "457:\tlearn: 446766.0474002\ttotal: 859ms\tremaining: 1.02s\n",
      "458:\tlearn: 446709.7420468\ttotal: 861ms\tremaining: 1.01s\n",
      "459:\tlearn: 446400.8421331\ttotal: 863ms\tremaining: 1.01s\n",
      "460:\tlearn: 446309.6539261\ttotal: 864ms\tremaining: 1.01s\n",
      "461:\tlearn: 446226.3713952\ttotal: 866ms\tremaining: 1.01s\n",
      "462:\tlearn: 446086.6332781\ttotal: 868ms\tremaining: 1.01s\n",
      "463:\tlearn: 445990.8129976\ttotal: 869ms\tremaining: 1s\n",
      "464:\tlearn: 445871.9581549\ttotal: 871ms\tremaining: 1s\n",
      "465:\tlearn: 445840.6476099\ttotal: 873ms\tremaining: 1s\n",
      "466:\tlearn: 445807.8445048\ttotal: 874ms\tremaining: 998ms\n",
      "467:\tlearn: 445692.3356451\ttotal: 876ms\tremaining: 996ms\n",
      "468:\tlearn: 445642.3379788\ttotal: 878ms\tremaining: 994ms\n",
      "469:\tlearn: 445596.4009888\ttotal: 879ms\tremaining: 992ms\n",
      "470:\tlearn: 445546.8244537\ttotal: 881ms\tremaining: 990ms\n",
      "471:\tlearn: 445460.3388758\ttotal: 883ms\tremaining: 988ms\n",
      "472:\tlearn: 445359.7979429\ttotal: 885ms\tremaining: 986ms\n",
      "473:\tlearn: 445294.4332799\ttotal: 886ms\tremaining: 984ms\n",
      "474:\tlearn: 445188.5937331\ttotal: 888ms\tremaining: 982ms\n",
      "475:\tlearn: 445039.2579742\ttotal: 890ms\tremaining: 980ms\n",
      "476:\tlearn: 444759.4798163\ttotal: 892ms\tremaining: 978ms\n",
      "477:\tlearn: 444700.8573295\ttotal: 893ms\tremaining: 976ms\n",
      "478:\tlearn: 444648.8449542\ttotal: 895ms\tremaining: 974ms\n",
      "479:\tlearn: 444594.6961146\ttotal: 897ms\tremaining: 972ms\n",
      "480:\tlearn: 444453.6747176\ttotal: 899ms\tremaining: 970ms\n",
      "481:\tlearn: 444335.1109018\ttotal: 900ms\tremaining: 967ms\n",
      "482:\tlearn: 444273.9375383\ttotal: 902ms\tremaining: 965ms\n",
      "483:\tlearn: 444228.5251916\ttotal: 903ms\tremaining: 963ms\n",
      "484:\tlearn: 444172.2681754\ttotal: 905ms\tremaining: 961ms\n",
      "485:\tlearn: 444086.3646339\ttotal: 907ms\tremaining: 959ms\n",
      "486:\tlearn: 443929.9856969\ttotal: 908ms\tremaining: 957ms\n",
      "487:\tlearn: 443802.3239140\ttotal: 910ms\tremaining: 955ms\n",
      "488:\tlearn: 443743.6903382\ttotal: 912ms\tremaining: 953ms\n",
      "489:\tlearn: 443639.4116035\ttotal: 914ms\tremaining: 951ms\n",
      "490:\tlearn: 443565.3883907\ttotal: 915ms\tremaining: 949ms\n",
      "491:\tlearn: 443467.8262216\ttotal: 917ms\tremaining: 947ms\n",
      "492:\tlearn: 443384.1670725\ttotal: 919ms\tremaining: 945ms\n",
      "493:\tlearn: 443160.9695022\ttotal: 921ms\tremaining: 943ms\n",
      "494:\tlearn: 443077.1595175\ttotal: 922ms\tremaining: 941ms\n",
      "495:\tlearn: 442943.9008479\ttotal: 924ms\tremaining: 939ms\n",
      "496:\tlearn: 442850.3312983\ttotal: 926ms\tremaining: 937ms\n",
      "497:\tlearn: 442768.6891362\ttotal: 927ms\tremaining: 935ms\n",
      "498:\tlearn: 442734.6203669\ttotal: 929ms\tremaining: 933ms\n",
      "499:\tlearn: 442529.5509807\ttotal: 931ms\tremaining: 931ms\n",
      "500:\tlearn: 442465.1829888\ttotal: 933ms\tremaining: 929ms\n",
      "501:\tlearn: 442261.0675019\ttotal: 934ms\tremaining: 927ms\n",
      "502:\tlearn: 442182.1614912\ttotal: 936ms\tremaining: 925ms\n",
      "503:\tlearn: 441923.5434149\ttotal: 938ms\tremaining: 923ms\n",
      "504:\tlearn: 441783.3895166\ttotal: 940ms\tremaining: 921ms\n",
      "505:\tlearn: 441749.8083729\ttotal: 941ms\tremaining: 919ms\n",
      "506:\tlearn: 441680.6543481\ttotal: 943ms\tremaining: 917ms\n",
      "507:\tlearn: 441625.4946138\ttotal: 946ms\tremaining: 916ms\n",
      "508:\tlearn: 441548.3410653\ttotal: 947ms\tremaining: 914ms\n",
      "509:\tlearn: 441492.2001732\ttotal: 949ms\tremaining: 912ms\n",
      "510:\tlearn: 441413.3167294\ttotal: 951ms\tremaining: 910ms\n",
      "511:\tlearn: 441357.2989242\ttotal: 952ms\tremaining: 908ms\n",
      "512:\tlearn: 441286.2398215\ttotal: 954ms\tremaining: 906ms\n",
      "513:\tlearn: 441231.2826352\ttotal: 956ms\tremaining: 904ms\n",
      "514:\tlearn: 441200.4878243\ttotal: 958ms\tremaining: 902ms\n",
      "515:\tlearn: 441071.8714668\ttotal: 959ms\tremaining: 900ms\n",
      "516:\tlearn: 440821.2448245\ttotal: 962ms\tremaining: 899ms\n",
      "517:\tlearn: 440750.3425793\ttotal: 964ms\tremaining: 897ms\n",
      "518:\tlearn: 440688.5393692\ttotal: 966ms\tremaining: 895ms\n",
      "519:\tlearn: 440629.4081215\ttotal: 967ms\tremaining: 893ms\n",
      "520:\tlearn: 440531.0130564\ttotal: 969ms\tremaining: 891ms\n",
      "521:\tlearn: 440356.5659632\ttotal: 971ms\tremaining: 889ms\n",
      "522:\tlearn: 440098.3409139\ttotal: 973ms\tremaining: 887ms\n",
      "523:\tlearn: 439856.4840013\ttotal: 974ms\tremaining: 885ms\n",
      "524:\tlearn: 439771.0814452\ttotal: 976ms\tremaining: 883ms\n",
      "525:\tlearn: 439526.1839695\ttotal: 978ms\tremaining: 881ms\n",
      "526:\tlearn: 439435.4419497\ttotal: 979ms\tremaining: 879ms\n",
      "527:\tlearn: 439348.5807650\ttotal: 981ms\tremaining: 877ms\n",
      "528:\tlearn: 439276.2597332\ttotal: 983ms\tremaining: 875ms\n",
      "529:\tlearn: 439196.1487497\ttotal: 985ms\tremaining: 873ms\n",
      "530:\tlearn: 439100.5544933\ttotal: 986ms\tremaining: 871ms\n",
      "531:\tlearn: 439001.7949960\ttotal: 988ms\tremaining: 869ms\n",
      "532:\tlearn: 438958.5159831\ttotal: 990ms\tremaining: 867ms\n",
      "533:\tlearn: 438885.9248083\ttotal: 992ms\tremaining: 865ms\n",
      "534:\tlearn: 438793.4479190\ttotal: 993ms\tremaining: 863ms\n",
      "535:\tlearn: 438593.8510939\ttotal: 995ms\tremaining: 861ms\n",
      "536:\tlearn: 438504.0848212\ttotal: 997ms\tremaining: 859ms\n",
      "537:\tlearn: 438476.4693633\ttotal: 998ms\tremaining: 857ms\n",
      "538:\tlearn: 438387.4040193\ttotal: 1s\tremaining: 855ms\n",
      "539:\tlearn: 438215.6118822\ttotal: 1s\tremaining: 854ms\n",
      "540:\tlearn: 438137.2502835\ttotal: 1s\tremaining: 852ms\n",
      "541:\tlearn: 438111.5897423\ttotal: 1s\tremaining: 850ms\n"
     ]
    },
    {
     "name": "stdout",
     "output_type": "stream",
     "text": [
      "542:\tlearn: 438018.8497896\ttotal: 1.01s\tremaining: 848ms\n",
      "543:\tlearn: 437985.4804734\ttotal: 1.01s\tremaining: 846ms\n",
      "544:\tlearn: 437735.8655269\ttotal: 1.01s\tremaining: 844ms\n",
      "545:\tlearn: 437690.5894877\ttotal: 1.01s\tremaining: 843ms\n",
      "546:\tlearn: 437407.8410031\ttotal: 1.01s\tremaining: 841ms\n",
      "547:\tlearn: 437353.6250924\ttotal: 1.02s\tremaining: 839ms\n",
      "548:\tlearn: 437196.6856754\ttotal: 1.02s\tremaining: 837ms\n",
      "549:\tlearn: 437092.7008287\ttotal: 1.02s\tremaining: 836ms\n",
      "550:\tlearn: 436963.3197708\ttotal: 1.02s\tremaining: 834ms\n",
      "551:\tlearn: 436906.1151407\ttotal: 1.02s\tremaining: 833ms\n",
      "552:\tlearn: 436859.6769460\ttotal: 1.03s\tremaining: 831ms\n",
      "553:\tlearn: 436754.7770310\ttotal: 1.03s\tremaining: 829ms\n",
      "554:\tlearn: 436700.3942670\ttotal: 1.03s\tremaining: 827ms\n",
      "555:\tlearn: 436574.7230625\ttotal: 1.03s\tremaining: 825ms\n",
      "556:\tlearn: 436500.5661401\ttotal: 1.03s\tremaining: 823ms\n",
      "557:\tlearn: 436451.0346548\ttotal: 1.04s\tremaining: 821ms\n",
      "558:\tlearn: 436364.5979023\ttotal: 1.04s\tremaining: 819ms\n",
      "559:\tlearn: 436313.7677185\ttotal: 1.04s\tremaining: 818ms\n",
      "560:\tlearn: 436260.6626793\ttotal: 1.04s\tremaining: 816ms\n",
      "561:\tlearn: 436214.6032349\ttotal: 1.04s\tremaining: 814ms\n",
      "562:\tlearn: 436103.5835130\ttotal: 1.05s\tremaining: 812ms\n",
      "563:\tlearn: 435987.5766205\ttotal: 1.05s\tremaining: 810ms\n",
      "564:\tlearn: 435890.4730774\ttotal: 1.05s\tremaining: 808ms\n",
      "565:\tlearn: 435789.3637917\ttotal: 1.05s\tremaining: 807ms\n",
      "566:\tlearn: 435736.9529832\ttotal: 1.05s\tremaining: 805ms\n",
      "567:\tlearn: 435687.0559597\ttotal: 1.06s\tremaining: 803ms\n",
      "568:\tlearn: 435654.3362695\ttotal: 1.06s\tremaining: 801ms\n",
      "569:\tlearn: 435607.6287239\ttotal: 1.06s\tremaining: 800ms\n",
      "570:\tlearn: 435551.0815291\ttotal: 1.06s\tremaining: 798ms\n",
      "571:\tlearn: 435382.6169582\ttotal: 1.06s\tremaining: 796ms\n",
      "572:\tlearn: 435343.0325733\ttotal: 1.06s\tremaining: 794ms\n",
      "573:\tlearn: 435279.3653221\ttotal: 1.07s\tremaining: 792ms\n",
      "574:\tlearn: 435210.6728227\ttotal: 1.07s\tremaining: 791ms\n",
      "575:\tlearn: 435135.5672752\ttotal: 1.07s\tremaining: 789ms\n",
      "576:\tlearn: 434995.9912069\ttotal: 1.07s\tremaining: 788ms\n",
      "577:\tlearn: 434934.2319746\ttotal: 1.08s\tremaining: 786ms\n",
      "578:\tlearn: 434736.7559661\ttotal: 1.08s\tremaining: 784ms\n",
      "579:\tlearn: 434661.3607552\ttotal: 1.08s\tremaining: 782ms\n",
      "580:\tlearn: 434273.2969377\ttotal: 1.08s\tremaining: 780ms\n",
      "581:\tlearn: 434187.8544513\ttotal: 1.08s\tremaining: 778ms\n",
      "582:\tlearn: 434126.2520506\ttotal: 1.08s\tremaining: 777ms\n",
      "583:\tlearn: 434056.7730068\ttotal: 1.09s\tremaining: 775ms\n",
      "584:\tlearn: 434000.7161383\ttotal: 1.09s\tremaining: 774ms\n",
      "585:\tlearn: 433734.2807594\ttotal: 1.09s\tremaining: 772ms\n",
      "586:\tlearn: 433604.5841233\ttotal: 1.09s\tremaining: 770ms\n",
      "587:\tlearn: 433395.2853771\ttotal: 1.09s\tremaining: 768ms\n",
      "588:\tlearn: 433361.7014726\ttotal: 1.1s\tremaining: 766ms\n",
      "589:\tlearn: 433326.4493002\ttotal: 1.1s\tremaining: 764ms\n",
      "590:\tlearn: 433155.4495943\ttotal: 1.1s\tremaining: 763ms\n",
      "591:\tlearn: 433123.6246992\ttotal: 1.1s\tremaining: 761ms\n",
      "592:\tlearn: 432918.4446030\ttotal: 1.11s\tremaining: 759ms\n",
      "593:\tlearn: 432865.4804996\ttotal: 1.11s\tremaining: 757ms\n",
      "594:\tlearn: 432816.9290134\ttotal: 1.11s\tremaining: 755ms\n",
      "595:\tlearn: 432735.0601876\ttotal: 1.11s\tremaining: 754ms\n",
      "596:\tlearn: 432692.1760940\ttotal: 1.11s\tremaining: 752ms\n",
      "597:\tlearn: 432649.8806470\ttotal: 1.11s\tremaining: 750ms\n",
      "598:\tlearn: 432562.2564583\ttotal: 1.12s\tremaining: 748ms\n",
      "599:\tlearn: 432504.3110742\ttotal: 1.12s\tremaining: 747ms\n",
      "600:\tlearn: 432440.6575314\ttotal: 1.12s\tremaining: 745ms\n",
      "601:\tlearn: 432197.0737108\ttotal: 1.12s\tremaining: 743ms\n",
      "602:\tlearn: 432090.5321108\ttotal: 1.13s\tremaining: 741ms\n",
      "603:\tlearn: 432002.7189116\ttotal: 1.13s\tremaining: 739ms\n",
      "604:\tlearn: 431779.3010111\ttotal: 1.13s\tremaining: 737ms\n",
      "605:\tlearn: 431572.1283123\ttotal: 1.13s\tremaining: 736ms\n",
      "606:\tlearn: 431521.7487536\ttotal: 1.13s\tremaining: 734ms\n",
      "607:\tlearn: 431448.9086371\ttotal: 1.14s\tremaining: 732ms\n",
      "608:\tlearn: 431368.8473104\ttotal: 1.14s\tremaining: 730ms\n",
      "609:\tlearn: 431300.0778057\ttotal: 1.14s\tremaining: 728ms\n",
      "610:\tlearn: 431239.2846723\ttotal: 1.14s\tremaining: 727ms\n",
      "611:\tlearn: 431172.4504712\ttotal: 1.14s\tremaining: 725ms\n",
      "612:\tlearn: 431120.7749207\ttotal: 1.15s\tremaining: 723ms\n",
      "613:\tlearn: 431044.2716703\ttotal: 1.15s\tremaining: 721ms\n",
      "614:\tlearn: 431000.0961844\ttotal: 1.15s\tremaining: 719ms\n",
      "615:\tlearn: 430930.4592440\ttotal: 1.15s\tremaining: 718ms\n",
      "616:\tlearn: 430764.7933743\ttotal: 1.15s\tremaining: 716ms\n",
      "617:\tlearn: 430737.3116030\ttotal: 1.15s\tremaining: 714ms\n",
      "618:\tlearn: 430704.2417132\ttotal: 1.16s\tremaining: 712ms\n",
      "619:\tlearn: 430666.3118181\ttotal: 1.16s\tremaining: 710ms\n",
      "620:\tlearn: 430584.7425213\ttotal: 1.16s\tremaining: 709ms\n",
      "621:\tlearn: 430517.3642121\ttotal: 1.16s\tremaining: 707ms\n",
      "622:\tlearn: 430387.2300869\ttotal: 1.17s\tremaining: 705ms\n",
      "623:\tlearn: 430316.6362936\ttotal: 1.17s\tremaining: 703ms\n",
      "624:\tlearn: 430220.2488170\ttotal: 1.17s\tremaining: 701ms\n",
      "625:\tlearn: 430096.7971813\ttotal: 1.17s\tremaining: 699ms\n",
      "626:\tlearn: 430041.1408690\ttotal: 1.17s\tremaining: 697ms\n",
      "627:\tlearn: 430002.8272749\ttotal: 1.17s\tremaining: 696ms\n",
      "628:\tlearn: 429821.9800734\ttotal: 1.18s\tremaining: 694ms\n",
      "629:\tlearn: 429797.2642434\ttotal: 1.18s\tremaining: 692ms\n",
      "630:\tlearn: 429746.4814283\ttotal: 1.18s\tremaining: 690ms\n",
      "631:\tlearn: 429689.1195711\ttotal: 1.18s\tremaining: 688ms\n",
      "632:\tlearn: 429538.0747229\ttotal: 1.18s\tremaining: 686ms\n",
      "633:\tlearn: 429508.8290218\ttotal: 1.19s\tremaining: 684ms\n",
      "634:\tlearn: 429380.0412816\ttotal: 1.19s\tremaining: 682ms\n",
      "635:\tlearn: 429333.5538877\ttotal: 1.19s\tremaining: 680ms\n",
      "636:\tlearn: 429240.0213487\ttotal: 1.19s\tremaining: 679ms\n",
      "637:\tlearn: 429154.7589043\ttotal: 1.19s\tremaining: 677ms\n",
      "638:\tlearn: 429108.8064311\ttotal: 1.19s\tremaining: 675ms\n",
      "639:\tlearn: 429062.9802476\ttotal: 1.2s\tremaining: 673ms\n",
      "640:\tlearn: 429019.4132002\ttotal: 1.2s\tremaining: 671ms\n",
      "641:\tlearn: 428952.2743693\ttotal: 1.2s\tremaining: 670ms\n",
      "642:\tlearn: 428909.7610671\ttotal: 1.2s\tremaining: 668ms\n",
      "643:\tlearn: 428834.8247575\ttotal: 1.21s\tremaining: 666ms\n",
      "644:\tlearn: 428768.7322940\ttotal: 1.21s\tremaining: 664ms\n",
      "645:\tlearn: 428709.9846208\ttotal: 1.21s\tremaining: 663ms\n",
      "646:\tlearn: 428553.1730521\ttotal: 1.21s\tremaining: 661ms\n",
      "647:\tlearn: 428395.9302178\ttotal: 1.21s\tremaining: 659ms\n",
      "648:\tlearn: 428301.5283486\ttotal: 1.21s\tremaining: 657ms\n",
      "649:\tlearn: 428159.3153659\ttotal: 1.22s\tremaining: 655ms\n",
      "650:\tlearn: 428060.2987313\ttotal: 1.22s\tremaining: 653ms\n",
      "651:\tlearn: 428021.8297380\ttotal: 1.22s\tremaining: 651ms\n",
      "652:\tlearn: 427969.4846284\ttotal: 1.22s\tremaining: 650ms\n",
      "653:\tlearn: 427900.1189008\ttotal: 1.22s\tremaining: 648ms\n",
      "654:\tlearn: 427795.1987414\ttotal: 1.23s\tremaining: 646ms\n",
      "655:\tlearn: 427764.8662128\ttotal: 1.23s\tremaining: 644ms\n",
      "656:\tlearn: 427739.3810162\ttotal: 1.23s\tremaining: 642ms\n",
      "657:\tlearn: 427632.5634117\ttotal: 1.23s\tremaining: 640ms\n",
      "658:\tlearn: 427606.7705654\ttotal: 1.23s\tremaining: 638ms\n",
      "659:\tlearn: 427592.0844054\ttotal: 1.23s\tremaining: 636ms\n",
      "660:\tlearn: 427508.0750148\ttotal: 1.24s\tremaining: 634ms\n",
      "661:\tlearn: 427443.1753206\ttotal: 1.24s\tremaining: 632ms\n",
      "662:\tlearn: 427381.4880334\ttotal: 1.24s\tremaining: 631ms\n",
      "663:\tlearn: 427313.3095725\ttotal: 1.24s\tremaining: 629ms\n",
      "664:\tlearn: 427239.8461379\ttotal: 1.24s\tremaining: 627ms\n",
      "665:\tlearn: 427168.2711374\ttotal: 1.25s\tremaining: 625ms\n",
      "666:\tlearn: 427083.3868696\ttotal: 1.25s\tremaining: 623ms\n",
      "667:\tlearn: 427029.3608013\ttotal: 1.25s\tremaining: 621ms\n",
      "668:\tlearn: 426979.2566842\ttotal: 1.25s\tremaining: 619ms\n",
      "669:\tlearn: 426919.4399960\ttotal: 1.25s\tremaining: 617ms\n",
      "670:\tlearn: 426799.6103574\ttotal: 1.25s\tremaining: 615ms\n",
      "671:\tlearn: 426733.2363877\ttotal: 1.26s\tremaining: 614ms\n",
      "672:\tlearn: 426601.5844028\ttotal: 1.26s\tremaining: 612ms\n",
      "673:\tlearn: 426558.6889899\ttotal: 1.26s\tremaining: 610ms\n",
      "674:\tlearn: 426473.9623942\ttotal: 1.26s\tremaining: 608ms\n",
      "675:\tlearn: 426423.2204179\ttotal: 1.26s\tremaining: 606ms\n",
      "676:\tlearn: 426177.3273185\ttotal: 1.26s\tremaining: 604ms\n",
      "677:\tlearn: 426114.1699449\ttotal: 1.27s\tremaining: 602ms\n",
      "678:\tlearn: 426050.9333484\ttotal: 1.27s\tremaining: 600ms\n",
      "679:\tlearn: 426014.1899120\ttotal: 1.27s\tremaining: 598ms\n",
      "680:\tlearn: 425961.2103227\ttotal: 1.27s\tremaining: 596ms\n",
      "681:\tlearn: 425886.0324708\ttotal: 1.27s\tremaining: 594ms\n",
      "682:\tlearn: 425834.8245634\ttotal: 1.27s\tremaining: 592ms\n",
      "683:\tlearn: 425789.1369878\ttotal: 1.28s\tremaining: 590ms\n",
      "684:\tlearn: 425728.5221754\ttotal: 1.28s\tremaining: 588ms\n",
      "685:\tlearn: 425667.5242056\ttotal: 1.28s\tremaining: 586ms\n",
      "686:\tlearn: 425591.6875426\ttotal: 1.28s\tremaining: 584ms\n",
      "687:\tlearn: 425501.7589014\ttotal: 1.28s\tremaining: 582ms\n",
      "688:\tlearn: 425442.5350227\ttotal: 1.29s\tremaining: 581ms\n",
      "689:\tlearn: 425417.3700962\ttotal: 1.29s\tremaining: 579ms\n",
      "690:\tlearn: 425379.7562089\ttotal: 1.29s\tremaining: 577ms\n",
      "691:\tlearn: 425196.2546815\ttotal: 1.29s\tremaining: 575ms\n",
      "692:\tlearn: 425096.8941493\ttotal: 1.29s\tremaining: 573ms\n",
      "693:\tlearn: 424907.6439593\ttotal: 1.29s\tremaining: 571ms\n",
      "694:\tlearn: 424837.7602728\ttotal: 1.3s\tremaining: 569ms\n",
      "695:\tlearn: 424707.3414414\ttotal: 1.3s\tremaining: 567ms\n",
      "696:\tlearn: 424647.6536190\ttotal: 1.3s\tremaining: 565ms\n",
      "697:\tlearn: 424596.3331704\ttotal: 1.3s\tremaining: 563ms\n",
      "698:\tlearn: 424507.4977752\ttotal: 1.3s\tremaining: 561ms\n",
      "699:\tlearn: 424329.0613800\ttotal: 1.3s\tremaining: 560ms\n",
      "700:\tlearn: 424192.2007653\ttotal: 1.31s\tremaining: 558ms\n",
      "701:\tlearn: 424151.6638178\ttotal: 1.31s\tremaining: 556ms\n",
      "702:\tlearn: 424098.9377173\ttotal: 1.31s\tremaining: 554ms\n",
      "703:\tlearn: 424036.7152822\ttotal: 1.31s\tremaining: 552ms\n",
      "704:\tlearn: 423998.1682151\ttotal: 1.31s\tremaining: 550ms\n",
      "705:\tlearn: 423768.6576692\ttotal: 1.32s\tremaining: 548ms\n",
      "706:\tlearn: 423738.7083867\ttotal: 1.32s\tremaining: 546ms\n",
      "707:\tlearn: 423715.1920040\ttotal: 1.32s\tremaining: 544ms\n",
      "708:\tlearn: 423668.2819554\ttotal: 1.32s\tremaining: 542ms\n",
      "709:\tlearn: 423457.6211766\ttotal: 1.32s\tremaining: 540ms\n",
      "710:\tlearn: 423367.0206605\ttotal: 1.32s\tremaining: 539ms\n",
      "711:\tlearn: 423213.6634963\ttotal: 1.33s\tremaining: 537ms\n",
      "712:\tlearn: 422860.9737027\ttotal: 1.33s\tremaining: 535ms\n",
      "713:\tlearn: 422632.4378592\ttotal: 1.33s\tremaining: 533ms\n",
      "714:\tlearn: 422402.1008230\ttotal: 1.33s\tremaining: 531ms\n",
      "715:\tlearn: 422241.0862786\ttotal: 1.33s\tremaining: 529ms\n",
      "716:\tlearn: 422191.8618034\ttotal: 1.33s\tremaining: 527ms\n",
      "717:\tlearn: 422168.0650834\ttotal: 1.34s\tremaining: 525ms\n",
      "718:\tlearn: 422104.0200122\ttotal: 1.34s\tremaining: 523ms\n",
      "719:\tlearn: 422011.1152048\ttotal: 1.34s\tremaining: 521ms\n"
     ]
    },
    {
     "name": "stdout",
     "output_type": "stream",
     "text": [
      "720:\tlearn: 421980.5043885\ttotal: 1.34s\tremaining: 519ms\n",
      "721:\tlearn: 421776.0171951\ttotal: 1.34s\tremaining: 518ms\n",
      "722:\tlearn: 421718.5593923\ttotal: 1.35s\tremaining: 516ms\n",
      "723:\tlearn: 421653.4957110\ttotal: 1.35s\tremaining: 514ms\n",
      "724:\tlearn: 421615.8154410\ttotal: 1.35s\tremaining: 512ms\n",
      "725:\tlearn: 421500.7248913\ttotal: 1.35s\tremaining: 510ms\n",
      "726:\tlearn: 421444.6620713\ttotal: 1.35s\tremaining: 508ms\n",
      "727:\tlearn: 421403.8894419\ttotal: 1.36s\tremaining: 507ms\n",
      "728:\tlearn: 421352.8171654\ttotal: 1.36s\tremaining: 505ms\n",
      "729:\tlearn: 421262.7449871\ttotal: 1.36s\tremaining: 503ms\n",
      "730:\tlearn: 421197.5482835\ttotal: 1.36s\tremaining: 501ms\n",
      "731:\tlearn: 421110.9865109\ttotal: 1.36s\tremaining: 499ms\n",
      "732:\tlearn: 421088.4526497\ttotal: 1.36s\tremaining: 497ms\n",
      "733:\tlearn: 421017.7550837\ttotal: 1.37s\tremaining: 496ms\n",
      "734:\tlearn: 420947.3258198\ttotal: 1.37s\tremaining: 494ms\n",
      "735:\tlearn: 420810.2689983\ttotal: 1.37s\tremaining: 492ms\n",
      "736:\tlearn: 420752.3723130\ttotal: 1.37s\tremaining: 490ms\n",
      "737:\tlearn: 420666.1746994\ttotal: 1.37s\tremaining: 488ms\n",
      "738:\tlearn: 420619.1633893\ttotal: 1.38s\tremaining: 486ms\n",
      "739:\tlearn: 420593.4071693\ttotal: 1.38s\tremaining: 484ms\n",
      "740:\tlearn: 420508.3940498\ttotal: 1.38s\tremaining: 482ms\n",
      "741:\tlearn: 420456.1115706\ttotal: 1.38s\tremaining: 480ms\n",
      "742:\tlearn: 420421.5609463\ttotal: 1.38s\tremaining: 478ms\n",
      "743:\tlearn: 420363.4606285\ttotal: 1.38s\tremaining: 476ms\n",
      "744:\tlearn: 420340.9982333\ttotal: 1.39s\tremaining: 475ms\n",
      "745:\tlearn: 420308.9500945\ttotal: 1.39s\tremaining: 473ms\n",
      "746:\tlearn: 420281.4683751\ttotal: 1.39s\tremaining: 471ms\n",
      "747:\tlearn: 420174.7671639\ttotal: 1.39s\tremaining: 469ms\n",
      "748:\tlearn: 420144.7668636\ttotal: 1.39s\tremaining: 467ms\n",
      "749:\tlearn: 420040.2470546\ttotal: 1.39s\tremaining: 465ms\n",
      "750:\tlearn: 419995.5770419\ttotal: 1.4s\tremaining: 463ms\n",
      "751:\tlearn: 419952.6399435\ttotal: 1.4s\tremaining: 461ms\n",
      "752:\tlearn: 419847.1701687\ttotal: 1.4s\tremaining: 459ms\n",
      "753:\tlearn: 419829.8545778\ttotal: 1.4s\tremaining: 457ms\n",
      "754:\tlearn: 419800.3818213\ttotal: 1.4s\tremaining: 455ms\n",
      "755:\tlearn: 419687.4583590\ttotal: 1.41s\tremaining: 454ms\n",
      "756:\tlearn: 419636.6537829\ttotal: 1.41s\tremaining: 452ms\n",
      "757:\tlearn: 419532.8146193\ttotal: 1.41s\tremaining: 450ms\n",
      "758:\tlearn: 419479.6088842\ttotal: 1.41s\tremaining: 448ms\n",
      "759:\tlearn: 419425.3076826\ttotal: 1.41s\tremaining: 446ms\n",
      "760:\tlearn: 419327.3364857\ttotal: 1.41s\tremaining: 444ms\n",
      "761:\tlearn: 419277.6220591\ttotal: 1.42s\tremaining: 442ms\n",
      "762:\tlearn: 419193.4070189\ttotal: 1.42s\tremaining: 440ms\n",
      "763:\tlearn: 419148.2867357\ttotal: 1.42s\tremaining: 438ms\n",
      "764:\tlearn: 419102.5060312\ttotal: 1.42s\tremaining: 437ms\n",
      "765:\tlearn: 419055.1080133\ttotal: 1.42s\tremaining: 435ms\n",
      "766:\tlearn: 419030.2764031\ttotal: 1.42s\tremaining: 433ms\n",
      "767:\tlearn: 418952.6672861\ttotal: 1.43s\tremaining: 431ms\n",
      "768:\tlearn: 418811.6421549\ttotal: 1.43s\tremaining: 429ms\n",
      "769:\tlearn: 418755.8783077\ttotal: 1.43s\tremaining: 427ms\n",
      "770:\tlearn: 418626.7658645\ttotal: 1.43s\tremaining: 425ms\n",
      "771:\tlearn: 418589.8725576\ttotal: 1.43s\tremaining: 423ms\n",
      "772:\tlearn: 418506.8981586\ttotal: 1.43s\tremaining: 421ms\n",
      "773:\tlearn: 418350.7647275\ttotal: 1.44s\tremaining: 420ms\n",
      "774:\tlearn: 418261.0457737\ttotal: 1.44s\tremaining: 418ms\n",
      "775:\tlearn: 418013.9901763\ttotal: 1.44s\tremaining: 416ms\n",
      "776:\tlearn: 417964.1116555\ttotal: 1.44s\tremaining: 414ms\n",
      "777:\tlearn: 417900.0264915\ttotal: 1.44s\tremaining: 412ms\n",
      "778:\tlearn: 417848.3867450\ttotal: 1.45s\tremaining: 410ms\n",
      "779:\tlearn: 417780.6660345\ttotal: 1.45s\tremaining: 408ms\n",
      "780:\tlearn: 417753.5457743\ttotal: 1.45s\tremaining: 406ms\n",
      "781:\tlearn: 417607.9655585\ttotal: 1.45s\tremaining: 404ms\n",
      "782:\tlearn: 417541.9781075\ttotal: 1.45s\tremaining: 403ms\n",
      "783:\tlearn: 417494.6352538\ttotal: 1.45s\tremaining: 401ms\n",
      "784:\tlearn: 417379.5033633\ttotal: 1.46s\tremaining: 399ms\n",
      "785:\tlearn: 417323.9190134\ttotal: 1.46s\tremaining: 397ms\n",
      "786:\tlearn: 417299.0438849\ttotal: 1.46s\tremaining: 395ms\n",
      "787:\tlearn: 417270.8620649\ttotal: 1.46s\tremaining: 393ms\n",
      "788:\tlearn: 417180.2695224\ttotal: 1.46s\tremaining: 391ms\n",
      "789:\tlearn: 417121.8435213\ttotal: 1.46s\tremaining: 389ms\n",
      "790:\tlearn: 417056.7289280\ttotal: 1.47s\tremaining: 387ms\n",
      "791:\tlearn: 417002.0529844\ttotal: 1.47s\tremaining: 386ms\n",
      "792:\tlearn: 416937.0159178\ttotal: 1.47s\tremaining: 384ms\n",
      "793:\tlearn: 416881.9481378\ttotal: 1.47s\tremaining: 382ms\n",
      "794:\tlearn: 416805.3489707\ttotal: 1.47s\tremaining: 380ms\n",
      "795:\tlearn: 416732.8209270\ttotal: 1.47s\tremaining: 378ms\n",
      "796:\tlearn: 416649.7747443\ttotal: 1.48s\tremaining: 376ms\n",
      "797:\tlearn: 416598.2973645\ttotal: 1.48s\tremaining: 374ms\n",
      "798:\tlearn: 416522.7116492\ttotal: 1.48s\tremaining: 372ms\n",
      "799:\tlearn: 416430.5392557\ttotal: 1.48s\tremaining: 370ms\n",
      "800:\tlearn: 416373.5354637\ttotal: 1.48s\tremaining: 368ms\n",
      "801:\tlearn: 416289.5723938\ttotal: 1.48s\tremaining: 367ms\n",
      "802:\tlearn: 416260.0908822\ttotal: 1.49s\tremaining: 365ms\n",
      "803:\tlearn: 416231.4097236\ttotal: 1.49s\tremaining: 363ms\n",
      "804:\tlearn: 416154.8420013\ttotal: 1.49s\tremaining: 361ms\n",
      "805:\tlearn: 415968.2391636\ttotal: 1.49s\tremaining: 359ms\n",
      "806:\tlearn: 415898.4915051\ttotal: 1.49s\tremaining: 357ms\n",
      "807:\tlearn: 415847.2433284\ttotal: 1.5s\tremaining: 355ms\n",
      "808:\tlearn: 415818.7966884\ttotal: 1.5s\tremaining: 353ms\n",
      "809:\tlearn: 415756.1768213\ttotal: 1.5s\tremaining: 352ms\n",
      "810:\tlearn: 415729.1209726\ttotal: 1.5s\tremaining: 350ms\n",
      "811:\tlearn: 415697.6848126\ttotal: 1.5s\tremaining: 348ms\n",
      "812:\tlearn: 415522.9147875\ttotal: 1.5s\tremaining: 346ms\n",
      "813:\tlearn: 415389.9488027\ttotal: 1.5s\tremaining: 344ms\n",
      "814:\tlearn: 415326.0351757\ttotal: 1.51s\tremaining: 342ms\n",
      "815:\tlearn: 415231.7112221\ttotal: 1.51s\tremaining: 340ms\n",
      "816:\tlearn: 415202.4673123\ttotal: 1.51s\tremaining: 338ms\n",
      "817:\tlearn: 415071.1336581\ttotal: 1.51s\tremaining: 337ms\n",
      "818:\tlearn: 414943.2375086\ttotal: 1.51s\tremaining: 335ms\n",
      "819:\tlearn: 414917.0292832\ttotal: 1.52s\tremaining: 333ms\n",
      "820:\tlearn: 414868.8529487\ttotal: 1.52s\tremaining: 331ms\n",
      "821:\tlearn: 414706.1522871\ttotal: 1.52s\tremaining: 329ms\n",
      "822:\tlearn: 414647.5287240\ttotal: 1.52s\tremaining: 327ms\n",
      "823:\tlearn: 414576.5037744\ttotal: 1.52s\tremaining: 325ms\n",
      "824:\tlearn: 414548.4930989\ttotal: 1.52s\tremaining: 324ms\n",
      "825:\tlearn: 414500.9994567\ttotal: 1.53s\tremaining: 322ms\n",
      "826:\tlearn: 414419.4540781\ttotal: 1.53s\tremaining: 320ms\n",
      "827:\tlearn: 414400.3790019\ttotal: 1.53s\tremaining: 318ms\n",
      "828:\tlearn: 414371.9494700\ttotal: 1.53s\tremaining: 316ms\n",
      "829:\tlearn: 414213.6591997\ttotal: 1.53s\tremaining: 314ms\n",
      "830:\tlearn: 414130.8279555\ttotal: 1.54s\tremaining: 313ms\n",
      "831:\tlearn: 414085.9997200\ttotal: 1.54s\tremaining: 311ms\n",
      "832:\tlearn: 413866.7101292\ttotal: 1.54s\tremaining: 309ms\n",
      "833:\tlearn: 413801.4056229\ttotal: 1.54s\tremaining: 307ms\n",
      "834:\tlearn: 413739.9810511\ttotal: 1.54s\tremaining: 305ms\n",
      "835:\tlearn: 413681.4276814\ttotal: 1.54s\tremaining: 303ms\n",
      "836:\tlearn: 413619.8494777\ttotal: 1.55s\tremaining: 301ms\n",
      "837:\tlearn: 413533.2580328\ttotal: 1.55s\tremaining: 299ms\n",
      "838:\tlearn: 413424.3127255\ttotal: 1.55s\tremaining: 298ms\n",
      "839:\tlearn: 413365.4883234\ttotal: 1.55s\tremaining: 296ms\n",
      "840:\tlearn: 413337.2712301\ttotal: 1.55s\tremaining: 294ms\n",
      "841:\tlearn: 413281.2246129\ttotal: 1.55s\tremaining: 292ms\n",
      "842:\tlearn: 413247.0975240\ttotal: 1.56s\tremaining: 290ms\n",
      "843:\tlearn: 413204.4259091\ttotal: 1.56s\tremaining: 288ms\n",
      "844:\tlearn: 413154.5140890\ttotal: 1.56s\tremaining: 286ms\n",
      "845:\tlearn: 413096.2086719\ttotal: 1.56s\tremaining: 284ms\n",
      "846:\tlearn: 413039.1242688\ttotal: 1.56s\tremaining: 283ms\n",
      "847:\tlearn: 412985.9535764\ttotal: 1.56s\tremaining: 281ms\n",
      "848:\tlearn: 412956.7113603\ttotal: 1.57s\tremaining: 279ms\n",
      "849:\tlearn: 412914.5523676\ttotal: 1.57s\tremaining: 277ms\n",
      "850:\tlearn: 412895.2235832\ttotal: 1.57s\tremaining: 275ms\n",
      "851:\tlearn: 412862.8373684\ttotal: 1.57s\tremaining: 273ms\n",
      "852:\tlearn: 412838.0178957\ttotal: 1.57s\tremaining: 271ms\n",
      "853:\tlearn: 412792.6933476\ttotal: 1.57s\tremaining: 269ms\n",
      "854:\tlearn: 412766.4758706\ttotal: 1.58s\tremaining: 268ms\n",
      "855:\tlearn: 412735.4960914\ttotal: 1.58s\tremaining: 266ms\n",
      "856:\tlearn: 412608.0953191\ttotal: 1.58s\tremaining: 264ms\n",
      "857:\tlearn: 412553.0281130\ttotal: 1.58s\tremaining: 262ms\n",
      "858:\tlearn: 412508.9586416\ttotal: 1.58s\tremaining: 260ms\n",
      "859:\tlearn: 412427.5582134\ttotal: 1.58s\tremaining: 258ms\n",
      "860:\tlearn: 412376.3962769\ttotal: 1.59s\tremaining: 256ms\n",
      "861:\tlearn: 412338.7749082\ttotal: 1.59s\tremaining: 254ms\n",
      "862:\tlearn: 412238.6974794\ttotal: 1.59s\tremaining: 253ms\n",
      "863:\tlearn: 412163.1584184\ttotal: 1.59s\tremaining: 251ms\n",
      "864:\tlearn: 411992.0405231\ttotal: 1.59s\tremaining: 249ms\n",
      "865:\tlearn: 411876.4693869\ttotal: 1.59s\tremaining: 247ms\n",
      "866:\tlearn: 411836.3514048\ttotal: 1.6s\tremaining: 245ms\n",
      "867:\tlearn: 411800.3438410\ttotal: 1.6s\tremaining: 243ms\n",
      "868:\tlearn: 411725.7919602\ttotal: 1.6s\tremaining: 241ms\n",
      "869:\tlearn: 411675.7595153\ttotal: 1.6s\tremaining: 239ms\n",
      "870:\tlearn: 411571.5924662\ttotal: 1.6s\tremaining: 238ms\n",
      "871:\tlearn: 411509.5292002\ttotal: 1.6s\tremaining: 236ms\n",
      "872:\tlearn: 411467.0689377\ttotal: 1.61s\tremaining: 234ms\n",
      "873:\tlearn: 411352.2964720\ttotal: 1.61s\tremaining: 232ms\n",
      "874:\tlearn: 411314.3457795\ttotal: 1.61s\tremaining: 230ms\n",
      "875:\tlearn: 411259.3725610\ttotal: 1.61s\tremaining: 228ms\n",
      "876:\tlearn: 411106.4241021\ttotal: 1.61s\tremaining: 226ms\n",
      "877:\tlearn: 411076.2269697\ttotal: 1.62s\tremaining: 225ms\n",
      "878:\tlearn: 411040.7127740\ttotal: 1.62s\tremaining: 223ms\n",
      "879:\tlearn: 411001.2144004\ttotal: 1.62s\tremaining: 221ms\n",
      "880:\tlearn: 410977.7373628\ttotal: 1.62s\tremaining: 219ms\n",
      "881:\tlearn: 410926.4239289\ttotal: 1.62s\tremaining: 217ms\n",
      "882:\tlearn: 410761.5303060\ttotal: 1.62s\tremaining: 215ms\n",
      "883:\tlearn: 410604.9620887\ttotal: 1.63s\tremaining: 213ms\n",
      "884:\tlearn: 410576.7946603\ttotal: 1.63s\tremaining: 212ms\n",
      "885:\tlearn: 410515.7900448\ttotal: 1.63s\tremaining: 210ms\n",
      "886:\tlearn: 410468.5852686\ttotal: 1.63s\tremaining: 208ms\n",
      "887:\tlearn: 410429.7885102\ttotal: 1.63s\tremaining: 206ms\n",
      "888:\tlearn: 410380.8016264\ttotal: 1.64s\tremaining: 204ms\n",
      "889:\tlearn: 410274.5896138\ttotal: 1.64s\tremaining: 202ms\n",
      "890:\tlearn: 410220.9348798\ttotal: 1.64s\tremaining: 200ms\n",
      "891:\tlearn: 410202.4023310\ttotal: 1.64s\tremaining: 199ms\n",
      "892:\tlearn: 410106.7931632\ttotal: 1.64s\tremaining: 197ms\n",
      "893:\tlearn: 410071.9896280\ttotal: 1.64s\tremaining: 195ms\n",
      "894:\tlearn: 410034.8927803\ttotal: 1.65s\tremaining: 193ms\n",
      "895:\tlearn: 410008.9420110\ttotal: 1.65s\tremaining: 191ms\n",
      "896:\tlearn: 409967.5129779\ttotal: 1.65s\tremaining: 189ms\n",
      "897:\tlearn: 409912.8534208\ttotal: 1.65s\tremaining: 187ms\n",
      "898:\tlearn: 409841.4808564\ttotal: 1.65s\tremaining: 186ms\n",
      "899:\tlearn: 409773.1328067\ttotal: 1.65s\tremaining: 184ms\n",
      "900:\tlearn: 409669.6235228\ttotal: 1.66s\tremaining: 182ms\n",
      "901:\tlearn: 409492.7689830\ttotal: 1.66s\tremaining: 180ms\n",
      "902:\tlearn: 409442.1234346\ttotal: 1.66s\tremaining: 178ms\n",
      "903:\tlearn: 409360.0639377\ttotal: 1.66s\tremaining: 176ms\n",
      "904:\tlearn: 409254.9962335\ttotal: 1.66s\tremaining: 175ms\n",
      "905:\tlearn: 409231.5775645\ttotal: 1.66s\tremaining: 173ms\n",
      "906:\tlearn: 409176.4565818\ttotal: 1.67s\tremaining: 171ms\n",
      "907:\tlearn: 408857.8357078\ttotal: 1.67s\tremaining: 169ms\n",
      "908:\tlearn: 408801.0698263\ttotal: 1.67s\tremaining: 167ms\n",
      "909:\tlearn: 408750.8466612\ttotal: 1.67s\tremaining: 165ms\n",
      "910:\tlearn: 408672.4756215\ttotal: 1.67s\tremaining: 163ms\n",
      "911:\tlearn: 408539.1746963\ttotal: 1.67s\tremaining: 162ms\n",
      "912:\tlearn: 408508.2841960\ttotal: 1.68s\tremaining: 160ms\n",
      "913:\tlearn: 408446.8300944\ttotal: 1.68s\tremaining: 158ms\n",
      "914:\tlearn: 408362.3840186\ttotal: 1.68s\tremaining: 156ms\n",
      "915:\tlearn: 408307.7846129\ttotal: 1.68s\tremaining: 154ms\n",
      "916:\tlearn: 408255.5236767\ttotal: 1.68s\tremaining: 152ms\n"
     ]
    },
    {
     "name": "stdout",
     "output_type": "stream",
     "text": [
      "917:\tlearn: 408223.9626728\ttotal: 1.69s\tremaining: 151ms\n",
      "918:\tlearn: 408190.8831486\ttotal: 1.69s\tremaining: 149ms\n",
      "919:\tlearn: 408089.5193150\ttotal: 1.69s\tremaining: 147ms\n",
      "920:\tlearn: 408023.1888096\ttotal: 1.69s\tremaining: 145ms\n",
      "921:\tlearn: 407958.4569243\ttotal: 1.69s\tremaining: 143ms\n",
      "922:\tlearn: 407918.0024312\ttotal: 1.69s\tremaining: 141ms\n",
      "923:\tlearn: 407861.7658617\ttotal: 1.7s\tremaining: 140ms\n",
      "924:\tlearn: 407797.1854398\ttotal: 1.7s\tremaining: 138ms\n",
      "925:\tlearn: 407731.9161221\ttotal: 1.7s\tremaining: 136ms\n",
      "926:\tlearn: 407671.2364798\ttotal: 1.7s\tremaining: 134ms\n",
      "927:\tlearn: 407579.7147728\ttotal: 1.7s\tremaining: 132ms\n",
      "928:\tlearn: 407537.1446556\ttotal: 1.71s\tremaining: 130ms\n",
      "929:\tlearn: 407468.6986481\ttotal: 1.71s\tremaining: 129ms\n",
      "930:\tlearn: 407444.2821632\ttotal: 1.71s\tremaining: 127ms\n",
      "931:\tlearn: 407369.9691003\ttotal: 1.71s\tremaining: 125ms\n",
      "932:\tlearn: 407294.1685401\ttotal: 1.71s\tremaining: 123ms\n",
      "933:\tlearn: 407263.3669994\ttotal: 1.72s\tremaining: 121ms\n",
      "934:\tlearn: 407224.5463790\ttotal: 1.72s\tremaining: 119ms\n",
      "935:\tlearn: 407175.8864314\ttotal: 1.72s\tremaining: 118ms\n",
      "936:\tlearn: 407146.3944651\ttotal: 1.72s\tremaining: 116ms\n",
      "937:\tlearn: 407129.0954148\ttotal: 1.72s\tremaining: 114ms\n",
      "938:\tlearn: 407109.0278511\ttotal: 1.72s\tremaining: 112ms\n",
      "939:\tlearn: 407037.9195790\ttotal: 1.73s\tremaining: 110ms\n",
      "940:\tlearn: 406995.7527070\ttotal: 1.73s\tremaining: 108ms\n",
      "941:\tlearn: 406942.0101551\ttotal: 1.73s\tremaining: 106ms\n",
      "942:\tlearn: 406881.1558768\ttotal: 1.73s\tremaining: 105ms\n",
      "943:\tlearn: 406832.2648137\ttotal: 1.73s\tremaining: 103ms\n",
      "944:\tlearn: 406809.1284780\ttotal: 1.73s\tremaining: 101ms\n",
      "945:\tlearn: 406771.7375947\ttotal: 1.74s\tremaining: 99.1ms\n",
      "946:\tlearn: 406493.1961706\ttotal: 1.74s\tremaining: 97.3ms\n",
      "947:\tlearn: 406444.4286161\ttotal: 1.74s\tremaining: 95.4ms\n",
      "948:\tlearn: 406383.5524255\ttotal: 1.74s\tremaining: 93.6ms\n",
      "949:\tlearn: 406345.8825342\ttotal: 1.75s\tremaining: 91.9ms\n",
      "950:\tlearn: 406309.7690297\ttotal: 1.75s\tremaining: 90ms\n",
      "951:\tlearn: 406280.2030504\ttotal: 1.75s\tremaining: 88.2ms\n",
      "952:\tlearn: 406238.5572856\ttotal: 1.75s\tremaining: 86.4ms\n",
      "953:\tlearn: 406109.5477724\ttotal: 1.75s\tremaining: 84.5ms\n",
      "954:\tlearn: 406066.4137318\ttotal: 1.75s\tremaining: 82.7ms\n",
      "955:\tlearn: 405996.8966397\ttotal: 1.76s\tremaining: 80.8ms\n",
      "956:\tlearn: 405937.5883623\ttotal: 1.76s\tremaining: 79ms\n",
      "957:\tlearn: 405828.6988588\ttotal: 1.76s\tremaining: 77.2ms\n",
      "958:\tlearn: 405732.6016627\ttotal: 1.76s\tremaining: 75.3ms\n",
      "959:\tlearn: 405699.4165258\ttotal: 1.76s\tremaining: 73.5ms\n",
      "960:\tlearn: 405643.9229403\ttotal: 1.76s\tremaining: 71.6ms\n",
      "961:\tlearn: 405615.5633264\ttotal: 1.77s\tremaining: 69.8ms\n",
      "962:\tlearn: 405553.2892731\ttotal: 1.77s\tremaining: 68ms\n",
      "963:\tlearn: 405517.6682142\ttotal: 1.77s\tremaining: 66.1ms\n",
      "964:\tlearn: 405480.4678444\ttotal: 1.77s\tremaining: 64.3ms\n",
      "965:\tlearn: 405432.3947230\ttotal: 1.77s\tremaining: 62.5ms\n",
      "966:\tlearn: 405386.5799843\ttotal: 1.78s\tremaining: 60.7ms\n",
      "967:\tlearn: 405366.7823702\ttotal: 1.78s\tremaining: 58.8ms\n",
      "968:\tlearn: 405301.7913651\ttotal: 1.78s\tremaining: 57ms\n",
      "969:\tlearn: 405272.8881624\ttotal: 1.78s\tremaining: 55.1ms\n",
      "970:\tlearn: 405254.8583321\ttotal: 1.78s\tremaining: 53.3ms\n",
      "971:\tlearn: 405217.9356016\ttotal: 1.79s\tremaining: 51.5ms\n",
      "972:\tlearn: 405196.1903153\ttotal: 1.79s\tremaining: 49.6ms\n",
      "973:\tlearn: 405161.1903304\ttotal: 1.79s\tremaining: 47.8ms\n",
      "974:\tlearn: 405100.2783469\ttotal: 1.79s\tremaining: 46ms\n",
      "975:\tlearn: 405030.1714972\ttotal: 1.79s\tremaining: 44.1ms\n",
      "976:\tlearn: 405002.8678749\ttotal: 1.8s\tremaining: 42.3ms\n",
      "977:\tlearn: 404876.6412882\ttotal: 1.8s\tremaining: 40.5ms\n",
      "978:\tlearn: 404816.2191242\ttotal: 1.8s\tremaining: 38.6ms\n",
      "979:\tlearn: 404769.5587747\ttotal: 1.8s\tremaining: 36.8ms\n",
      "980:\tlearn: 404665.8528970\ttotal: 1.8s\tremaining: 35ms\n",
      "981:\tlearn: 404626.4512712\ttotal: 1.81s\tremaining: 33.1ms\n",
      "982:\tlearn: 404591.3701838\ttotal: 1.81s\tremaining: 31.3ms\n",
      "983:\tlearn: 404560.6446383\ttotal: 1.81s\tremaining: 29.4ms\n",
      "984:\tlearn: 404520.3827991\ttotal: 1.81s\tremaining: 27.6ms\n",
      "985:\tlearn: 404471.0456000\ttotal: 1.81s\tremaining: 25.8ms\n",
      "986:\tlearn: 404400.5132243\ttotal: 1.82s\tremaining: 23.9ms\n",
      "987:\tlearn: 404371.7334708\ttotal: 1.82s\tremaining: 22.1ms\n",
      "988:\tlearn: 404325.8577568\ttotal: 1.82s\tremaining: 20.3ms\n",
      "989:\tlearn: 404260.2364649\ttotal: 1.82s\tremaining: 18.4ms\n",
      "990:\tlearn: 404191.2175481\ttotal: 1.82s\tremaining: 16.6ms\n",
      "991:\tlearn: 404147.1952394\ttotal: 1.83s\tremaining: 14.7ms\n",
      "992:\tlearn: 404108.6217183\ttotal: 1.83s\tremaining: 12.9ms\n",
      "993:\tlearn: 403836.5745110\ttotal: 1.83s\tremaining: 11ms\n",
      "994:\tlearn: 403793.1119380\ttotal: 1.83s\tremaining: 9.21ms\n",
      "995:\tlearn: 403658.3735957\ttotal: 1.83s\tremaining: 7.37ms\n",
      "996:\tlearn: 403629.2805219\ttotal: 1.84s\tremaining: 5.53ms\n",
      "997:\tlearn: 403474.7819799\ttotal: 1.84s\tremaining: 3.68ms\n",
      "998:\tlearn: 403406.7170701\ttotal: 1.84s\tremaining: 1.84ms\n",
      "999:\tlearn: 403360.6870596\ttotal: 1.84s\tremaining: 0us\n"
     ]
    },
    {
     "data": {
      "text/plain": [
       "array([1170492.69948895, 2249182.84666031, 2971417.83428377, ...,\n",
       "       3547639.16376599, 3041401.31400998, 1854223.6526323 ])"
      ]
     },
     "execution_count": 86,
     "metadata": {},
     "output_type": "execute_result"
    }
   ],
   "source": [
    "# calling the model function\n",
    "catb_model= CatBoostRegressor()\n",
    "\n",
    "#training/ fitting the model on the X_train, y_train data\n",
    "catb_model.fit(X_train, y_train)\n",
    "\n",
    "#making the prediction on part of the train data\n",
    "catb_pred= catb_model.predict(X_test)\n",
    "\n",
    "# printing the prediction\n",
    "\n",
    "catb_pred"
   ]
  },
  {
   "cell_type": "markdown",
   "id": "434a247f",
   "metadata": {},
   "source": [
    "\n",
    "\n",
    "# calling the model function\n",
    "log_reg= LogisticRegression()\n",
    "\n",
    "#training/ fitting the model on the X_train, y_train data\n",
    "log_reg.fit(X_train, y_train)\n",
    "\n",
    "#making the prediction on part of the train data\n",
    "lr_pred= log_reg.predict(X_test)\n",
    "\n",
    "# printing the prediction\n",
    "\n",
    "lr_pred"
   ]
  },
  {
   "cell_type": "code",
   "execution_count": 104,
   "id": "9b1faa65",
   "metadata": {},
   "outputs": [],
   "source": [
    "# creating copy of test_df to predict\n",
    "toPredict= test_df.copy()\n",
    "\n",
    "#running the model\n",
    "model3=lightb_model.predict(test_df)\n",
    "\n",
    "#converting the price prediction to a column\n",
    "toPredict['price']= model4\n",
    "\n",
    "#selecting the needed columns as seen in sample submission\n",
    "model_sub4= toPredict[['ID', 'price']]\n",
    "\n",
    "#converting dataframe back to csv file\n",
    "modelsub4.to_csv('model_sub4.csv', index= False)"
   ]
  },
  {
   "cell_type": "code",
   "execution_count": 60,
   "id": "b39ad9d5",
   "metadata": {},
   "outputs": [
    {
     "data": {
      "text/plain": [
       "array([2428413.49158666, 1022473.07654151, 1281242.85242438, ...,\n",
       "       1943784.0407785 , 1501836.64471796, 3263713.72626116])"
      ]
     },
     "execution_count": 60,
     "metadata": {},
     "output_type": "execute_result"
    }
   ],
   "source": [
    "model3"
   ]
  },
  {
   "cell_type": "code",
   "execution_count": 105,
   "id": "794ab6db",
   "metadata": {},
   "outputs": [],
   "source": [
    "test_df['price']=model3"
   ]
  },
  {
   "cell_type": "code",
   "execution_count": 76,
   "id": "37f1963c",
   "metadata": {},
   "outputs": [
    {
     "data": {
      "text/html": [
       "<div>\n",
       "<style scoped>\n",
       "    .dataframe tbody tr th:only-of-type {\n",
       "        vertical-align: middle;\n",
       "    }\n",
       "\n",
       "    .dataframe tbody tr th {\n",
       "        vertical-align: top;\n",
       "    }\n",
       "\n",
       "    .dataframe thead th {\n",
       "        text-align: right;\n",
       "    }\n",
       "</style>\n",
       "<table border=\"1\" class=\"dataframe\">\n",
       "  <thead>\n",
       "    <tr style=\"text-align: right;\">\n",
       "      <th></th>\n",
       "      <th>ID</th>\n",
       "      <th>loc</th>\n",
       "      <th>title</th>\n",
       "      <th>bedroom</th>\n",
       "      <th>bathroom</th>\n",
       "      <th>parking_space</th>\n",
       "      <th>price</th>\n",
       "    </tr>\n",
       "  </thead>\n",
       "  <tbody>\n",
       "    <tr>\n",
       "      <th>0</th>\n",
       "      <td>845</td>\n",
       "      <td>0.028492</td>\n",
       "      <td>9</td>\n",
       "      <td>4.0</td>\n",
       "      <td>1.0</td>\n",
       "      <td>2.0</td>\n",
       "      <td>2.376612e+06</td>\n",
       "    </tr>\n",
       "    <tr>\n",
       "      <th>1</th>\n",
       "      <td>1924</td>\n",
       "      <td>0.027827</td>\n",
       "      <td>3</td>\n",
       "      <td>2.0</td>\n",
       "      <td>2.0</td>\n",
       "      <td>4.0</td>\n",
       "      <td>1.031066e+06</td>\n",
       "    </tr>\n",
       "    <tr>\n",
       "      <th>2</th>\n",
       "      <td>10718</td>\n",
       "      <td>0.027827</td>\n",
       "      <td>8</td>\n",
       "      <td>2.0</td>\n",
       "      <td>7.0</td>\n",
       "      <td>2.0</td>\n",
       "      <td>1.237434e+06</td>\n",
       "    </tr>\n",
       "    <tr>\n",
       "      <th>3</th>\n",
       "      <td>12076</td>\n",
       "      <td>0.027101</td>\n",
       "      <td>10</td>\n",
       "      <td>9.0</td>\n",
       "      <td>5.0</td>\n",
       "      <td>2.0</td>\n",
       "      <td>4.481267e+06</td>\n",
       "    </tr>\n",
       "    <tr>\n",
       "      <th>4</th>\n",
       "      <td>12254</td>\n",
       "      <td>0.027464</td>\n",
       "      <td>6</td>\n",
       "      <td>5.0</td>\n",
       "      <td>6.0</td>\n",
       "      <td>1.0</td>\n",
       "      <td>1.954795e+06</td>\n",
       "    </tr>\n",
       "  </tbody>\n",
       "</table>\n",
       "</div>"
      ],
      "text/plain": [
       "      ID       loc  title  bedroom  bathroom  parking_space         price\n",
       "0    845  0.028492      9      4.0       1.0            2.0  2.376612e+06\n",
       "1   1924  0.027827      3      2.0       2.0            4.0  1.031066e+06\n",
       "2  10718  0.027827      8      2.0       7.0            2.0  1.237434e+06\n",
       "3  12076  0.027101     10      9.0       5.0            2.0  4.481267e+06\n",
       "4  12254  0.027464      6      5.0       6.0            1.0  1.954795e+06"
      ]
     },
     "execution_count": 76,
     "metadata": {},
     "output_type": "execute_result"
    }
   ],
   "source": [
    "test_df.head()"
   ]
  },
  {
   "cell_type": "code",
   "execution_count": 106,
   "id": "206e7f6f",
   "metadata": {},
   "outputs": [],
   "source": [
    "model_sub3= test_df[['ID', 'price']]"
   ]
  },
  {
   "cell_type": "code",
   "execution_count": 107,
   "id": "58a466d7",
   "metadata": {},
   "outputs": [
    {
     "data": {
      "text/html": [
       "<div>\n",
       "<style scoped>\n",
       "    .dataframe tbody tr th:only-of-type {\n",
       "        vertical-align: middle;\n",
       "    }\n",
       "\n",
       "    .dataframe tbody tr th {\n",
       "        vertical-align: top;\n",
       "    }\n",
       "\n",
       "    .dataframe thead th {\n",
       "        text-align: right;\n",
       "    }\n",
       "</style>\n",
       "<table border=\"1\" class=\"dataframe\">\n",
       "  <thead>\n",
       "    <tr style=\"text-align: right;\">\n",
       "      <th></th>\n",
       "      <th>ID</th>\n",
       "      <th>price</th>\n",
       "    </tr>\n",
       "  </thead>\n",
       "  <tbody>\n",
       "    <tr>\n",
       "      <th>0</th>\n",
       "      <td>845</td>\n",
       "      <td>2.311168e+06</td>\n",
       "    </tr>\n",
       "    <tr>\n",
       "      <th>1</th>\n",
       "      <td>1924</td>\n",
       "      <td>1.026541e+06</td>\n",
       "    </tr>\n",
       "    <tr>\n",
       "      <th>2</th>\n",
       "      <td>10718</td>\n",
       "      <td>1.325142e+06</td>\n",
       "    </tr>\n",
       "    <tr>\n",
       "      <th>3</th>\n",
       "      <td>12076</td>\n",
       "      <td>6.428314e+06</td>\n",
       "    </tr>\n",
       "    <tr>\n",
       "      <th>4</th>\n",
       "      <td>12254</td>\n",
       "      <td>2.016897e+06</td>\n",
       "    </tr>\n",
       "  </tbody>\n",
       "</table>\n",
       "</div>"
      ],
      "text/plain": [
       "      ID         price\n",
       "0    845  2.311168e+06\n",
       "1   1924  1.026541e+06\n",
       "2  10718  1.325142e+06\n",
       "3  12076  6.428314e+06\n",
       "4  12254  2.016897e+06"
      ]
     },
     "execution_count": 107,
     "metadata": {},
     "output_type": "execute_result"
    }
   ],
   "source": [
    "model_sub3.head()"
   ]
  },
  {
   "cell_type": "code",
   "execution_count": null,
   "id": "9b8dfd8f",
   "metadata": {},
   "outputs": [],
   "source": []
  },
  {
   "cell_type": "markdown",
   "id": "3738b935",
   "metadata": {},
   "source": [
    "### Testing model"
   ]
  },
  {
   "cell_type": "markdown",
   "id": "7b3a8935",
   "metadata": {},
   "source": [
    "### Saving submission file"
   ]
  },
  {
   "cell_type": "code",
   "execution_count": 108,
   "id": "b5409e29",
   "metadata": {},
   "outputs": [],
   "source": [
    "\n",
    "model_sub3.to_csv('model_sub3.csv', index=False)"
   ]
  },
  {
   "cell_type": "code",
   "execution_count": null,
   "id": "896d9836",
   "metadata": {},
   "outputs": [],
   "source": []
  }
 ],
 "metadata": {
  "kernelspec": {
   "display_name": "Python 3 (ipykernel)",
   "language": "python",
   "name": "python3"
  },
  "language_info": {
   "codemirror_mode": {
    "name": "ipython",
    "version": 3
   },
   "file_extension": ".py",
   "mimetype": "text/x-python",
   "name": "python",
   "nbconvert_exporter": "python",
   "pygments_lexer": "ipython3",
   "version": "3.9.12"
  }
 },
 "nbformat": 4,
 "nbformat_minor": 5
}
